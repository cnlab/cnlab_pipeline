{
 "cells": [
  {
   "cell_type": "code",
   "execution_count": 1,
   "metadata": {},
   "outputs": [],
   "source": [
    "%matplotlib inline"
   ]
  },
  {
   "cell_type": "code",
   "execution_count": 2,
   "metadata": {},
   "outputs": [],
   "source": [
    "resolution='medium'\n",
    "PROJECT_NAME='alcohol'\n",
    "TASK_NAME='TASK'\n",
    "smoothing=[8]"
   ]
  },
  {
   "cell_type": "code",
   "execution_count": 3,
   "metadata": {},
   "outputs": [],
   "source": [
    "PATH_TO_SPM_FOLDER = '/data00/tools/spm12mega'"
   ]
  },
  {
   "cell_type": "code",
   "execution_count": 4,
   "metadata": {},
   "outputs": [],
   "source": [
    "include_subjects = ['sub-AS16']\n",
    "#exclude_subjects=['sub-1001','sub-1039', 'sub-1040', 'sub-1041']"
   ]
  },
  {
   "cell_type": "code",
   "execution_count": 5,
   "metadata": {},
   "outputs": [
    {
     "name": "stdout",
     "output_type": "stream",
     "text": [
      "200616-09:46:52,936 nipype.utils INFO:\n",
      "\t Running nipype version 1.4.2 (latest: 1.5.0)\n"
     ]
    },
    {
     "name": "stderr",
     "output_type": "stream",
     "text": [
      "/data00/projects/megameta/scripts/jupyter_megameta/cnlab/GLM/smooth_resample_EXTERNAL_DATA.ipynb:16: FutureWarning: \n",
      "\n",
      " | Starting with Nilearn 0.7.0, all Nistats functionality has been incorporated into Nilearn's stats & reporting modules.\n",
      " | Nistats package will no longer be updated or maintained.\n",
      "\n",
      "  \"* 3/23/19 mbod - include contrast definition in the config JSON file\\n\",\n"
     ]
    },
    {
     "name": "stdout",
     "output_type": "stream",
     "text": [
      "\n",
      "\n",
      "No subject exclusions applied\n",
      "\n",
      "\n",
      "Applied subject inclusion list:\n",
      "\t sub-PP49 sub-PP53\n",
      "\n",
      "\n",
      "SUBJECT LIST IS:\n",
      "\t sub-PP49 sub-PP53\n",
      "200616-09:46:56,457 nipype.workflow INFO:\n",
      "\t Workflow preprocessing_steps settings: ['check', 'execution', 'logging', 'monitoring']\n",
      "200616-09:46:57,291 nipype.workflow INFO:\n",
      "\t Running serially.\n",
      "200616-09:46:57,293 nipype.workflow INFO:\n",
      "\t [Node] Setting-up \"preprocessing_steps.selectfiles\" in \"/fmriNASTest/data00/projects/megameta/rsm_tvc35/working/nipype/workingdir_preproc_TVC/preprocessing_steps/_resolution_..data00..projects..megameta..templates..reference_medium_wad.nii_subject_id_sub-PP53/selectfiles\".\n",
      "200616-09:46:58,167 nipype.workflow INFO:\n",
      "\t [Node] Running \"selectfiles\" (\"nipype.interfaces.io.SelectFiles\")\n",
      "200616-09:46:58,361 nipype.workflow INFO:\n",
      "\t [Node] Finished \"preprocessing_steps.selectfiles\".\n",
      "200616-09:46:58,363 nipype.workflow INFO:\n",
      "\t [Node] Setting-up \"preprocessing_steps.unzip_resample_and_smooth.gunzip\" in \"/fmriNASTest/data00/projects/megameta/rsm_tvc35/working/nipype/workingdir_preproc_TVC/preprocessing_steps/unzip_resample_and_smooth/_resolution_..data00..projects..megameta..templates..reference_medium_wad.nii_subject_id_sub-PP53/gunzip\".\n",
      "200616-09:46:58,433 nipype.workflow INFO:\n",
      "\t [Node] \"preprocessing_steps.unzip_resample_and_smooth.gunzip\" found cached.\n",
      "200616-09:46:58,434 nipype.workflow INFO:\n",
      "\t [Node] Setting-up \"preprocessing_steps.unzip_resample_and_smooth.resample\" in \"/fmriNASTest/data00/projects/megameta/rsm_tvc35/working/nipype/workingdir_preproc_TVC/preprocessing_steps/unzip_resample_and_smooth/_resolution_..data00..projects..megameta..templates..reference_medium_wad.nii_subject_id_sub-PP53/resample\".\n",
      "200616-09:46:58,467 nipype.workflow INFO:\n",
      "\t [Node] \"preprocessing_steps.unzip_resample_and_smooth.resample\" found cached.\n",
      "200616-09:46:58,468 nipype.workflow INFO:\n",
      "\t [Node] Setting-up \"preprocessing_steps.unzip_resample_and_smooth.smooth\" in \"/fmriNASTest/data00/projects/megameta/rsm_tvc35/working/nipype/workingdir_preproc_TVC/preprocessing_steps/unzip_resample_and_smooth/_resolution_..data00..projects..megameta..templates..reference_medium_wad.nii_subject_id_sub-PP53/_fwhm_8/smooth\".\n",
      "200616-09:46:58,532 nipype.workflow INFO:\n",
      "\t [Node] Cached \"preprocessing_steps.unzip_resample_and_smooth.smooth\" - collecting precomputed outputs\n",
      "200616-09:46:58,533 nipype.workflow INFO:\n",
      "\t [Node] \"preprocessing_steps.unzip_resample_and_smooth.smooth\" found cached.\n",
      "200616-09:46:58,534 nipype.workflow INFO:\n",
      "\t [Node] Setting-up \"preprocessing_steps.pp_datasink\" in \"/fmriNASTest/data00/projects/megameta/rsm_tvc35/working/nipype/workingdir_preproc_TVC/preprocessing_steps/_resolution_..data00..projects..megameta..templates..reference_medium_wad.nii_subject_id_sub-PP53/_fwhm_8/pp_datasink\".\n",
      "200616-09:46:59,125 nipype.workflow INFO:\n",
      "\t [Node] Running \"pp_datasink\" (\"nipype.interfaces.io.DataSink\")\n",
      "200616-09:46:59,141 nipype.interface INFO:\n",
      "\t sub: /data00/projects/megameta/rsm_tvc35/derivatives/nipype/resampled_and_smoothed/sub-PP53/_resolution_..data00..projects..megameta..templates..reference_medium_wad.nii_subject_id_sub-PP53/_fwhm_8/srsub-PP53_task-TVC_space-MNI152NLin2009cAsym_desc-preproc_bold.nii -> /data00/projects/megameta/rsm_tvc35/derivatives/nipype/resampled_and_smoothed/sub-PP53/medium/fwhm_8/srsub-PP53_task-TVC_space-MNI152NLin2009cAsym_desc-preproc_bold.nii\n",
      "200616-09:46:59,323 nipype.workflow INFO:\n",
      "\t [Node] Finished \"preprocessing_steps.pp_datasink\".\n",
      "200616-09:46:59,324 nipype.workflow INFO:\n",
      "\t [Node] Setting-up \"preprocessing_steps.selectfiles\" in \"/fmriNASTest/data00/projects/megameta/rsm_tvc35/working/nipype/workingdir_preproc_TVC/preprocessing_steps/_resolution_..data00..projects..megameta..templates..reference_medium_wad.nii_subject_id_sub-PP49/selectfiles\".\n",
      "200616-09:46:59,923 nipype.workflow INFO:\n",
      "\t [Node] Running \"selectfiles\" (\"nipype.interfaces.io.SelectFiles\")\n",
      "200616-09:47:00,30 nipype.workflow INFO:\n",
      "\t [Node] Finished \"preprocessing_steps.selectfiles\".\n",
      "200616-09:47:00,31 nipype.workflow INFO:\n",
      "\t [Node] Setting-up \"preprocessing_steps.unzip_resample_and_smooth.gunzip\" in \"/fmriNASTest/data00/projects/megameta/rsm_tvc35/working/nipype/workingdir_preproc_TVC/preprocessing_steps/unzip_resample_and_smooth/_resolution_..data00..projects..megameta..templates..reference_medium_wad.nii_subject_id_sub-PP49/gunzip\".\n",
      "200616-09:47:00,122 nipype.workflow INFO:\n",
      "\t [Node] \"preprocessing_steps.unzip_resample_and_smooth.gunzip\" found cached.\n",
      "200616-09:47:00,123 nipype.workflow INFO:\n",
      "\t [Node] Setting-up \"preprocessing_steps.unzip_resample_and_smooth.resample\" in \"/fmriNASTest/data00/projects/megameta/rsm_tvc35/working/nipype/workingdir_preproc_TVC/preprocessing_steps/unzip_resample_and_smooth/_resolution_..data00..projects..megameta..templates..reference_medium_wad.nii_subject_id_sub-PP49/resample\".\n",
      "200616-09:47:00,511 nipype.workflow INFO:\n",
      "\t [Node] \"preprocessing_steps.unzip_resample_and_smooth.resample\" found cached.\n",
      "200616-09:47:00,512 nipype.workflow INFO:\n",
      "\t [Node] Setting-up \"preprocessing_steps.unzip_resample_and_smooth.smooth\" in \"/fmriNASTest/data00/projects/megameta/rsm_tvc35/working/nipype/workingdir_preproc_TVC/preprocessing_steps/unzip_resample_and_smooth/_resolution_..data00..projects..megameta..templates..reference_medium_wad.nii_subject_id_sub-PP49/_fwhm_8/smooth\".\n",
      "200616-09:47:00,549 nipype.workflow INFO:\n",
      "\t [Node] Cached \"preprocessing_steps.unzip_resample_and_smooth.smooth\" - collecting precomputed outputs\n",
      "200616-09:47:00,550 nipype.workflow INFO:\n",
      "\t [Node] \"preprocessing_steps.unzip_resample_and_smooth.smooth\" found cached.\n",
      "200616-09:47:00,551 nipype.workflow INFO:\n",
      "\t [Node] Setting-up \"preprocessing_steps.pp_datasink\" in \"/fmriNASTest/data00/projects/megameta/rsm_tvc35/working/nipype/workingdir_preproc_TVC/preprocessing_steps/_resolution_..data00..projects..megameta..templates..reference_medium_wad.nii_subject_id_sub-PP49/_fwhm_8/pp_datasink\".\n",
      "200616-09:47:01,85 nipype.workflow INFO:\n",
      "\t [Node] Running \"pp_datasink\" (\"nipype.interfaces.io.DataSink\")\n",
      "200616-09:47:01,93 nipype.interface INFO:\n",
      "\t sub: /data00/projects/megameta/rsm_tvc35/derivatives/nipype/resampled_and_smoothed/sub-PP49/_resolution_..data00..projects..megameta..templates..reference_medium_wad.nii_subject_id_sub-PP49/_fwhm_8/srsub-PP49_task-TVC_space-MNI152NLin2009cAsym_desc-preproc_bold.nii -> /data00/projects/megameta/rsm_tvc35/derivatives/nipype/resampled_and_smoothed/sub-PP49/medium/fwhm_8/srsub-PP49_task-TVC_space-MNI152NLin2009cAsym_desc-preproc_bold.nii\n",
      "200616-09:47:01,260 nipype.workflow INFO:\n",
      "\t [Node] Finished \"preprocessing_steps.pp_datasink\".\n"
     ]
    }
   ],
   "source": [
    "%run \"/data00/projects/megameta/scripts/jupyter_megameta/cnlab/GLM/Execute_resample&smooth.ipynb\"\n",
    "#%run \"/data00/projects/megameta/scripts/jupyter_megameta/cnlab/GLM/smooth_resample_EXTERNAL_DATA-multiple_runs.ipynb\""
   ]
  },
  {
   "cell_type": "code",
   "execution_count": null,
   "metadata": {},
   "outputs": [],
   "source": [
    "run_graph=preprocess.run('Linear')"
   ]
  },
  {
   "cell_type": "code",
   "execution_count": null,
   "metadata": {},
   "outputs": [],
   "source": []
  }
 ],
 "metadata": {
  "kernelspec": {
   "display_name": "Python 3",
   "language": "python",
   "name": "python3"
  },
  "language_info": {
   "codemirror_mode": {
    "name": "ipython",
    "version": 3
   },
   "file_extension": ".py",
   "mimetype": "text/x-python",
   "name": "python",
   "nbconvert_exporter": "python",
   "pygments_lexer": "ipython3",
   "version": "3.7.4"
  }
 },
 "nbformat": 4,
 "nbformat_minor": 2
}
