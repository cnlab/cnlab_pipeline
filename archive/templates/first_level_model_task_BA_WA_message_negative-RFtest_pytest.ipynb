{
 "cells": [
  {
   "cell_type": "markdown",
   "metadata": {},
   "source": [
    "# Building first level models using _nipype_ and _SPM12_\n",
    "\n",
    "## model_task : WA,BA goal framing\n",
    "\n",
    "-------\n",
    "#### History\n",
    "\n",
    "* 8/27/2020 nc - testing and export to py script\n",
    "* 8/21/2020 mbod - update master branch to do FAST and residuals\n",
    "* 8/21/2020 nc - update to new refactored from MURI including FAST \n",
    "* 6/22/2020 nc - using refactored script on BA/WA models\n",
    "* 6/17/2020 mbod - testing refactored script to duplicate notebook setup \n",
    "* 11/7/2019 jeesung - 1st level models without pmod\n",
    "* 3/4/19 cscholz - modify notebook for darpa 1 first-level model\n",
    "* 2/27/19 mbod  - modify example notebook to make template\n",
    "\n",
    "-----\n",
    "\n",
    "### Description\n",
    "\n",
    "* Set up a nipype workflow to use SPM12 to make first level models for _megameta_ task data (preprocessed using `batch8` SPM8 scripts) in BIDS derivative format   \n"
   ]
  },
  {
   "cell_type": "markdown",
   "metadata": {},
   "source": [
    "-------------------\n",
    "### Step 1: SET NEEDED PARAMETERS\n",
    "\n",
    "* Checked out branch for `cnlab/GLM` is:\n",
    "    * /data00/tools/cnlab_pipeline/cnlab/GLM/\n",
    "    \n",
    "    \n",
    "\n",
    "\n",
    "* Import modules and the pipeline code\n",
    " \n",
    "\n",
    "\n"
   ]
  },
  {
   "cell_type": "code",
   "execution_count": 2,
   "metadata": {},
   "outputs": [
    {
     "name": "stdout",
     "output_type": "stream",
     "text": [
      "200827-15:17:11,438 nipype.utils INFO:\n",
      "\t Running nipype version 1.4.2 (latest: 1.5.0)\n"
     ]
    }
   ],
   "source": [
    "import os\n",
    "import sys\n",
    "\n",
    "\n",
    "sys.path.append('/data00/projects/megameta/scripts/jupyter_megameta/cnlab_pipeline/')\n",
    "from cnlab.GLM import first_level\n"
   ]
  },
  {
   "cell_type": "markdown",
   "metadata": {},
   "source": [
    "### Set params\n",
    "\n",
    "* There are some parameters that need to be set\n",
    "    1. `MODEL_SPEC_FILE` is the name of the JSON model file\n",
    "    2. `MODEL_PATH` - at the moment the JSON files have been kept in a folder called `model_specifications` at the same level as the first_level notebook folder - but we could decide of another convention for where to place the JSON file and maybe it should live in the same folder as the notebook/script that runs the model pipeline."
   ]
  },
  {
   "cell_type": "code",
   "execution_count": 4,
   "metadata": {},
   "outputs": [],
   "source": [
    "MODEL_SPEC_FILE = 'BA_negative_model_WALKSTATEMENT_message_RFfast.json' # replace with filename of JSON file\n",
    "\n",
    "MODEL_PATH = os.path.abspath(\n",
    "                    os.path.join('../model_specifications',\n",
    "                                  MODEL_SPEC_FILE)\n",
    ")\n",
    "\n"
   ]
  },
  {
   "cell_type": "markdown",
   "metadata": {},
   "source": [
    "### Specify subjects to process\n",
    "\n",
    "* By default the module will look for all the subjects that have BIDS data in the project folder.\n",
    "\n",
    "\n",
    "* But you can select specific subjects to:\n",
    "    1. be included with a list `include_subjects`\n",
    "    2. be excluded with a list `exclude_subjects`\n",
    "\n",
    "* The two lists will be combined to give the resulting subject list passed to the pipeline"
   ]
  },
  {
   "cell_type": "code",
   "execution_count": 5,
   "metadata": {},
   "outputs": [],
   "source": [
    "include_subjects =['sub-BA226',\n",
    " 'sub-BA229',\n",
    " 'sub-BA234',\n",
    " 'sub-BA237',\n",
    " 'sub-BA238',\n",
    " 'sub-BA240',\n",
    " 'sub-BA242',\n",
    " 'sub-BA244',\n",
    " 'sub-BA245',\n",
    " 'sub-BA251',\n",
    " 'sub-BA253',\n",
    " 'sub-BA255',\n",
    " 'sub-BA257',\n",
    " 'sub-BA262',\n",
    " 'sub-BA265',\n",
    " 'sub-BA267',\n",
    " 'sub-BA269',\n",
    " 'sub-BA272',\n",
    " 'sub-BA275',\n",
    " 'sub-BA278'] #  BA_negative group ppts\n",
    "\n",
    "\n",
    "include_subjects =['sub-BA240']\n",
    "\n",
    "# exclude_subjects =['sub-BA224',\n",
    "#  'sub-BA227',\n",
    "#  'sub-BA228',\n",
    "#  'sub-BA233',\n",
    "#  'sub-BA235',\n",
    "#  'sub-BA239',\n",
    "#  'sub-BA247',\n",
    "#  'sub-BA250',\n",
    "#  'sub-BA252',\n",
    "#  'sub-BA254',\n",
    "#  'sub-BA258',\n",
    "#  'sub-BA261',\n",
    "#  'sub-BA263',\n",
    "#  'sub-BA266',\n",
    "#  'sub-BA273',\n",
    "#  'sub-BA276',\n",
    "#  'sub-BA277'] #  BA_positive group ppts \n",
    "\n"
   ]
  },
  {
   "cell_type": "markdown",
   "metadata": {},
   "source": [
    "-------------------------\n",
    "\n",
    "### Step 2: Run the `setup_pipeline` function\n",
    "\n",
    "* This requires:\n",
    "    1. `MODEL_PATH` - the full/absolute path to the model JSON file (__REQUIRED__)\n",
    "    2. `include_subjects` - pass the list if you want to specify specific subjects to include (optional)\n",
    "    3. `exclude_subjects` - pass the list if you want to specify specific subjects to exclude (optional)\n",
    "    4. `DEBUG` - default is `False` whether to print out debugging info when setting up the pipeline (optional)"
   ]
  },
  {
   "cell_type": "code",
   "execution_count": 6,
   "metadata": {},
   "outputs": [
    {
     "name": "stdout",
     "output_type": "stream",
     "text": [
      "\n",
      "\n",
      "No subject exclusions applied\n",
      "\n",
      "\n",
      "Applied subject inclusion list:\n",
      "\t sub-BA229\n",
      "\n",
      "\n",
      "SUBJECT LIST IS:\n",
      "\t sub-BA229\n"
     ]
    }
   ],
   "source": [
    "model_def=first_level.setup_pipeline(MODEL_PATH,\n",
    "                          include_subjects=include_subjects,\n",
    "                          DEBUG=False)"
   ]
  },
  {
   "cell_type": "code",
   "execution_count": 9,
   "metadata": {},
   "outputs": [],
   "source": [
    "model_def['unzip_and_smooth']=False\n",
    "\n",
    "model_def['resolutions'] = ['medium']\n",
    "model_def['smoothing_list'] = [8]\n"
   ]
  },
  {
   "cell_type": "markdown",
   "metadata": {},
   "source": [
    "-------------------------\n",
    "\n",
    "### Step 3: CHECK WORKFLOW AND DIRECTORIES"
   ]
  },
  {
   "cell_type": "code",
   "execution_count": 10,
   "metadata": {},
   "outputs": [
    {
     "name": "stdout",
     "output_type": "stream",
     "text": [
      "Excluding 0 dummy scans.\n"
     ]
    }
   ],
   "source": [
    "pipeline=first_level.build_pipeline(model_def)"
   ]
  },
  {
   "cell_type": "markdown",
   "metadata": {},
   "source": [
    "-------------------------\n",
    "\n",
    "### Step 4: RUN PIPELINE"
   ]
  },
  {
   "cell_type": "code",
   "execution_count": 14,
   "metadata": {},
   "outputs": [
    {
     "name": "stdout",
     "output_type": "stream",
     "text": [
      "200827-15:17:36,387 nipype.workflow INFO:\n",
      "\t Workflow first_level_model_WALKSTATEMENT_message_RFfast settings: ['check', 'execution', 'logging', 'monitoring']\n",
      "200827-15:17:36,535 nipype.workflow INFO:\n",
      "\t Running serially.\n",
      "200827-15:17:36,536 nipype.workflow INFO:\n",
      "\t [Node] Setting-up \"first_level_model_WALKSTATEMENT_message_RFfast.getsubjectinfo\" in \"/fmriNASTest/data00/projects/megameta/BA/working/nipype/workingdir_model_WALKSTATEMENT_message_RFfast/first_level_model_WALKSTATEMENT_message_RFfast/_model_path_..fmriNASTest..data00..projects..megameta..scripts..jupyter_megameta..first_level_models..BA..model_specifications..BA_negative_model_WALKSTATEMENT_message_RFfast.json_resolution_medium_smoothing_fwhm_8_subject_id_sub-BA229/getsubjectinfo\".\n",
      "200827-15:17:36,551 nipype.workflow INFO:\n",
      "\t [Node] Cached \"first_level_model_WALKSTATEMENT_message_RFfast.getsubjectinfo\" - collecting precomputed outputs\n",
      "200827-15:17:36,553 nipype.workflow INFO:\n",
      "\t [Node] \"first_level_model_WALKSTATEMENT_message_RFfast.getsubjectinfo\" found cached.\n",
      "200827-15:17:36,554 nipype.workflow INFO:\n",
      "\t [Node] Setting-up \"first_level_model_WALKSTATEMENT_message_RFfast.makecontrasts\" in \"/fmriNASTest/data00/projects/megameta/BA/working/nipype/workingdir_model_WALKSTATEMENT_message_RFfast/first_level_model_WALKSTATEMENT_message_RFfast/_model_path_..fmriNASTest..data00..projects..megameta..scripts..jupyter_megameta..first_level_models..BA..model_specifications..BA_negative_model_WALKSTATEMENT_message_RFfast.json_resolution_medium_smoothing_fwhm_8_subject_id_sub-BA229/makecontrasts\".\n",
      "200827-15:17:36,575 nipype.workflow INFO:\n",
      "\t [Node] Cached \"first_level_model_WALKSTATEMENT_message_RFfast.makecontrasts\" - collecting precomputed outputs\n",
      "200827-15:17:36,576 nipype.workflow INFO:\n",
      "\t [Node] \"first_level_model_WALKSTATEMENT_message_RFfast.makecontrasts\" found cached.\n",
      "200827-15:17:36,578 nipype.workflow INFO:\n",
      "\t [Node] Setting-up \"first_level_model_WALKSTATEMENT_message_RFfast.selectfiles\" in \"/fmriNASTest/data00/projects/megameta/BA/working/nipype/workingdir_model_WALKSTATEMENT_message_RFfast/first_level_model_WALKSTATEMENT_message_RFfast/_model_path_..fmriNASTest..data00..projects..megameta..scripts..jupyter_megameta..first_level_models..BA..model_specifications..BA_negative_model_WALKSTATEMENT_message_RFfast.json_resolution_medium_smoothing_fwhm_8_subject_id_sub-BA229/selectfiles\".\n",
      "200827-15:17:36,831 nipype.workflow INFO:\n",
      "\t [Node] Running \"selectfiles\" (\"nipype.interfaces.io.SelectFiles\")\n",
      "200827-15:17:36,916 nipype.workflow INFO:\n",
      "\t [Node] Finished \"first_level_model_WALKSTATEMENT_message_RFfast.selectfiles\".\n",
      "200827-15:17:36,917 nipype.workflow INFO:\n",
      "\t [Node] Setting-up \"first_level_model_WALKSTATEMENT_message_RFfast.trimdummyscans\" in \"/fmriNASTest/data00/projects/megameta/BA/working/nipype/workingdir_model_WALKSTATEMENT_message_RFfast/first_level_model_WALKSTATEMENT_message_RFfast/_model_path_..fmriNASTest..data00..projects..megameta..scripts..jupyter_megameta..first_level_models..BA..model_specifications..BA_negative_model_WALKSTATEMENT_message_RFfast.json_resolution_medium_smoothing_fwhm_8_subject_id_sub-BA229/trimdummyscans\".\n",
      "200827-15:17:36,941 nipype.workflow INFO:\n",
      "\t [Node] \"first_level_model_WALKSTATEMENT_message_RFfast.trimdummyscans\" found cached.\n",
      "200827-15:17:36,943 nipype.workflow INFO:\n",
      "\t [Node] Setting-up \"first_level_model_WALKSTATEMENT_message_RFfast.l1analysis.modelspec\" in \"/fmriNASTest/data00/projects/megameta/BA/working/nipype/workingdir_model_WALKSTATEMENT_message_RFfast/first_level_model_WALKSTATEMENT_message_RFfast/l1analysis/_model_path_..fmriNASTest..data00..projects..megameta..scripts..jupyter_megameta..first_level_models..BA..model_specifications..BA_negative_model_WALKSTATEMENT_message_RFfast.json_resolution_medium_smoothing_fwhm_8_subject_id_sub-BA229/modelspec\".\n",
      "200827-15:17:36,995 nipype.workflow INFO:\n",
      "\t [Node] Cached \"first_level_model_WALKSTATEMENT_message_RFfast.l1analysis.modelspec\" - collecting precomputed outputs\n",
      "200827-15:17:36,997 nipype.workflow INFO:\n",
      "\t [Node] \"first_level_model_WALKSTATEMENT_message_RFfast.l1analysis.modelspec\" found cached.\n",
      "200827-15:17:36,998 nipype.workflow INFO:\n",
      "\t [Node] Setting-up \"first_level_model_WALKSTATEMENT_message_RFfast.l1analysis.level1design\" in \"/fmriNASTest/data00/projects/megameta/BA/working/nipype/workingdir_model_WALKSTATEMENT_message_RFfast/first_level_model_WALKSTATEMENT_message_RFfast/l1analysis/_model_path_..fmriNASTest..data00..projects..megameta..scripts..jupyter_megameta..first_level_models..BA..model_specifications..BA_negative_model_WALKSTATEMENT_message_RFfast.json_resolution_medium_smoothing_fwhm_8_subject_id_sub-BA229/level1design\".\n",
      "200827-15:17:37,74 nipype.workflow INFO:\n",
      "\t [Node] Cached \"first_level_model_WALKSTATEMENT_message_RFfast.l1analysis.level1design\" - collecting precomputed outputs\n",
      "200827-15:17:37,75 nipype.workflow INFO:\n",
      "\t [Node] \"first_level_model_WALKSTATEMENT_message_RFfast.l1analysis.level1design\" found cached.\n",
      "200827-15:17:37,76 nipype.workflow INFO:\n",
      "\t [Node] Setting-up \"first_level_model_WALKSTATEMENT_message_RFfast.l1analysis.level1estimate\" in \"/fmriNASTest/data00/projects/megameta/BA/working/nipype/workingdir_model_WALKSTATEMENT_message_RFfast/first_level_model_WALKSTATEMENT_message_RFfast/l1analysis/_model_path_..fmriNASTest..data00..projects..megameta..scripts..jupyter_megameta..first_level_models..BA..model_specifications..BA_negative_model_WALKSTATEMENT_message_RFfast.json_resolution_medium_smoothing_fwhm_8_subject_id_sub-BA229/level1estimate\".\n",
      "200827-15:17:38,576 nipype.workflow INFO:\n",
      "\t [Node] Running \"level1estimate\" (\"nipype.interfaces.spm.model.EstimateModel\")\n",
      "200827-15:19:27,501 nipype.workflow INFO:\n",
      "\t [Node] Finished \"first_level_model_WALKSTATEMENT_message_RFfast.l1analysis.level1estimate\".\n",
      "200827-15:19:27,503 nipype.workflow INFO:\n",
      "\t [Node] Setting-up \"first_level_model_WALKSTATEMENT_message_RFfast.l1analysis.conestimate\" in \"/fmriNASTest/data00/projects/megameta/BA/working/nipype/workingdir_model_WALKSTATEMENT_message_RFfast/first_level_model_WALKSTATEMENT_message_RFfast/l1analysis/_model_path_..fmriNASTest..data00..projects..megameta..scripts..jupyter_megameta..first_level_models..BA..model_specifications..BA_negative_model_WALKSTATEMENT_message_RFfast.json_resolution_medium_smoothing_fwhm_8_subject_id_sub-BA229/conestimate\".\n",
      "200827-15:19:28,505 nipype.workflow INFO:\n",
      "\t [Node] Running \"conestimate\" (\"nipype.interfaces.spm.model.EstimateContrast\")\n",
      "200827-15:19:58,58 nipype.workflow INFO:\n",
      "\t [Node] Finished \"first_level_model_WALKSTATEMENT_message_RFfast.l1analysis.conestimate\".\n",
      "200827-15:19:58,60 nipype.workflow INFO:\n",
      "\t [Node] Setting-up \"first_level_model_WALKSTATEMENT_message_RFfast.datasink\" in \"/fmriNASTest/data00/projects/megameta/BA/working/nipype/workingdir_model_WALKSTATEMENT_message_RFfast/first_level_model_WALKSTATEMENT_message_RFfast/_model_path_..fmriNASTest..data00..projects..megameta..scripts..jupyter_megameta..first_level_models..BA..model_specifications..BA_negative_model_WALKSTATEMENT_message_RFfast.json_resolution_medium_smoothing_fwhm_8_subject_id_sub-BA229/datasink\".\n",
      "200827-15:19:58,202 nipype.workflow INFO:\n",
      "\t [Node] Running \"datasink\" (\"nipype.interfaces.io.DataSink\")\n",
      "200827-15:19:58,230 nipype.interface INFO:\n",
      "\t sub: /data00/projects/megameta/BA/derivatives/nipype/model_WALKSTATEMENT_message_RFfast/sub-BA229/_model_path_..fmriNASTest..data00..projects..megameta..scripts..jupyter_megameta..first_level_models..BA..model_specifications..BA_negative_model_WALKSTATEMENT_message_RFfast.json_resolution_medium_smoothing_fwhm_8_subject_id_sub-BA229/SPM.mat -> /data00/projects/megameta/BA/derivatives/nipype/model_WALKSTATEMENT_message_RFfast/sub-BA229/medium/fwhm_8/SPM.mat\n",
      "200827-15:19:58,275 nipype.interface INFO:\n",
      "\t sub: /data00/projects/megameta/BA/derivatives/nipype/model_WALKSTATEMENT_message_RFfast/sub-BA229/_model_path_..fmriNASTest..data00..projects..megameta..scripts..jupyter_megameta..first_level_models..BA..model_specifications..BA_negative_model_WALKSTATEMENT_message_RFfast.json_resolution_medium_smoothing_fwhm_8_subject_id_sub-BA229/spmT_0001.nii -> /data00/projects/megameta/BA/derivatives/nipype/model_WALKSTATEMENT_message_RFfast/sub-BA229/medium/fwhm_8/spmT_0001.nii\n",
      "200827-15:19:58,289 nipype.interface INFO:\n",
      "\t sub: /data00/projects/megameta/BA/derivatives/nipype/model_WALKSTATEMENT_message_RFfast/sub-BA229/_model_path_..fmriNASTest..data00..projects..megameta..scripts..jupyter_megameta..first_level_models..BA..model_specifications..BA_negative_model_WALKSTATEMENT_message_RFfast.json_resolution_medium_smoothing_fwhm_8_subject_id_sub-BA229/spmT_0002.nii -> /data00/projects/megameta/BA/derivatives/nipype/model_WALKSTATEMENT_message_RFfast/sub-BA229/medium/fwhm_8/spmT_0002.nii\n",
      "200827-15:19:58,303 nipype.interface INFO:\n",
      "\t sub: /data00/projects/megameta/BA/derivatives/nipype/model_WALKSTATEMENT_message_RFfast/sub-BA229/_model_path_..fmriNASTest..data00..projects..megameta..scripts..jupyter_megameta..first_level_models..BA..model_specifications..BA_negative_model_WALKSTATEMENT_message_RFfast.json_resolution_medium_smoothing_fwhm_8_subject_id_sub-BA229/spmT_0003.nii -> /data00/projects/megameta/BA/derivatives/nipype/model_WALKSTATEMENT_message_RFfast/sub-BA229/medium/fwhm_8/spmT_0003.nii\n",
      "200827-15:19:58,319 nipype.interface INFO:\n",
      "\t sub: /data00/projects/megameta/BA/derivatives/nipype/model_WALKSTATEMENT_message_RFfast/sub-BA229/_model_path_..fmriNASTest..data00..projects..megameta..scripts..jupyter_megameta..first_level_models..BA..model_specifications..BA_negative_model_WALKSTATEMENT_message_RFfast.json_resolution_medium_smoothing_fwhm_8_subject_id_sub-BA229/con_0001.nii -> /data00/projects/megameta/BA/derivatives/nipype/model_WALKSTATEMENT_message_RFfast/sub-BA229/medium/fwhm_8/con_0001.nii\n",
      "200827-15:19:58,334 nipype.interface INFO:\n",
      "\t sub: /data00/projects/megameta/BA/derivatives/nipype/model_WALKSTATEMENT_message_RFfast/sub-BA229/_model_path_..fmriNASTest..data00..projects..megameta..scripts..jupyter_megameta..first_level_models..BA..model_specifications..BA_negative_model_WALKSTATEMENT_message_RFfast.json_resolution_medium_smoothing_fwhm_8_subject_id_sub-BA229/con_0002.nii -> /data00/projects/megameta/BA/derivatives/nipype/model_WALKSTATEMENT_message_RFfast/sub-BA229/medium/fwhm_8/con_0002.nii\n",
      "200827-15:19:58,350 nipype.interface INFO:\n",
      "\t sub: /data00/projects/megameta/BA/derivatives/nipype/model_WALKSTATEMENT_message_RFfast/sub-BA229/_model_path_..fmriNASTest..data00..projects..megameta..scripts..jupyter_megameta..first_level_models..BA..model_specifications..BA_negative_model_WALKSTATEMENT_message_RFfast.json_resolution_medium_smoothing_fwhm_8_subject_id_sub-BA229/con_0003.nii -> /data00/projects/megameta/BA/derivatives/nipype/model_WALKSTATEMENT_message_RFfast/sub-BA229/medium/fwhm_8/con_0003.nii\n",
      "200827-15:19:58,365 nipype.interface INFO:\n",
      "\t sub: /data00/projects/megameta/BA/derivatives/nipype/model_WALKSTATEMENT_message_RFfast/sub-BA229/_model_path_..fmriNASTest..data00..projects..megameta..scripts..jupyter_megameta..first_level_models..BA..model_specifications..BA_negative_model_WALKSTATEMENT_message_RFfast.json_resolution_medium_smoothing_fwhm_8_subject_id_sub-BA229/beta_0001.nii -> /data00/projects/megameta/BA/derivatives/nipype/model_WALKSTATEMENT_message_RFfast/sub-BA229/medium/fwhm_8/beta_0001.nii\n",
      "200827-15:19:58,384 nipype.interface INFO:\n",
      "\t sub: /data00/projects/megameta/BA/derivatives/nipype/model_WALKSTATEMENT_message_RFfast/sub-BA229/_model_path_..fmriNASTest..data00..projects..megameta..scripts..jupyter_megameta..first_level_models..BA..model_specifications..BA_negative_model_WALKSTATEMENT_message_RFfast.json_resolution_medium_smoothing_fwhm_8_subject_id_sub-BA229/beta_0002.nii -> /data00/projects/megameta/BA/derivatives/nipype/model_WALKSTATEMENT_message_RFfast/sub-BA229/medium/fwhm_8/beta_0002.nii\n",
      "200827-15:19:58,400 nipype.interface INFO:\n",
      "\t sub: /data00/projects/megameta/BA/derivatives/nipype/model_WALKSTATEMENT_message_RFfast/sub-BA229/_model_path_..fmriNASTest..data00..projects..megameta..scripts..jupyter_megameta..first_level_models..BA..model_specifications..BA_negative_model_WALKSTATEMENT_message_RFfast.json_resolution_medium_smoothing_fwhm_8_subject_id_sub-BA229/beta_0003.nii -> /data00/projects/megameta/BA/derivatives/nipype/model_WALKSTATEMENT_message_RFfast/sub-BA229/medium/fwhm_8/beta_0003.nii\n",
      "200827-15:19:58,419 nipype.interface INFO:\n",
      "\t sub: /data00/projects/megameta/BA/derivatives/nipype/model_WALKSTATEMENT_message_RFfast/sub-BA229/_model_path_..fmriNASTest..data00..projects..megameta..scripts..jupyter_megameta..first_level_models..BA..model_specifications..BA_negative_model_WALKSTATEMENT_message_RFfast.json_resolution_medium_smoothing_fwhm_8_subject_id_sub-BA229/beta_0004.nii -> /data00/projects/megameta/BA/derivatives/nipype/model_WALKSTATEMENT_message_RFfast/sub-BA229/medium/fwhm_8/beta_0004.nii\n",
      "200827-15:19:58,434 nipype.interface INFO:\n",
      "\t sub: /data00/projects/megameta/BA/derivatives/nipype/model_WALKSTATEMENT_message_RFfast/sub-BA229/_model_path_..fmriNASTest..data00..projects..megameta..scripts..jupyter_megameta..first_level_models..BA..model_specifications..BA_negative_model_WALKSTATEMENT_message_RFfast.json_resolution_medium_smoothing_fwhm_8_subject_id_sub-BA229/beta_0005.nii -> /data00/projects/megameta/BA/derivatives/nipype/model_WALKSTATEMENT_message_RFfast/sub-BA229/medium/fwhm_8/beta_0005.nii\n",
      "200827-15:19:58,449 nipype.interface INFO:\n",
      "\t sub: /data00/projects/megameta/BA/derivatives/nipype/model_WALKSTATEMENT_message_RFfast/sub-BA229/_model_path_..fmriNASTest..data00..projects..megameta..scripts..jupyter_megameta..first_level_models..BA..model_specifications..BA_negative_model_WALKSTATEMENT_message_RFfast.json_resolution_medium_smoothing_fwhm_8_subject_id_sub-BA229/beta_0006.nii -> /data00/projects/megameta/BA/derivatives/nipype/model_WALKSTATEMENT_message_RFfast/sub-BA229/medium/fwhm_8/beta_0006.nii\n",
      "200827-15:19:58,466 nipype.interface INFO:\n",
      "\t sub: /data00/projects/megameta/BA/derivatives/nipype/model_WALKSTATEMENT_message_RFfast/sub-BA229/_model_path_..fmriNASTest..data00..projects..megameta..scripts..jupyter_megameta..first_level_models..BA..model_specifications..BA_negative_model_WALKSTATEMENT_message_RFfast.json_resolution_medium_smoothing_fwhm_8_subject_id_sub-BA229/beta_0007.nii -> /data00/projects/megameta/BA/derivatives/nipype/model_WALKSTATEMENT_message_RFfast/sub-BA229/medium/fwhm_8/beta_0007.nii\n",
      "200827-15:19:58,484 nipype.interface INFO:\n",
      "\t sub: /data00/projects/megameta/BA/derivatives/nipype/model_WALKSTATEMENT_message_RFfast/sub-BA229/_model_path_..fmriNASTest..data00..projects..megameta..scripts..jupyter_megameta..first_level_models..BA..model_specifications..BA_negative_model_WALKSTATEMENT_message_RFfast.json_resolution_medium_smoothing_fwhm_8_subject_id_sub-BA229/beta_0008.nii -> /data00/projects/megameta/BA/derivatives/nipype/model_WALKSTATEMENT_message_RFfast/sub-BA229/medium/fwhm_8/beta_0008.nii\n",
      "200827-15:19:58,500 nipype.interface INFO:\n",
      "\t sub: /data00/projects/megameta/BA/derivatives/nipype/model_WALKSTATEMENT_message_RFfast/sub-BA229/_model_path_..fmriNASTest..data00..projects..megameta..scripts..jupyter_megameta..first_level_models..BA..model_specifications..BA_negative_model_WALKSTATEMENT_message_RFfast.json_resolution_medium_smoothing_fwhm_8_subject_id_sub-BA229/beta_0009.nii -> /data00/projects/megameta/BA/derivatives/nipype/model_WALKSTATEMENT_message_RFfast/sub-BA229/medium/fwhm_8/beta_0009.nii\n",
      "200827-15:19:58,516 nipype.interface INFO:\n",
      "\t sub: /data00/projects/megameta/BA/derivatives/nipype/model_WALKSTATEMENT_message_RFfast/sub-BA229/_model_path_..fmriNASTest..data00..projects..megameta..scripts..jupyter_megameta..first_level_models..BA..model_specifications..BA_negative_model_WALKSTATEMENT_message_RFfast.json_resolution_medium_smoothing_fwhm_8_subject_id_sub-BA229/beta_0010.nii -> /data00/projects/megameta/BA/derivatives/nipype/model_WALKSTATEMENT_message_RFfast/sub-BA229/medium/fwhm_8/beta_0010.nii\n",
      "200827-15:19:58,530 nipype.interface INFO:\n",
      "\t sub: /data00/projects/megameta/BA/derivatives/nipype/model_WALKSTATEMENT_message_RFfast/sub-BA229/_model_path_..fmriNASTest..data00..projects..megameta..scripts..jupyter_megameta..first_level_models..BA..model_specifications..BA_negative_model_WALKSTATEMENT_message_RFfast.json_resolution_medium_smoothing_fwhm_8_subject_id_sub-BA229/beta_0011.nii -> /data00/projects/megameta/BA/derivatives/nipype/model_WALKSTATEMENT_message_RFfast/sub-BA229/medium/fwhm_8/beta_0011.nii\n",
      "200827-15:19:58,544 nipype.interface INFO:\n",
      "\t sub: /data00/projects/megameta/BA/derivatives/nipype/model_WALKSTATEMENT_message_RFfast/sub-BA229/_model_path_..fmriNASTest..data00..projects..megameta..scripts..jupyter_megameta..first_level_models..BA..model_specifications..BA_negative_model_WALKSTATEMENT_message_RFfast.json_resolution_medium_smoothing_fwhm_8_subject_id_sub-BA229/beta_0012.nii -> /data00/projects/megameta/BA/derivatives/nipype/model_WALKSTATEMENT_message_RFfast/sub-BA229/medium/fwhm_8/beta_0012.nii\n",
      "200827-15:19:58,559 nipype.interface INFO:\n",
      "\t sub: /data00/projects/megameta/BA/derivatives/nipype/model_WALKSTATEMENT_message_RFfast/sub-BA229/_model_path_..fmriNASTest..data00..projects..megameta..scripts..jupyter_megameta..first_level_models..BA..model_specifications..BA_negative_model_WALKSTATEMENT_message_RFfast.json_resolution_medium_smoothing_fwhm_8_subject_id_sub-BA229/beta_0013.nii -> /data00/projects/megameta/BA/derivatives/nipype/model_WALKSTATEMENT_message_RFfast/sub-BA229/medium/fwhm_8/beta_0013.nii\n",
      "200827-15:19:58,576 nipype.interface INFO:\n",
      "\t sub: /data00/projects/megameta/BA/derivatives/nipype/model_WALKSTATEMENT_message_RFfast/sub-BA229/_model_path_..fmriNASTest..data00..projects..megameta..scripts..jupyter_megameta..first_level_models..BA..model_specifications..BA_negative_model_WALKSTATEMENT_message_RFfast.json_resolution_medium_smoothing_fwhm_8_subject_id_sub-BA229/beta_0014.nii -> /data00/projects/megameta/BA/derivatives/nipype/model_WALKSTATEMENT_message_RFfast/sub-BA229/medium/fwhm_8/beta_0014.nii\n",
      "200827-15:19:58,591 nipype.interface INFO:\n",
      "\t sub: /data00/projects/megameta/BA/derivatives/nipype/model_WALKSTATEMENT_message_RFfast/sub-BA229/_model_path_..fmriNASTest..data00..projects..megameta..scripts..jupyter_megameta..first_level_models..BA..model_specifications..BA_negative_model_WALKSTATEMENT_message_RFfast.json_resolution_medium_smoothing_fwhm_8_subject_id_sub-BA229/beta_0015.nii -> /data00/projects/megameta/BA/derivatives/nipype/model_WALKSTATEMENT_message_RFfast/sub-BA229/medium/fwhm_8/beta_0015.nii\n",
      "200827-15:19:58,609 nipype.interface INFO:\n",
      "\t sub: /data00/projects/megameta/BA/derivatives/nipype/model_WALKSTATEMENT_message_RFfast/sub-BA229/_model_path_..fmriNASTest..data00..projects..megameta..scripts..jupyter_megameta..first_level_models..BA..model_specifications..BA_negative_model_WALKSTATEMENT_message_RFfast.json_resolution_medium_smoothing_fwhm_8_subject_id_sub-BA229/beta_0016.nii -> /data00/projects/megameta/BA/derivatives/nipype/model_WALKSTATEMENT_message_RFfast/sub-BA229/medium/fwhm_8/beta_0016.nii\n",
      "200827-15:19:58,625 nipype.interface INFO:\n",
      "\t sub: /data00/projects/megameta/BA/derivatives/nipype/model_WALKSTATEMENT_message_RFfast/sub-BA229/_model_path_..fmriNASTest..data00..projects..megameta..scripts..jupyter_megameta..first_level_models..BA..model_specifications..BA_negative_model_WALKSTATEMENT_message_RFfast.json_resolution_medium_smoothing_fwhm_8_subject_id_sub-BA229/beta_0017.nii -> /data00/projects/megameta/BA/derivatives/nipype/model_WALKSTATEMENT_message_RFfast/sub-BA229/medium/fwhm_8/beta_0017.nii\n",
      "200827-15:19:58,642 nipype.interface INFO:\n",
      "\t sub: /data00/projects/megameta/BA/derivatives/nipype/model_WALKSTATEMENT_message_RFfast/sub-BA229/_model_path_..fmriNASTest..data00..projects..megameta..scripts..jupyter_megameta..first_level_models..BA..model_specifications..BA_negative_model_WALKSTATEMENT_message_RFfast.json_resolution_medium_smoothing_fwhm_8_subject_id_sub-BA229/beta_0018.nii -> /data00/projects/megameta/BA/derivatives/nipype/model_WALKSTATEMENT_message_RFfast/sub-BA229/medium/fwhm_8/beta_0018.nii\n",
      "200827-15:19:58,667 nipype.interface INFO:\n",
      "\t sub: /data00/projects/megameta/BA/derivatives/nipype/model_WALKSTATEMENT_message_RFfast/sub-BA229/_model_path_..fmriNASTest..data00..projects..megameta..scripts..jupyter_megameta..first_level_models..BA..model_specifications..BA_negative_model_WALKSTATEMENT_message_RFfast.json_resolution_medium_smoothing_fwhm_8_subject_id_sub-BA229/beta_0019.nii -> /data00/projects/megameta/BA/derivatives/nipype/model_WALKSTATEMENT_message_RFfast/sub-BA229/medium/fwhm_8/beta_0019.nii\n",
      "200827-15:19:58,681 nipype.interface INFO:\n",
      "\t sub: /data00/projects/megameta/BA/derivatives/nipype/model_WALKSTATEMENT_message_RFfast/sub-BA229/_model_path_..fmriNASTest..data00..projects..megameta..scripts..jupyter_megameta..first_level_models..BA..model_specifications..BA_negative_model_WALKSTATEMENT_message_RFfast.json_resolution_medium_smoothing_fwhm_8_subject_id_sub-BA229/beta_0020.nii -> /data00/projects/megameta/BA/derivatives/nipype/model_WALKSTATEMENT_message_RFfast/sub-BA229/medium/fwhm_8/beta_0020.nii\n",
      "200827-15:19:58,696 nipype.interface INFO:\n",
      "\t sub: /data00/projects/megameta/BA/derivatives/nipype/model_WALKSTATEMENT_message_RFfast/sub-BA229/_model_path_..fmriNASTest..data00..projects..megameta..scripts..jupyter_megameta..first_level_models..BA..model_specifications..BA_negative_model_WALKSTATEMENT_message_RFfast.json_resolution_medium_smoothing_fwhm_8_subject_id_sub-BA229/beta_0021.nii -> /data00/projects/megameta/BA/derivatives/nipype/model_WALKSTATEMENT_message_RFfast/sub-BA229/medium/fwhm_8/beta_0021.nii\n",
      "200827-15:19:58,712 nipype.interface INFO:\n",
      "\t sub: /data00/projects/megameta/BA/derivatives/nipype/model_WALKSTATEMENT_message_RFfast/sub-BA229/_model_path_..fmriNASTest..data00..projects..megameta..scripts..jupyter_megameta..first_level_models..BA..model_specifications..BA_negative_model_WALKSTATEMENT_message_RFfast.json_resolution_medium_smoothing_fwhm_8_subject_id_sub-BA229/beta_0022.nii -> /data00/projects/megameta/BA/derivatives/nipype/model_WALKSTATEMENT_message_RFfast/sub-BA229/medium/fwhm_8/beta_0022.nii\n",
      "200827-15:19:58,726 nipype.interface INFO:\n",
      "\t sub: /data00/projects/megameta/BA/derivatives/nipype/model_WALKSTATEMENT_message_RFfast/sub-BA229/_model_path_..fmriNASTest..data00..projects..megameta..scripts..jupyter_megameta..first_level_models..BA..model_specifications..BA_negative_model_WALKSTATEMENT_message_RFfast.json_resolution_medium_smoothing_fwhm_8_subject_id_sub-BA229/beta_0023.nii -> /data00/projects/megameta/BA/derivatives/nipype/model_WALKSTATEMENT_message_RFfast/sub-BA229/medium/fwhm_8/beta_0023.nii\n",
      "200827-15:19:58,740 nipype.interface INFO:\n",
      "\t sub: /data00/projects/megameta/BA/derivatives/nipype/model_WALKSTATEMENT_message_RFfast/sub-BA229/_model_path_..fmriNASTest..data00..projects..megameta..scripts..jupyter_megameta..first_level_models..BA..model_specifications..BA_negative_model_WALKSTATEMENT_message_RFfast.json_resolution_medium_smoothing_fwhm_8_subject_id_sub-BA229/beta_0024.nii -> /data00/projects/megameta/BA/derivatives/nipype/model_WALKSTATEMENT_message_RFfast/sub-BA229/medium/fwhm_8/beta_0024.nii\n",
      "200827-15:19:58,754 nipype.interface INFO:\n",
      "\t sub: /data00/projects/megameta/BA/derivatives/nipype/model_WALKSTATEMENT_message_RFfast/sub-BA229/_model_path_..fmriNASTest..data00..projects..megameta..scripts..jupyter_megameta..first_level_models..BA..model_specifications..BA_negative_model_WALKSTATEMENT_message_RFfast.json_resolution_medium_smoothing_fwhm_8_subject_id_sub-BA229/beta_0025.nii -> /data00/projects/megameta/BA/derivatives/nipype/model_WALKSTATEMENT_message_RFfast/sub-BA229/medium/fwhm_8/beta_0025.nii\n",
      "200827-15:19:58,772 nipype.interface INFO:\n",
      "\t sub: /data00/projects/megameta/BA/derivatives/nipype/model_WALKSTATEMENT_message_RFfast/sub-BA229/_model_path_..fmriNASTest..data00..projects..megameta..scripts..jupyter_megameta..first_level_models..BA..model_specifications..BA_negative_model_WALKSTATEMENT_message_RFfast.json_resolution_medium_smoothing_fwhm_8_subject_id_sub-BA229/beta_0026.nii -> /data00/projects/megameta/BA/derivatives/nipype/model_WALKSTATEMENT_message_RFfast/sub-BA229/medium/fwhm_8/beta_0026.nii\n",
      "200827-15:19:58,787 nipype.interface INFO:\n",
      "\t sub: /data00/projects/megameta/BA/derivatives/nipype/model_WALKSTATEMENT_message_RFfast/sub-BA229/_model_path_..fmriNASTest..data00..projects..megameta..scripts..jupyter_megameta..first_level_models..BA..model_specifications..BA_negative_model_WALKSTATEMENT_message_RFfast.json_resolution_medium_smoothing_fwhm_8_subject_id_sub-BA229/beta_0027.nii -> /data00/projects/megameta/BA/derivatives/nipype/model_WALKSTATEMENT_message_RFfast/sub-BA229/medium/fwhm_8/beta_0027.nii\n",
      "200827-15:19:58,803 nipype.interface INFO:\n",
      "\t sub: /data00/projects/megameta/BA/derivatives/nipype/model_WALKSTATEMENT_message_RFfast/sub-BA229/_model_path_..fmriNASTest..data00..projects..megameta..scripts..jupyter_megameta..first_level_models..BA..model_specifications..BA_negative_model_WALKSTATEMENT_message_RFfast.json_resolution_medium_smoothing_fwhm_8_subject_id_sub-BA229/mask.nii -> /data00/projects/megameta/BA/derivatives/nipype/model_WALKSTATEMENT_message_RFfast/sub-BA229/medium/fwhm_8/mask.nii\n",
      "200827-15:19:58,897 nipype.workflow INFO:\n",
      "\t [Node] Finished \"first_level_model_WALKSTATEMENT_message_RFfast.datasink\".\n"
     ]
    }
   ],
   "source": [
    "run_graph=pipeline.run(plugin='Linear', plugin_args={})"
   ]
  }
 ],
 "metadata": {
  "kernelspec": {
   "display_name": "Python 3",
   "language": "python",
   "name": "python3"
  },
  "language_info": {
   "codemirror_mode": {
    "name": "ipython",
    "version": 3
   },
   "file_extension": ".py",
   "mimetype": "text/x-python",
   "name": "python",
   "nbconvert_exporter": "python",
   "pygments_lexer": "ipython3",
   "version": "3.7.4"
  }
 },
 "nbformat": 4,
 "nbformat_minor": 2
}
