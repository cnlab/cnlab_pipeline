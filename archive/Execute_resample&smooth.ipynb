{
 "cells": [
  {
   "cell_type": "code",
   "execution_count": 47,
   "metadata": {},
   "outputs": [],
   "source": [
    "%matplotlib inline"
   ]
  },
  {
   "cell_type": "code",
   "execution_count": 62,
   "metadata": {},
   "outputs": [],
   "source": [
    "resolution='medium'\n",
    "PROJECT_NAME='darpa1'\n",
    "TASK_NAME='share'\n",
    "smoothing=[8]\n",
    "PATH_TO_SPM_FOLDER = '/data00/tools/spm12mega'"
   ]
  },
  {
   "cell_type": "code",
   "execution_count": 63,
   "metadata": {},
   "outputs": [],
   "source": [
    "PATH_TO_SPM_FOLDER = '/data00/tools/spm12mega'"
   ]
  },
  {
   "cell_type": "code",
   "execution_count": 66,
   "metadata": {},
   "outputs": [],
   "source": [
    "include_subjects = ['sub-DP21','sub-DP357','sub-DP573']\n",
    "#exclude_subjects=['sub-PP01']"
   ]
  },
  {
   "cell_type": "code",
   "execution_count": 67,
   "metadata": {},
   "outputs": [
    {
     "name": "stdout",
     "output_type": "stream",
     "text": [
      "\n",
      "\n",
      "No subject exclusions applied\n",
      "\n",
      "\n",
      "Applied subject inclusion list:\n",
      "\t sub-DP21 sub-DP357 sub-DP573\n",
      "\n",
      "\n",
      "SUBJECT LIST IS:\n",
      "\t sub-DP21 sub-DP357 sub-DP573\n"
     ]
    }
   ],
   "source": [
    "%run \"/data00/projects/megameta/scripts/jupyter_megameta/cnlab/GLM/smooth_resample_EXTERNAL_DATA.ipynb\""
   ]
  },
  {
   "cell_type": "code",
   "execution_count": null,
   "metadata": {},
   "outputs": [
    {
     "name": "stdout",
     "output_type": "stream",
     "text": [
      "200616-13:14:36,135 nipype.workflow INFO:\n",
      "\t Workflow preprocessing_steps settings: ['check', 'execution', 'logging', 'monitoring']\n",
      "200616-13:14:36,325 nipype.workflow INFO:\n",
      "\t Running serially.\n",
      "200616-13:14:36,327 nipype.workflow INFO:\n",
      "\t [Node] Setting-up \"preprocessing_steps.selectfiles\" in \"/fmriNASTest/data00/projects/megameta/darpa1/working/nipype/workingdir_preproc_SHARE/preprocessing_steps/_resolution_..data00..projects..megameta..templates..reference_medium_wad.nii_subject_id_sub-DP573/selectfiles\".\n",
      "200616-13:14:36,623 nipype.workflow INFO:\n",
      "\t [Node] Running \"selectfiles\" (\"nipype.interfaces.io.SelectFiles\")\n",
      "200616-13:14:36,698 nipype.workflow INFO:\n",
      "\t [Node] Finished \"preprocessing_steps.selectfiles\".\n",
      "200616-13:14:36,700 nipype.workflow INFO:\n",
      "\t [Node] Setting-up \"preprocessing_steps.unzip_resample_and_smooth.gunzip\" in \"/fmriNASTest/data00/projects/megameta/darpa1/working/nipype/workingdir_preproc_SHARE/preprocessing_steps/unzip_resample_and_smooth/_resolution_..data00..projects..megameta..templates..reference_medium_wad.nii_subject_id_sub-DP573/gunzip\".\n",
      "200616-13:14:36,930 nipype.workflow INFO:\n",
      "\t [Node] Setting-up \"_gunzip0\" in \"/fmriNASTest/data00/projects/megameta/darpa1/working/nipype/workingdir_preproc_SHARE/preprocessing_steps/unzip_resample_and_smooth/_resolution_..data00..projects..megameta..templates..reference_medium_wad.nii_subject_id_sub-DP573/gunzip/mapflow/_gunzip0\".\n",
      "200616-13:14:37,166 nipype.workflow INFO:\n",
      "\t [Node] Running \"_gunzip0\" (\"nipype.algorithms.misc.Gunzip\")\n",
      "200616-13:14:43,691 nipype.workflow INFO:\n",
      "\t [Node] Finished \"_gunzip0\".\n",
      "200616-13:14:43,761 nipype.workflow INFO:\n",
      "\t [Node] Finished \"preprocessing_steps.unzip_resample_and_smooth.gunzip\".\n",
      "200616-13:14:43,763 nipype.workflow INFO:\n",
      "\t [Node] Setting-up \"preprocessing_steps.unzip_resample_and_smooth.resample\" in \"/fmriNASTest/data00/projects/megameta/darpa1/working/nipype/workingdir_preproc_SHARE/preprocessing_steps/unzip_resample_and_smooth/_resolution_..data00..projects..megameta..templates..reference_medium_wad.nii_subject_id_sub-DP573/resample\".\n",
      "200616-13:14:43,965 nipype.workflow INFO:\n",
      "\t [Node] Setting-up \"_resample0\" in \"/fmriNASTest/data00/projects/megameta/darpa1/working/nipype/workingdir_preproc_SHARE/preprocessing_steps/unzip_resample_and_smooth/_resolution_..data00..projects..megameta..templates..reference_medium_wad.nii_subject_id_sub-DP573/resample/mapflow/_resample0\".\n",
      "200616-13:14:44,221 nipype.workflow INFO:\n",
      "\t [Node] Running \"_resample0\" (\"nipype.interfaces.spm.utils.Reslice\")\n",
      "200616-13:15:25,356 nipype.workflow INFO:\n",
      "\t [Node] Finished \"_resample0\".\n",
      "200616-13:15:25,448 nipype.workflow INFO:\n",
      "\t [Node] Finished \"preprocessing_steps.unzip_resample_and_smooth.resample\".\n",
      "200616-13:15:25,449 nipype.workflow INFO:\n",
      "\t [Node] Setting-up \"preprocessing_steps.unzip_resample_and_smooth.smooth\" in \"/fmriNASTest/data00/projects/megameta/darpa1/working/nipype/workingdir_preproc_SHARE/preprocessing_steps/unzip_resample_and_smooth/_resolution_..data00..projects..megameta..templates..reference_medium_wad.nii_subject_id_sub-DP573/_fwhm_8/smooth\".\n",
      "200616-13:15:25,727 nipype.workflow INFO:\n",
      "\t [Node] Running \"smooth\" (\"nipype.interfaces.spm.preprocess.Smooth\")\n",
      "200616-13:20:26,728 nipype.workflow INFO:\n",
      "\t [Node] Finished \"preprocessing_steps.unzip_resample_and_smooth.smooth\".\n",
      "200616-13:20:26,730 nipype.workflow INFO:\n",
      "\t [Node] Setting-up \"preprocessing_steps.pp_datasink\" in \"/fmriNASTest/data00/projects/megameta/darpa1/working/nipype/workingdir_preproc_SHARE/preprocessing_steps/_resolution_..data00..projects..megameta..templates..reference_medium_wad.nii_subject_id_sub-DP573/_fwhm_8/pp_datasink\".\n",
      "200616-13:20:26,839 nipype.workflow INFO:\n",
      "\t [Node] Outdated cache found for \"preprocessing_steps.pp_datasink\".\n",
      "200616-13:20:27,330 nipype.workflow INFO:\n",
      "\t [Node] Running \"pp_datasink\" (\"nipype.interfaces.io.DataSink\")\n",
      "200616-13:20:27,337 nipype.interface INFO:\n",
      "\t sub: /data00/projects/megameta/darpa1/derivatives/nipype/resampled_and_smoothed/sub-DP573/_resolution_..data00..projects..megameta..templates..reference_medium_wad.nii_subject_id_sub-DP573/_fwhm_8/srsub-DP573_task-share_run-01_space-MNI152-T1-1mm_desc-preproc_bold.nii -> /data00/projects/megameta/darpa1/derivatives/nipype/resampled_and_smoothed/sub-DP573/medium/fwhm_8/srsub-DP573_task-share_run-01_space-MNI152-T1-1mm_desc-preproc_bold.nii\n",
      "200616-13:20:31,260 nipype.workflow INFO:\n",
      "\t [Node] Finished \"preprocessing_steps.pp_datasink\".\n",
      "200616-13:20:31,261 nipype.workflow INFO:\n",
      "\t [Node] Setting-up \"preprocessing_steps.selectfiles\" in \"/fmriNASTest/data00/projects/megameta/darpa1/working/nipype/workingdir_preproc_SHARE/preprocessing_steps/_resolution_..data00..projects..megameta..templates..reference_medium_wad.nii_subject_id_sub-DP357/selectfiles\".\n",
      "200616-13:20:31,673 nipype.workflow INFO:\n",
      "\t [Node] Running \"selectfiles\" (\"nipype.interfaces.io.SelectFiles\")\n",
      "200616-13:20:31,808 nipype.workflow INFO:\n",
      "\t [Node] Finished \"preprocessing_steps.selectfiles\".\n",
      "200616-13:20:31,810 nipype.workflow INFO:\n",
      "\t [Node] Setting-up \"preprocessing_steps.unzip_resample_and_smooth.gunzip\" in \"/fmriNASTest/data00/projects/megameta/darpa1/working/nipype/workingdir_preproc_SHARE/preprocessing_steps/unzip_resample_and_smooth/_resolution_..data00..projects..megameta..templates..reference_medium_wad.nii_subject_id_sub-DP357/gunzip\".\n",
      "200616-13:20:32,85 nipype.workflow INFO:\n",
      "\t [Node] Setting-up \"_gunzip0\" in \"/fmriNASTest/data00/projects/megameta/darpa1/working/nipype/workingdir_preproc_SHARE/preprocessing_steps/unzip_resample_and_smooth/_resolution_..data00..projects..megameta..templates..reference_medium_wad.nii_subject_id_sub-DP357/gunzip/mapflow/_gunzip0\".\n",
      "200616-13:20:32,325 nipype.workflow INFO:\n",
      "\t [Node] Running \"_gunzip0\" (\"nipype.algorithms.misc.Gunzip\")\n",
      "200616-13:20:37,186 nipype.workflow INFO:\n",
      "\t [Node] Finished \"_gunzip0\".\n",
      "200616-13:20:37,393 nipype.workflow INFO:\n",
      "\t [Node] Finished \"preprocessing_steps.unzip_resample_and_smooth.gunzip\".\n",
      "200616-13:20:37,394 nipype.workflow INFO:\n",
      "\t [Node] Setting-up \"preprocessing_steps.unzip_resample_and_smooth.resample\" in \"/fmriNASTest/data00/projects/megameta/darpa1/working/nipype/workingdir_preproc_SHARE/preprocessing_steps/unzip_resample_and_smooth/_resolution_..data00..projects..megameta..templates..reference_medium_wad.nii_subject_id_sub-DP357/resample\".\n",
      "200616-13:20:37,759 nipype.workflow INFO:\n",
      "\t [Node] Setting-up \"_resample0\" in \"/fmriNASTest/data00/projects/megameta/darpa1/working/nipype/workingdir_preproc_SHARE/preprocessing_steps/unzip_resample_and_smooth/_resolution_..data00..projects..megameta..templates..reference_medium_wad.nii_subject_id_sub-DP357/resample/mapflow/_resample0\".\n",
      "200616-13:20:38,256 nipype.workflow INFO:\n",
      "\t [Node] Running \"_resample0\" (\"nipype.interfaces.spm.utils.Reslice\")\n",
      "200616-13:21:22,78 nipype.workflow INFO:\n",
      "\t [Node] Finished \"_resample0\".\n",
      "200616-13:21:22,158 nipype.workflow INFO:\n",
      "\t [Node] Finished \"preprocessing_steps.unzip_resample_and_smooth.resample\".\n",
      "200616-13:21:22,160 nipype.workflow INFO:\n",
      "\t [Node] Setting-up \"preprocessing_steps.unzip_resample_and_smooth.smooth\" in \"/fmriNASTest/data00/projects/megameta/darpa1/working/nipype/workingdir_preproc_SHARE/preprocessing_steps/unzip_resample_and_smooth/_resolution_..data00..projects..megameta..templates..reference_medium_wad.nii_subject_id_sub-DP357/_fwhm_8/smooth\".\n",
      "200616-13:21:22,474 nipype.workflow INFO:\n",
      "\t [Node] Running \"smooth\" (\"nipype.interfaces.spm.preprocess.Smooth\")\n"
     ]
    }
   ],
   "source": [
    "run_graph=preprocess.run('Linear')"
   ]
  },
  {
   "cell_type": "code",
   "execution_count": null,
   "metadata": {},
   "outputs": [],
   "source": []
  }
 ],
 "metadata": {
  "kernelspec": {
   "display_name": "Python 3",
   "language": "python",
   "name": "python3"
  },
  "language_info": {
   "codemirror_mode": {
    "name": "ipython",
    "version": 3
   },
   "file_extension": ".py",
   "mimetype": "text/x-python",
   "name": "python",
   "nbconvert_exporter": "python",
   "pygments_lexer": "ipython3",
   "version": "3.7.4"
  }
 },
 "nbformat": 4,
 "nbformat_minor": 2
}
