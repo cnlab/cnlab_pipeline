{
 "cells": [
  {
   "cell_type": "markdown",
   "metadata": {},
   "source": [
    "# Building second level models using _nipype_ and _SPM12_\n",
    "\n",
    "## Base functionality for _megameta_ project\n",
    "\n",
    "-------\n",
    "#### History\n",
    "\n",
    "* 4/15/19 mbod - incorporate function to read the 2nd level JSON model config\n",
    "* 4/9/19 mbod - modify template to work with fmriprep processed data\n",
    "* 3/20/19 mbod - initial setup for testing some simple one sample t-test models\n",
    "-----\n",
    "\n",
    "### Description\n",
    "\n",
    "* Set up a nipype workflow to use SPM12 to make second level models for _megameta_ task data (preprocessed using `batch8` SPM8 scripts) in BIDS derivative format   \n"
   ]
  },
  {
   "cell_type": "markdown",
   "metadata": {},
   "source": [
    "### Setup"
   ]
  },
  {
   "cell_type": "code",
   "execution_count": 3,
   "metadata": {},
   "outputs": [],
   "source": [
    "import os  # system functions\n",
    "\n",
    "# NIYPE FUNCTIONS\n",
    "import nipype.interfaces.io as nio           # Data i/o\n",
    "import nipype.interfaces.spm as spm          # spm\n",
    "import nipype.interfaces.matlab as mlab      # how to run matlab\n",
    "import nipype.interfaces.utility as util     # utility\n",
    "import nipype.pipeline.engine as pe          # pypeline engine\n",
    "import nipype.algorithms.modelgen as model   # model specification\n",
    "from nipype.interfaces.base import Bunch\n",
    "from nipype.algorithms.misc import Gunzip\n",
    "\n",
    "import scipy.io as sio\n",
    "import numpy as np\n",
    "import json\n",
    "import pandas as pd\n",
    "\n",
    "import random\n",
    "\n",
    "from IPython.display import Image\n",
    "\n",
    "\n",
    "from itertools import product"
   ]
  },
  {
   "cell_type": "markdown",
   "metadata": {},
   "source": [
    "#### Matlab path\n"
   ]
  },
  {
   "cell_type": "code",
   "execution_count": null,
   "metadata": {},
   "outputs": [],
   "source": [
    "# Set the way matlab should be called\n",
    "mlab.MatlabCommand.set_default_matlab_cmd(\"matlab -nodesktop -nosplash\")\n",
    "# If SPM is not in your MATLAB path you should add it here\n",
    "mlab.MatlabCommand.set_default_paths(PATH_TO_SPM_FOLDER)"
   ]
  },
  {
   "cell_type": "code",
   "execution_count": null,
   "metadata": {},
   "outputs": [],
   "source": [
    "GROUP_DIR = '/data00/projects/megameta/group_models/'"
   ]
  },
  {
   "cell_type": "markdown",
   "metadata": {},
   "source": [
    "#### Load JSON model config"
   ]
  },
  {
   "cell_type": "code",
   "execution_count": null,
   "metadata": {},
   "outputs": [],
   "source": [
    "JSON_MODEL_FILE = os.path.join('/data00/projects/megameta/scripts/jupyter_megameta/second_level_models',\n",
    "                               'model_specifications',\n",
    "                               MODEL_SPEC_FILE)"
   ]
  },
  {
   "cell_type": "code",
   "execution_count": null,
   "metadata": {},
   "outputs": [],
   "source": [
    "with open(JSON_MODEL_FILE) as fh:\n",
    "    model_def = json.load(fh)"
   ]
  },
  {
   "cell_type": "code",
   "execution_count": null,
   "metadata": {},
   "outputs": [],
   "source": [
    "MODEL_NAME = model_def['ModelName']\n",
    "\n",
    "CONTRASTS = model_def['Contrasts']\n",
    "\n",
    "ROOT_DIR = '/data00/projects/megameta'"
   ]
  },
  {
   "cell_type": "code",
   "execution_count": null,
   "metadata": {},
   "outputs": [],
   "source": [
    "l2_contrast_list = CONTRASTS # list of specific contrast files to use in 2nd level model (include .nii?)\n",
    "\n",
    "\n",
    "output_dir = os.path.join(GROUP_DIR,'derivatives', 'nipype','model_2nd-level_{}'.format(MODEL_NAME))        \n",
    "working_dir = os.path.join(GROUP_DIR, 'working', \n",
    "                           'nipype', 'workingdir_model_2nd-level_{}'.format(MODEL_NAME))   "
   ]
  },
  {
   "cell_type": "code",
   "execution_count": null,
   "metadata": {},
   "outputs": [],
   "source": [
    "if not os.path.exists(output_dir):\n",
    "    os.makedirs(output_dir)\n",
    "    \n",
    "if not os.path.exists(working_dir):\n",
    "    os.makedirs(working_dir)"
   ]
  },
  {
   "cell_type": "markdown",
   "metadata": {},
   "source": [
    "## Get list of contrast files"
   ]
  },
  {
   "cell_type": "code",
   "execution_count": 1,
   "metadata": {},
   "outputs": [],
   "source": [
    "def process_project(project_name, model_def=model_def, scan_all_subjs=False, DEBUG=False):\n",
    "    \n",
    "    project_spec = [pspec for pspec in model_def['Projects'] if pspec['Name']==project_name]\n",
    "    \n",
    "    if not project_spec:\n",
    "        print('Cannot find specification for project: ', project_name)\n",
    "        return None\n",
    "    \n",
    "    model_name = project_spec[0]['Model']\n",
    "    cmap = project_spec[0]['ContrastMap']\n",
    "    \n",
    "    \n",
    "    model_dir = os.path.join(ROOT_DIR, project_name, \n",
    "                             \"derivatives\", \"nipype\",\n",
    "                             \"model_{}\".format(model_name)\n",
    "                            )\n",
    "    \n",
    "    if not os.path.exists(model_dir):\n",
    "        print('Cannot find first level model directory:', model_dir)\n",
    "        return None\n",
    "    \n",
    "    subjs_with_models = [s for s in os.listdir(model_dir) if s.startswith('sub-')]\n",
    "    \n",
    "    if DEBUG:\n",
    "        print(\"Found {} first level subject models\\n\".format(len(subjs_with_models)))\n",
    "    \n",
    "    \n",
    "    contrast_lists = { cname: [] for cname in cmap}\n",
    "    \n",
    "    \n",
    "    model_contrasts=None\n",
    "    for sidx,subj in enumerate(subjs_with_models):\n",
    "        \n",
    "        if DEBUG:\n",
    "            print('Processing',subj, '-',end='')\n",
    "        \n",
    "        first_level_dir = os.path.join(model_dir, subj, 'medium', 'fwhm_8')\n",
    "\n",
    "        if scan_all_subjs or sidx==0:\n",
    "            spm_mat_file = os.path.join(first_level_dir, 'SPM.mat')\n",
    "\n",
    "            SPM = sio.loadmat(spm_mat_file, squeeze_me=True, struct_as_record=False)['SPM']\n",
    "\n",
    "            model_contrasts = SPM.xCon\n",
    "\n",
    "        if DEBUG:\n",
    "            print(' found {} contrasts'.format(len(model_contrasts)))\n",
    "\n",
    "        con_map = {con.name: 'con_{:0>4}.nii'.format(cidx) for cidx,con in enumerate(model_contrasts,1) }\n",
    "\n",
    "\n",
    "        if DEBUG:\n",
    "            print('\\tContrasts are:', con_map)\n",
    "        \n",
    "        for model_con, proj_con in cmap.items():\n",
    "            \n",
    "            path_to_con = os.path.join(first_level_dir, con_map[proj_con])\n",
    "            \n",
    "            if os.path.exists(path_to_con):\n",
    "                contrast_lists[model_con].append(path_to_con)\n",
    "            \n",
    "    return contrast_lists"
   ]
  },
  {
   "cell_type": "code",
   "execution_count": null,
   "metadata": {},
   "outputs": [],
   "source": []
  },
  {
   "cell_type": "markdown",
   "metadata": {},
   "source": [
    "## Define nodes"
   ]
  },
  {
   "cell_type": "code",
   "execution_count": 17,
   "metadata": {},
   "outputs": [
    {
     "ename": "NameError",
     "evalue": "name 'l2_contrast_list' is not defined",
     "output_type": "error",
     "traceback": [
      "\u001b[0;31m---------------------------------------------------------------------------\u001b[0m",
      "\u001b[0;31mNameError\u001b[0m                                 Traceback (most recent call last)",
      "\u001b[0;32m<ipython-input-17-0e436b1c88f4>\u001b[0m in \u001b[0;36m<module>\u001b[0;34m()\u001b[0m\n\u001b[1;32m      9\u001b[0m \u001b[0;34m\u001b[0m\u001b[0m\n\u001b[1;32m     10\u001b[0m \u001b[0;34m\u001b[0m\u001b[0m\n\u001b[0;32m---> 11\u001b[0;31m l2_infosource.iterables = [('contrast_id', l2_contrast_list), \n\u001b[0m\u001b[1;32m     12\u001b[0m                            \u001b[0;34m(\u001b[0m\u001b[0;34m'resolution_and_smoothing'\u001b[0m\u001b[0;34m,\u001b[0m \u001b[0mresolution_and_kernel_list\u001b[0m\u001b[0;34m)\u001b[0m\u001b[0;34m\u001b[0m\u001b[0m\n\u001b[1;32m     13\u001b[0m                         ]\n",
      "\u001b[0;31mNameError\u001b[0m: name 'l2_contrast_list' is not defined"
     ]
    }
   ],
   "source": [
    "# Infosource - a function free node to iterate over the list of subject names\n",
    "l2_infosource = pe.Node(util.IdentityInterface(fields=['contrast_id']),\n",
    "                  name=\"infosource\")\n",
    "\n",
    "smoothing_kernels = [ 8 ]\n",
    "resolutions = ['medium']\n",
    "\n",
    "resolution_and_kernel_list = product(resolutions, smoothing_kernels)\n",
    "\n",
    "\n",
    "l2_infosource.iterables = [('contrast_id', l2_contrast_list), \n",
    "                           ('resolution_and_smoothing', resolution_and_kernel_list)\n",
    "                        ]"
   ]
  },
  {
   "cell_type": "code",
   "execution_count": null,
   "metadata": {},
   "outputs": [],
   "source": [
    "# SelectFiles - to grab the data (alternativ to DataGrabber)\n",
    "\n",
    "subject_pattern='*'\n",
    "OUTPUT_DIR = output_dir\n",
    "l2_output_dir = output_dir\n",
    "\n",
    "l2_templates = {'cons': os.path.join(output_dir, MODEL_NAME, subject_pattern, '{smoothing_ksize}',\n",
    "                         '{contrast_id}.nii')}\n",
    "\n",
    "l2_selectfiles = pe.Node(nio.SelectFiles(l2_templates,\n",
    "                               base_directory=OUTPUT_DIR,\n",
    "                               sort_filelist=True),\n",
    "                   name=\"selectfiles\")"
   ]
  },
  {
   "cell_type": "code",
   "execution_count": null,
   "metadata": {},
   "outputs": [],
   "source": []
  },
  {
   "cell_type": "code",
   "execution_count": 4,
   "metadata": {},
   "outputs": [],
   "source": [
    "def make_contrast_list(model_path, cname='puremessageXselfrel', sample=10):\n",
    "\n",
    "    import json\n",
    "    import random\n",
    "    import os\n",
    "    import scipy.io as sio\n",
    "    \n",
    "    ROOT_DIR = '/data00/projects/megameta'\n",
    "    \n",
    "    def process_project(project_name, model_def, scan_all_subjs=False, DEBUG=False):\n",
    "\n",
    "        project_spec = [pspec for pspec in model_def['Projects'] if pspec['Name']==project_name]\n",
    "\n",
    "        if not project_spec:\n",
    "            print('Cannot find specification for project: ', project_name)\n",
    "            return None\n",
    "\n",
    "        model_name = project_spec[0]['Model']\n",
    "        cmap = project_spec[0]['ContrastMap']\n",
    "\n",
    "\n",
    "        model_dir = os.path.join(ROOT_DIR, project_name, \n",
    "                                 \"derivatives\", \"nipype\",\n",
    "                                 \"model_{}\".format(model_name)\n",
    "                                )\n",
    "\n",
    "        if not os.path.exists(model_dir):\n",
    "            print('Cannot find first level model directory:', model_dir)\n",
    "            return None\n",
    "\n",
    "        subjs_with_models = [s for s in os.listdir(model_dir) if s.startswith('sub-')]\n",
    "\n",
    "        if DEBUG:\n",
    "            print(\"Found {} first level subject models\\n\".format(len(subjs_with_models)))\n",
    "\n",
    "\n",
    "        contrast_lists = { cname: [] for cname in cmap}\n",
    "\n",
    "\n",
    "        model_contrasts=None\n",
    "        for sidx,subj in enumerate(subjs_with_models):\n",
    "\n",
    "            if DEBUG:\n",
    "                print('Processing',subj, '-',end='')\n",
    "\n",
    "            first_level_dir = os.path.join(model_dir, subj, 'medium', 'fwhm_8')\n",
    "\n",
    "            if scan_all_subjs or sidx==0:\n",
    "                spm_mat_file = os.path.join(first_level_dir, 'SPM.mat')\n",
    "\n",
    "                SPM = sio.loadmat(spm_mat_file, squeeze_me=True, struct_as_record=False)['SPM']\n",
    "\n",
    "                model_contrasts = SPM.xCon\n",
    "\n",
    "            if DEBUG:\n",
    "                print(' found {} contrasts'.format(len(model_contrasts)))\n",
    "\n",
    "            con_map = {con.name: 'con_{:0>4}.nii'.format(cidx) for cidx,con in enumerate(model_contrasts,1) }\n",
    "\n",
    "\n",
    "            if DEBUG:\n",
    "                print('\\tContrasts are:', con_map)\n",
    "\n",
    "            for model_con, proj_con in cmap.items():\n",
    "\n",
    "                path_to_con = os.path.join(first_level_dir, con_map[proj_con])\n",
    "\n",
    "                if os.path.exists(path_to_con):\n",
    "                    contrast_lists[model_con].append(path_to_con)\n",
    "\n",
    "        return contrast_lists\n",
    "    \n",
    "    \n",
    "    \n",
    "    \n",
    "    with open(model_path) as fh:\n",
    "        model_def = json.load(fh)\n",
    "        \n",
    "    conlist=[]\n",
    "    for p in model_def['Projects']:\n",
    "        conlist.extend(random.sample(process_project(p['Name'], model_def)[cname], sample))\n",
    "    \n",
    "    return conlist, {}"
   ]
  },
  {
   "cell_type": "code",
   "execution_count": null,
   "metadata": {},
   "outputs": [],
   "source": [
    "l2_getcontrasts = pe.Node(util.Function(input_names=['model_path'],\n",
    "                                     output_names=['contrasts', 'covariates'],\n",
    "                                      function=make_contrast_list),\n",
    "                    name='makecontrasts')"
   ]
  },
  {
   "cell_type": "code",
   "execution_count": null,
   "metadata": {},
   "outputs": [],
   "source": [
    "# Datasink - creates output folder for important outputs\n",
    "datasink = pe.Node(nio.DataSink(base_directory=OUTPUT_DIR,\n",
    "                         container=l2_output_dir),\n",
    "                name=\"datasink\")"
   ]
  },
  {
   "cell_type": "markdown",
   "metadata": {},
   "source": [
    "## Model nodes"
   ]
  },
  {
   "cell_type": "code",
   "execution_count": null,
   "metadata": {},
   "outputs": [],
   "source": [
    "osttdesign = pe.Node(spm.model.OneSampleTTestDesign(),\n",
    "                         name=\"osttdesign\")\n",
    "\n",
    "osttdesign.inputs.explicit_mask_file='/data00/tools/spm8/apriori/brainmask_th25.nii'"
   ]
  },
  {
   "cell_type": "code",
   "execution_count": 1,
   "metadata": {},
   "outputs": [
    {
     "ename": "NameError",
     "evalue": "name 'pe' is not defined",
     "output_type": "error",
     "traceback": [
      "\u001b[0;31m---------------------------------------------------------------------------\u001b[0m",
      "\u001b[0;31mNameError\u001b[0m                                 Traceback (most recent call last)",
      "\u001b[0;32m<ipython-input-1-5cb24c6c6814>\u001b[0m in \u001b[0;36m<module>\u001b[0;34m()\u001b[0m\n\u001b[1;32m      1\u001b[0m \u001b[0;31m# Multiple Regression Design - creates mreg Design\u001b[0m\u001b[0;34m\u001b[0m\u001b[0;34m\u001b[0m\u001b[0m\n\u001b[0;32m----> 2\u001b[0;31m mregdesign = pe.Node(spm.model.MultipleRegressionDesign,\n\u001b[0m\u001b[1;32m      3\u001b[0m                          name=\"mregdesign\")\n\u001b[1;32m      4\u001b[0m \u001b[0;34m\u001b[0m\u001b[0m\n\u001b[1;32m      5\u001b[0m \u001b[0mmregdesign\u001b[0m\u001b[0;34m.\u001b[0m\u001b[0minputs\u001b[0m\u001b[0;34m.\u001b[0m\u001b[0mcovariates\u001b[0m\u001b[0;34m=\u001b[0m\u001b[0mcovs\u001b[0m\u001b[0;34m\u001b[0m\u001b[0m\n",
      "\u001b[0;31mNameError\u001b[0m: name 'pe' is not defined"
     ]
    }
   ],
   "source": [
    "# Multiple Regression Design - creates mreg Design\n",
    "mregdesign = pe.Node(spm.model.MultipleRegressionDesign(),\n",
    "                         name=\"mregdesign\")\n",
    "\n",
    "#mregdesign.inputs.covariates=covs\n",
    "\n",
    "'''\n",
    "covs = [\n",
    "    {'name':'QuitIntent','vector': [2,2,3,2,3]},\n",
    "    {'name':'FTND','vector': [6,3,4,2,3]},\n",
    "    {'name':'mean_WC','vector': [77.92307692,  30.34782609,  51.2173913, 41.30434783,  41.0 ]},\n",
    "]\n",
    "'''\n",
    "\n",
    "mregdesign.inputs.explicit_mask_file='/data00/tools/spm8/apriori/brainmask_th25.nii'"
   ]
  },
  {
   "cell_type": "code",
   "execution_count": null,
   "metadata": {},
   "outputs": [],
   "source": [
    "# EstimateModel - estimate the parameters of the model\n",
    "level2estimate = pe.Node(spm.model.EstimateModel(estimation_method={'Classical': 1}),\n",
    "                      name=\"level2estimate\")\n",
    "\n"
   ]
  },
  {
   "cell_type": "code",
   "execution_count": null,
   "metadata": {},
   "outputs": [],
   "source": [
    "# EstimateContrast - estimates simple group contrast\n",
    "level2conestimate = pe.Node(spm.model.EstimateContrast(group_contrast=True),\n",
    "                         name=\"level2conestimate\")\n"
   ]
  },
  {
   "cell_type": "code",
   "execution_count": null,
   "metadata": {},
   "outputs": [],
   "source": [
    "# NEED FUNCTION TO CREATE CONTRASTS\n",
    "# should do this by reading the first level SPM.mat file\n",
    "# and generating contrast codes\n",
    "\n",
    "# for MREG models\n",
    "# need to extend syntax of JSON config"
   ]
  },
  {
   "cell_type": "code",
   "execution_count": null,
   "metadata": {},
   "outputs": [],
   "source": []
  },
  {
   "cell_type": "code",
   "execution_count": null,
   "metadata": {},
   "outputs": [],
   "source": [
    "'''\n",
    "cont1 = ['QuitIntent', 'T', ['QuitIntent', 'FTND', 'mean_WC', 'mean'], [1, 0, 0, 0]]\n",
    "cont2 = ['FTND', 'T', ['QuitIntent', 'FTND', 'mean_WC', 'mean'], [0, 1, 0, 0]]\n",
    "cont3 = ['mean_WC', 'T', ['QuitIntent', 'FTND', 'mean_WC', 'mean'], [0, 0, 1, 0]]\n",
    "cont4 = ['mean', 'T', ['QuitIntent', 'FTND', 'mean_WC', 'mean'], [0, 0, 0, 1]]\n",
    "'''\n",
    "\n",
    "cont = ['Group', 'T', ['mean'], [1]]\n",
    "\n",
    "level2conestimate.inputs.contrasts = [cont]"
   ]
  },
  {
   "cell_type": "markdown",
   "metadata": {},
   "source": [
    "## Setup second level workflow"
   ]
  },
  {
   "cell_type": "code",
   "execution_count": null,
   "metadata": {},
   "outputs": [],
   "source": [
    "#l2_working_dir = os.path.join(PROJECT_DIR, 'nipype', 'workingdir_banner_2nd_level')\n",
    "l2_working_dir = working_dir"
   ]
  },
  {
   "cell_type": "code",
   "execution_count": null,
   "metadata": {},
   "outputs": [],
   "source": [
    "\n",
    "l2analysis = pe.Workflow(name='l2analysis')\n",
    "\n",
    "l2analysis.base_dir = l2_working_dir\n",
    "\n",
    "# Connect up the 2nd-level analysis components\n",
    "l2analysis.connect(\n",
    "                    [\n",
    "                        \n",
    "                       # (l2_infosource, l2_getcontrasts, [('contrast_id', 'contrast_id'),\n",
    "                        #                               ('model_path')]),\n",
    "                     \n",
    "                     (l2_getcontrasts,  mregdesign, [('contrasts', 'in_files')]),\n",
    "                     \n",
    "                    (mregdesign, level2estimate, [('spm_mat_file',\n",
    "                                                          'spm_mat_file')] ),\n",
    "                    (level2estimate, level2conestimate, [('spm_mat_file',\n",
    "                                                          'spm_mat_file'),\n",
    "                                                         ('beta_images',\n",
    "                                                          'beta_images'),\n",
    "                                                         ('residual_image',\n",
    "                                                          'residual_image')])\n",
    "                    ])\n"
   ]
  }
 ],
 "metadata": {
  "kernelspec": {
   "display_name": "Python 3",
   "language": "python",
   "name": "python3"
  },
  "language_info": {
   "codemirror_mode": {
    "name": "ipython",
    "version": 3
   },
   "file_extension": ".py",
   "mimetype": "text/x-python",
   "name": "python",
   "nbconvert_exporter": "python",
   "pygments_lexer": "ipython3",
   "version": "3.7.4"
  }
 },
 "nbformat": 4,
 "nbformat_minor": 2
}
