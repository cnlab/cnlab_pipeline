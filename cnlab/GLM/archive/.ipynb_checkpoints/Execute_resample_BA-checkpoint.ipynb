{
 "cells": [
  {
   "cell_type": "markdown",
   "metadata": {},
   "source": [
    "## Resampling and smoothing for BA dataset after updated fmriprep processing\n",
    "#### 12/15/20 nc"
   ]
  },
  {
   "cell_type": "code",
   "execution_count": 47,
   "metadata": {},
   "outputs": [],
   "source": [
    "%matplotlib inline"
   ]
  },
  {
   "cell_type": "markdown",
   "metadata": {},
   "source": [
    "### Check dimensions of data and template "
   ]
  },
  {
   "cell_type": "code",
   "execution_count": 1,
   "metadata": {},
   "outputs": [],
   "source": [
    "import os\n",
    "import numpy as np\n",
    "import nibabel as nib\n",
    "from nibabel.testing import data_path\n"
   ]
  },
  {
   "cell_type": "code",
   "execution_count": 5,
   "metadata": {},
   "outputs": [
    {
     "name": "stdout",
     "output_type": "stream",
     "text": [
      "<class 'nibabel.nifti1.Nifti1Header'> object, endian='<'\n",
      "sizeof_hdr      : 348\n",
      "data_type       : b''\n",
      "db_name         : b''\n",
      "extents         : 0\n",
      "session_error   : 0\n",
      "regular         : b'r'\n",
      "dim_info        : 0\n",
      "dim             : [  4  97 115  97 269   1   1   1]\n",
      "intent_p1       : 0.0\n",
      "intent_p2       : 0.0\n",
      "intent_p3       : 0.0\n",
      "intent_code     : none\n",
      "datatype        : int16\n",
      "bitpix          : 16\n",
      "slice_start     : 0\n",
      "pixdim          : [1. 2. 2. 2. 2. 1. 1. 1.]\n",
      "vox_offset      : 0.0\n",
      "scl_slope       : nan\n",
      "scl_inter       : nan\n",
      "slice_end       : 0\n",
      "slice_code      : unknown\n",
      "xyzt_units      : 10\n",
      "cal_max         : 4519.745\n",
      "cal_min         : -344.58212\n",
      "slice_duration  : 0.0\n",
      "toffset         : 0.0\n",
      "glmax           : 0\n",
      "glmin           : 0\n",
      "descrip         : b'xform matrices modified by FixHeaderApplyTransforms (niworkflows v1.1.12).'\n",
      "aux_file        : b''\n",
      "qform_code      : mni\n",
      "sform_code      : mni\n",
      "quatern_b       : 0.0\n",
      "quatern_c       : 0.0\n",
      "quatern_d       : 0.0\n",
      "qoffset_x       : -96.5\n",
      "qoffset_y       : -132.5\n",
      "qoffset_z       : -78.5\n",
      "srow_x          : [  2.    0.    0.  -96.5]\n",
      "srow_y          : [   0.     2.     0.  -132.5]\n",
      "srow_z          : [  0.    0.    2.  -78.5]\n",
      "intent_name     : b''\n",
      "magic           : b'n+1'\n"
     ]
    }
   ],
   "source": [
    "example_ni1 = '/data00/projects/megameta/BA/derivatives/fmriprep/sub-BA247/func/sub-BA247_task-walkstatement_run-01_space-MNI152NLin2009cAsym_desc-preproc_bold.nii.gz'\n",
    "n1_img = nib.load(example_ni1)\n",
    "n1_header = n1_img.header\n",
    "print(n1_header)  "
   ]
  },
  {
   "cell_type": "code",
   "execution_count": 8,
   "metadata": {},
   "outputs": [
    {
     "name": "stdout",
     "output_type": "stream",
     "text": [
      "<class 'nibabel.nifti1.Nifti1Header'> object, endian='<'\n",
      "sizeof_hdr      : 348\n",
      "data_type       : b''\n",
      "db_name         : b''\n",
      "extents         : 0\n",
      "session_error   : 0\n",
      "regular         : b''\n",
      "dim_info        : 0\n",
      "dim             : [ 3 53 63 46  1  1  1  1]\n",
      "intent_p1       : 0.0\n",
      "intent_p2       : 0.0\n",
      "intent_p3       : 0.0\n",
      "intent_code     : none\n",
      "datatype        : float32\n",
      "bitpix          : 32\n",
      "slice_start     : 0\n",
      "pixdim          : [-1.  3.  3.  3.  1.  1.  1.  1.]\n",
      "vox_offset      : 0.0\n",
      "scl_slope       : nan\n",
      "scl_inter       : nan\n",
      "slice_end       : 0\n",
      "slice_code      : unknown\n",
      "xyzt_units      : 0\n",
      "cal_max         : 0.0\n",
      "cal_min         : 0.0\n",
      "slice_duration  : 0.0\n",
      "toffset         : 0.0\n",
      "glmax           : 0\n",
      "glmin           : 0\n",
      "descrip         : b''\n",
      "aux_file        : b''\n",
      "qform_code      : unknown\n",
      "sform_code      : aligned\n",
      "quatern_b       : 0.0\n",
      "quatern_c       : 1.0\n",
      "quatern_d       : 0.0\n",
      "qoffset_x       : 78.0\n",
      "qoffset_y       : -112.0\n",
      "qoffset_z       : -50.0\n",
      "srow_x          : [-3.  0.  0. 78.]\n",
      "srow_y          : [   0.    3.    0. -112.]\n",
      "srow_z          : [  0.   0.   3. -50.]\n",
      "intent_name     : b''\n",
      "magic           : b'n+1'\n"
     ]
    }
   ],
   "source": [
    "template = '/data00/projects/megameta/templates/reference_medium_wad.nii'\n",
    "template_img = nib.load(template)\n",
    "template_header = template_img.header\n",
    "print(template_header)  "
   ]
  },
  {
   "cell_type": "markdown",
   "metadata": {},
   "source": [
    "## Set up resampling"
   ]
  },
  {
   "cell_type": "code",
   "execution_count": 13,
   "metadata": {},
   "outputs": [],
   "source": [
    "resolution='medium'\n",
    "PROJECT_NAME='BA'\n",
    "TASK_NAME='walkstatement'\n",
    "smoothing=[8]\n",
    "PATH_TO_SPM_FOLDER = '/data00/tools/spm12mega'"
   ]
  },
  {
   "cell_type": "code",
   "execution_count": 11,
   "metadata": {},
   "outputs": [],
   "source": [
    "PATH_TO_SPM_FOLDER = '/data00/tools/spm12mega'"
   ]
  },
  {
   "cell_type": "code",
   "execution_count": 18,
   "metadata": {},
   "outputs": [],
   "source": [
    "\n",
    "#include_subjects = ['sub-BA239']\n",
    "#exclude_subjects=['sub-PP01']"
   ]
  },
  {
   "cell_type": "code",
   "execution_count": 19,
   "metadata": {},
   "outputs": [
    {
     "name": "stdout",
     "output_type": "stream",
     "text": [
      "\n",
      "\n",
      "No subject exclusions applied\n",
      "\n",
      "\n",
      "Applied subject inclusion list:\n",
      "\t sub-BA239\n",
      "\n",
      "\n",
      "SUBJECT LIST IS:\n",
      "\t sub-BA239\n"
     ]
    }
   ],
   "source": [
    "%run \"/data00/projects/megameta/scripts/jupyter_megameta/cnlab/GLM/smooth_resample_EXTERNAL_DATA-multiple_runs.ipynb\""
   ]
  },
  {
   "cell_type": "code",
   "execution_count": 20,
   "metadata": {},
   "outputs": [
    {
     "name": "stdout",
     "output_type": "stream",
     "text": [
      "201215-14:33:07,613 nipype.workflow INFO:\n",
      "\t Workflow preprocessing_steps settings: ['check', 'execution', 'logging', 'monitoring']\n"
     ]
    },
    {
     "name": "stderr",
     "output_type": "stream",
     "text": [
      "INFO:nipype.workflow:Workflow preprocessing_steps settings: ['check', 'execution', 'logging', 'monitoring']\n"
     ]
    },
    {
     "name": "stdout",
     "output_type": "stream",
     "text": [
      "201215-14:33:07,720 nipype.workflow INFO:\n",
      "\t Running serially.\n"
     ]
    },
    {
     "name": "stderr",
     "output_type": "stream",
     "text": [
      "INFO:nipype.workflow:Running serially.\n"
     ]
    },
    {
     "name": "stdout",
     "output_type": "stream",
     "text": [
      "201215-14:33:07,722 nipype.workflow INFO:\n",
      "\t [Node] Setting-up \"preprocessing_steps.selectfiles\" in \"/fmriNASTest/data00/projects/megameta/BA/working/nipype/workingdir_preproc_WALKSTATEMENT/preprocessing_steps/_resolution_..data00..projects..megameta..templates..reference_medium_wad.nii_subject_id_sub-BA239/selectfiles\".\n"
     ]
    },
    {
     "name": "stderr",
     "output_type": "stream",
     "text": [
      "INFO:nipype.workflow:[Node] Setting-up \"preprocessing_steps.selectfiles\" in \"/fmriNASTest/data00/projects/megameta/BA/working/nipype/workingdir_preproc_WALKSTATEMENT/preprocessing_steps/_resolution_..data00..projects..megameta..templates..reference_medium_wad.nii_subject_id_sub-BA239/selectfiles\".\n"
     ]
    },
    {
     "name": "stdout",
     "output_type": "stream",
     "text": [
      "201215-14:33:07,927 nipype.workflow INFO:\n",
      "\t [Node] Running \"selectfiles\" (\"nipype.interfaces.io.SelectFiles\")\n"
     ]
    },
    {
     "name": "stderr",
     "output_type": "stream",
     "text": [
      "INFO:nipype.workflow:[Node] Running \"selectfiles\" (\"nipype.interfaces.io.SelectFiles\")\n"
     ]
    },
    {
     "name": "stdout",
     "output_type": "stream",
     "text": [
      "201215-14:33:07,998 nipype.workflow INFO:\n",
      "\t [Node] Finished \"preprocessing_steps.selectfiles\".\n"
     ]
    },
    {
     "name": "stderr",
     "output_type": "stream",
     "text": [
      "INFO:nipype.workflow:[Node] Finished \"preprocessing_steps.selectfiles\".\n"
     ]
    },
    {
     "name": "stdout",
     "output_type": "stream",
     "text": [
      "201215-14:33:08,0 nipype.workflow INFO:\n",
      "\t [Node] Setting-up \"preprocessing_steps.unzip_resample_and_smooth.gunzip\" in \"/fmriNASTest/data00/projects/megameta/BA/working/nipype/workingdir_preproc_WALKSTATEMENT/preprocessing_steps/unzip_resample_and_smooth/_resolution_..data00..projects..megameta..templates..reference_medium_wad.nii_subject_id_sub-BA239/gunzip\".\n"
     ]
    },
    {
     "name": "stderr",
     "output_type": "stream",
     "text": [
      "INFO:nipype.workflow:[Node] Setting-up \"preprocessing_steps.unzip_resample_and_smooth.gunzip\" in \"/fmriNASTest/data00/projects/megameta/BA/working/nipype/workingdir_preproc_WALKSTATEMENT/preprocessing_steps/unzip_resample_and_smooth/_resolution_..data00..projects..megameta..templates..reference_medium_wad.nii_subject_id_sub-BA239/gunzip\".\n"
     ]
    },
    {
     "name": "stdout",
     "output_type": "stream",
     "text": [
      "201215-14:33:08,137 nipype.workflow INFO:\n",
      "\t [Node] Setting-up \"_gunzip0\" in \"/fmriNASTest/data00/projects/megameta/BA/working/nipype/workingdir_preproc_WALKSTATEMENT/preprocessing_steps/unzip_resample_and_smooth/_resolution_..data00..projects..megameta..templates..reference_medium_wad.nii_subject_id_sub-BA239/gunzip/mapflow/_gunzip0\".\n"
     ]
    },
    {
     "name": "stderr",
     "output_type": "stream",
     "text": [
      "INFO:nipype.workflow:[Node] Setting-up \"_gunzip0\" in \"/fmriNASTest/data00/projects/megameta/BA/working/nipype/workingdir_preproc_WALKSTATEMENT/preprocessing_steps/unzip_resample_and_smooth/_resolution_..data00..projects..megameta..templates..reference_medium_wad.nii_subject_id_sub-BA239/gunzip/mapflow/_gunzip0\".\n"
     ]
    },
    {
     "name": "stdout",
     "output_type": "stream",
     "text": [
      "201215-14:33:08,267 nipype.workflow INFO:\n",
      "\t [Node] Running \"_gunzip0\" (\"nipype.algorithms.misc.Gunzip\")\n"
     ]
    },
    {
     "name": "stderr",
     "output_type": "stream",
     "text": [
      "INFO:nipype.workflow:[Node] Running \"_gunzip0\" (\"nipype.algorithms.misc.Gunzip\")\n"
     ]
    },
    {
     "name": "stdout",
     "output_type": "stream",
     "text": [
      "201215-14:33:16,381 nipype.workflow INFO:\n",
      "\t [Node] Finished \"_gunzip0\".\n"
     ]
    },
    {
     "name": "stderr",
     "output_type": "stream",
     "text": [
      "INFO:nipype.workflow:[Node] Finished \"_gunzip0\".\n"
     ]
    },
    {
     "name": "stdout",
     "output_type": "stream",
     "text": [
      "201215-14:33:16,389 nipype.workflow INFO:\n",
      "\t [Node] Setting-up \"_gunzip1\" in \"/fmriNASTest/data00/projects/megameta/BA/working/nipype/workingdir_preproc_WALKSTATEMENT/preprocessing_steps/unzip_resample_and_smooth/_resolution_..data00..projects..megameta..templates..reference_medium_wad.nii_subject_id_sub-BA239/gunzip/mapflow/_gunzip1\".\n"
     ]
    },
    {
     "name": "stderr",
     "output_type": "stream",
     "text": [
      "INFO:nipype.workflow:[Node] Setting-up \"_gunzip1\" in \"/fmriNASTest/data00/projects/megameta/BA/working/nipype/workingdir_preproc_WALKSTATEMENT/preprocessing_steps/unzip_resample_and_smooth/_resolution_..data00..projects..megameta..templates..reference_medium_wad.nii_subject_id_sub-BA239/gunzip/mapflow/_gunzip1\".\n"
     ]
    },
    {
     "name": "stdout",
     "output_type": "stream",
     "text": [
      "201215-14:33:16,575 nipype.workflow INFO:\n",
      "\t [Node] Running \"_gunzip1\" (\"nipype.algorithms.misc.Gunzip\")\n"
     ]
    },
    {
     "name": "stderr",
     "output_type": "stream",
     "text": [
      "INFO:nipype.workflow:[Node] Running \"_gunzip1\" (\"nipype.algorithms.misc.Gunzip\")\n"
     ]
    },
    {
     "name": "stdout",
     "output_type": "stream",
     "text": [
      "201215-14:33:25,703 nipype.workflow INFO:\n",
      "\t [Node] Finished \"_gunzip1\".\n"
     ]
    },
    {
     "name": "stderr",
     "output_type": "stream",
     "text": [
      "INFO:nipype.workflow:[Node] Finished \"_gunzip1\".\n"
     ]
    },
    {
     "name": "stdout",
     "output_type": "stream",
     "text": [
      "201215-14:33:25,711 nipype.workflow INFO:\n",
      "\t [Node] Setting-up \"_gunzip2\" in \"/fmriNASTest/data00/projects/megameta/BA/working/nipype/workingdir_preproc_WALKSTATEMENT/preprocessing_steps/unzip_resample_and_smooth/_resolution_..data00..projects..megameta..templates..reference_medium_wad.nii_subject_id_sub-BA239/gunzip/mapflow/_gunzip2\".\n"
     ]
    },
    {
     "name": "stderr",
     "output_type": "stream",
     "text": [
      "INFO:nipype.workflow:[Node] Setting-up \"_gunzip2\" in \"/fmriNASTest/data00/projects/megameta/BA/working/nipype/workingdir_preproc_WALKSTATEMENT/preprocessing_steps/unzip_resample_and_smooth/_resolution_..data00..projects..megameta..templates..reference_medium_wad.nii_subject_id_sub-BA239/gunzip/mapflow/_gunzip2\".\n"
     ]
    },
    {
     "name": "stdout",
     "output_type": "stream",
     "text": [
      "201215-14:33:25,830 nipype.workflow INFO:\n",
      "\t [Node] Running \"_gunzip2\" (\"nipype.algorithms.misc.Gunzip\")\n"
     ]
    },
    {
     "name": "stderr",
     "output_type": "stream",
     "text": [
      "INFO:nipype.workflow:[Node] Running \"_gunzip2\" (\"nipype.algorithms.misc.Gunzip\")\n"
     ]
    },
    {
     "name": "stdout",
     "output_type": "stream",
     "text": [
      "201215-14:33:33,372 nipype.workflow INFO:\n",
      "\t [Node] Finished \"_gunzip2\".\n"
     ]
    },
    {
     "name": "stderr",
     "output_type": "stream",
     "text": [
      "INFO:nipype.workflow:[Node] Finished \"_gunzip2\".\n"
     ]
    },
    {
     "name": "stdout",
     "output_type": "stream",
     "text": [
      "201215-14:33:33,425 nipype.workflow INFO:\n",
      "\t [Node] Finished \"preprocessing_steps.unzip_resample_and_smooth.gunzip\".\n"
     ]
    },
    {
     "name": "stderr",
     "output_type": "stream",
     "text": [
      "INFO:nipype.workflow:[Node] Finished \"preprocessing_steps.unzip_resample_and_smooth.gunzip\".\n"
     ]
    },
    {
     "name": "stdout",
     "output_type": "stream",
     "text": [
      "201215-14:33:33,427 nipype.workflow INFO:\n",
      "\t [Node] Setting-up \"preprocessing_steps.unzip_resample_and_smooth.resample\" in \"/fmriNASTest/data00/projects/megameta/BA/working/nipype/workingdir_preproc_WALKSTATEMENT/preprocessing_steps/unzip_resample_and_smooth/_resolution_..data00..projects..megameta..templates..reference_medium_wad.nii_subject_id_sub-BA239/resample\".\n"
     ]
    },
    {
     "name": "stderr",
     "output_type": "stream",
     "text": [
      "INFO:nipype.workflow:[Node] Setting-up \"preprocessing_steps.unzip_resample_and_smooth.resample\" in \"/fmriNASTest/data00/projects/megameta/BA/working/nipype/workingdir_preproc_WALKSTATEMENT/preprocessing_steps/unzip_resample_and_smooth/_resolution_..data00..projects..megameta..templates..reference_medium_wad.nii_subject_id_sub-BA239/resample\".\n"
     ]
    },
    {
     "name": "stdout",
     "output_type": "stream",
     "text": [
      "201215-14:33:33,559 nipype.workflow INFO:\n",
      "\t [Node] Setting-up \"_resample0\" in \"/fmriNASTest/data00/projects/megameta/BA/working/nipype/workingdir_preproc_WALKSTATEMENT/preprocessing_steps/unzip_resample_and_smooth/_resolution_..data00..projects..megameta..templates..reference_medium_wad.nii_subject_id_sub-BA239/resample/mapflow/_resample0\".\n"
     ]
    },
    {
     "name": "stderr",
     "output_type": "stream",
     "text": [
      "INFO:nipype.workflow:[Node] Setting-up \"_resample0\" in \"/fmriNASTest/data00/projects/megameta/BA/working/nipype/workingdir_preproc_WALKSTATEMENT/preprocessing_steps/unzip_resample_and_smooth/_resolution_..data00..projects..megameta..templates..reference_medium_wad.nii_subject_id_sub-BA239/resample/mapflow/_resample0\".\n"
     ]
    },
    {
     "name": "stdout",
     "output_type": "stream",
     "text": [
      "201215-14:33:33,811 nipype.workflow INFO:\n",
      "\t [Node] Running \"_resample0\" (\"nipype.interfaces.spm.utils.Reslice\")\n"
     ]
    },
    {
     "name": "stderr",
     "output_type": "stream",
     "text": [
      "INFO:nipype.workflow:[Node] Running \"_resample0\" (\"nipype.interfaces.spm.utils.Reslice\")\n"
     ]
    },
    {
     "name": "stdout",
     "output_type": "stream",
     "text": [
      "201215-14:34:13,33 nipype.workflow INFO:\n",
      "\t [Node] Finished \"_resample0\".\n"
     ]
    },
    {
     "name": "stderr",
     "output_type": "stream",
     "text": [
      "INFO:nipype.workflow:[Node] Finished \"_resample0\".\n"
     ]
    },
    {
     "name": "stdout",
     "output_type": "stream",
     "text": [
      "201215-14:34:13,38 nipype.workflow INFO:\n",
      "\t [Node] Setting-up \"_resample1\" in \"/fmriNASTest/data00/projects/megameta/BA/working/nipype/workingdir_preproc_WALKSTATEMENT/preprocessing_steps/unzip_resample_and_smooth/_resolution_..data00..projects..megameta..templates..reference_medium_wad.nii_subject_id_sub-BA239/resample/mapflow/_resample1\".\n"
     ]
    },
    {
     "name": "stderr",
     "output_type": "stream",
     "text": [
      "INFO:nipype.workflow:[Node] Setting-up \"_resample1\" in \"/fmriNASTest/data00/projects/megameta/BA/working/nipype/workingdir_preproc_WALKSTATEMENT/preprocessing_steps/unzip_resample_and_smooth/_resolution_..data00..projects..megameta..templates..reference_medium_wad.nii_subject_id_sub-BA239/resample/mapflow/_resample1\".\n"
     ]
    },
    {
     "name": "stdout",
     "output_type": "stream",
     "text": [
      "201215-14:34:13,149 nipype.workflow INFO:\n",
      "\t [Node] Running \"_resample1\" (\"nipype.interfaces.spm.utils.Reslice\")\n"
     ]
    },
    {
     "name": "stderr",
     "output_type": "stream",
     "text": [
      "INFO:nipype.workflow:[Node] Running \"_resample1\" (\"nipype.interfaces.spm.utils.Reslice\")\n"
     ]
    },
    {
     "name": "stdout",
     "output_type": "stream",
     "text": [
      "201215-14:34:43,339 nipype.workflow INFO:\n",
      "\t [Node] Finished \"_resample1\".\n"
     ]
    },
    {
     "name": "stderr",
     "output_type": "stream",
     "text": [
      "INFO:nipype.workflow:[Node] Finished \"_resample1\".\n"
     ]
    },
    {
     "name": "stdout",
     "output_type": "stream",
     "text": [
      "201215-14:34:43,349 nipype.workflow INFO:\n",
      "\t [Node] Setting-up \"_resample2\" in \"/fmriNASTest/data00/projects/megameta/BA/working/nipype/workingdir_preproc_WALKSTATEMENT/preprocessing_steps/unzip_resample_and_smooth/_resolution_..data00..projects..megameta..templates..reference_medium_wad.nii_subject_id_sub-BA239/resample/mapflow/_resample2\".\n"
     ]
    },
    {
     "name": "stderr",
     "output_type": "stream",
     "text": [
      "INFO:nipype.workflow:[Node] Setting-up \"_resample2\" in \"/fmriNASTest/data00/projects/megameta/BA/working/nipype/workingdir_preproc_WALKSTATEMENT/preprocessing_steps/unzip_resample_and_smooth/_resolution_..data00..projects..megameta..templates..reference_medium_wad.nii_subject_id_sub-BA239/resample/mapflow/_resample2\".\n"
     ]
    },
    {
     "name": "stdout",
     "output_type": "stream",
     "text": [
      "201215-14:34:43,467 nipype.workflow INFO:\n",
      "\t [Node] Running \"_resample2\" (\"nipype.interfaces.spm.utils.Reslice\")\n"
     ]
    },
    {
     "name": "stderr",
     "output_type": "stream",
     "text": [
      "INFO:nipype.workflow:[Node] Running \"_resample2\" (\"nipype.interfaces.spm.utils.Reslice\")\n"
     ]
    },
    {
     "name": "stdout",
     "output_type": "stream",
     "text": [
      "201215-14:35:16,194 nipype.workflow INFO:\n",
      "\t [Node] Finished \"_resample2\".\n"
     ]
    },
    {
     "name": "stderr",
     "output_type": "stream",
     "text": [
      "INFO:nipype.workflow:[Node] Finished \"_resample2\".\n"
     ]
    },
    {
     "name": "stdout",
     "output_type": "stream",
     "text": [
      "201215-14:35:16,349 nipype.workflow INFO:\n",
      "\t [Node] Finished \"preprocessing_steps.unzip_resample_and_smooth.resample\".\n"
     ]
    },
    {
     "name": "stderr",
     "output_type": "stream",
     "text": [
      "INFO:nipype.workflow:[Node] Finished \"preprocessing_steps.unzip_resample_and_smooth.resample\".\n"
     ]
    },
    {
     "name": "stdout",
     "output_type": "stream",
     "text": [
      "201215-14:35:16,351 nipype.workflow INFO:\n",
      "\t [Node] Setting-up \"preprocessing_steps.unzip_resample_and_smooth.smooth\" in \"/fmriNASTest/data00/projects/megameta/BA/working/nipype/workingdir_preproc_WALKSTATEMENT/preprocessing_steps/unzip_resample_and_smooth/_resolution_..data00..projects..megameta..templates..reference_medium_wad.nii_subject_id_sub-BA239/_fwhm_8/smooth\".\n"
     ]
    },
    {
     "name": "stderr",
     "output_type": "stream",
     "text": [
      "INFO:nipype.workflow:[Node] Setting-up \"preprocessing_steps.unzip_resample_and_smooth.smooth\" in \"/fmriNASTest/data00/projects/megameta/BA/working/nipype/workingdir_preproc_WALKSTATEMENT/preprocessing_steps/unzip_resample_and_smooth/_resolution_..data00..projects..megameta..templates..reference_medium_wad.nii_subject_id_sub-BA239/_fwhm_8/smooth\".\n"
     ]
    },
    {
     "name": "stdout",
     "output_type": "stream",
     "text": [
      "201215-14:35:16,699 nipype.workflow INFO:\n",
      "\t [Node] Running \"smooth\" (\"nipype.interfaces.spm.preprocess.Smooth\")\n"
     ]
    },
    {
     "name": "stderr",
     "output_type": "stream",
     "text": [
      "INFO:nipype.workflow:[Node] Running \"smooth\" (\"nipype.interfaces.spm.preprocess.Smooth\")\n"
     ]
    },
    {
     "name": "stdout",
     "output_type": "stream",
     "text": [
      "201215-14:40:14,440 nipype.workflow INFO:\n",
      "\t [Node] Finished \"preprocessing_steps.unzip_resample_and_smooth.smooth\".\n"
     ]
    },
    {
     "name": "stderr",
     "output_type": "stream",
     "text": [
      "INFO:nipype.workflow:[Node] Finished \"preprocessing_steps.unzip_resample_and_smooth.smooth\".\n"
     ]
    },
    {
     "name": "stdout",
     "output_type": "stream",
     "text": [
      "201215-14:40:14,442 nipype.workflow INFO:\n",
      "\t [Node] Setting-up \"preprocessing_steps.pp_datasink\" in \"/fmriNASTest/data00/projects/megameta/BA/working/nipype/workingdir_preproc_WALKSTATEMENT/preprocessing_steps/_resolution_..data00..projects..megameta..templates..reference_medium_wad.nii_subject_id_sub-BA239/_fwhm_8/pp_datasink\".\n"
     ]
    },
    {
     "name": "stderr",
     "output_type": "stream",
     "text": [
      "INFO:nipype.workflow:[Node] Setting-up \"preprocessing_steps.pp_datasink\" in \"/fmriNASTest/data00/projects/megameta/BA/working/nipype/workingdir_preproc_WALKSTATEMENT/preprocessing_steps/_resolution_..data00..projects..megameta..templates..reference_medium_wad.nii_subject_id_sub-BA239/_fwhm_8/pp_datasink\".\n"
     ]
    },
    {
     "name": "stdout",
     "output_type": "stream",
     "text": [
      "201215-14:40:14,787 nipype.workflow INFO:\n",
      "\t [Node] Running \"pp_datasink\" (\"nipype.interfaces.io.DataSink\")\n"
     ]
    },
    {
     "name": "stderr",
     "output_type": "stream",
     "text": [
      "INFO:nipype.workflow:[Node] Running \"pp_datasink\" (\"nipype.interfaces.io.DataSink\")\n"
     ]
    },
    {
     "name": "stdout",
     "output_type": "stream",
     "text": [
      "201215-14:40:14,810 nipype.interface INFO:\n",
      "\t sub: /data00/projects/megameta/BA/derivatives/nipype/resampled_and_smoothed/sub-BA239/_resolution_..data00..projects..megameta..templates..reference_medium_wad.nii_subject_id_sub-BA239/_fwhm_8/srsub-BA239_task-walkstatement_run-01_space-MNI152NLin2009cAsym_desc-preproc_bold.nii -> /data00/projects/megameta/BA/derivatives/nipype/resampled_and_smoothed/sub-BA239/medium/fwhm_8/srsub-BA239_task-walkstatement_run-01_space-MNI152NLin2009cAsym_desc-preproc_bold.nii\n"
     ]
    },
    {
     "name": "stderr",
     "output_type": "stream",
     "text": [
      "INFO:nipype.interface:sub: /data00/projects/megameta/BA/derivatives/nipype/resampled_and_smoothed/sub-BA239/_resolution_..data00..projects..megameta..templates..reference_medium_wad.nii_subject_id_sub-BA239/_fwhm_8/srsub-BA239_task-walkstatement_run-01_space-MNI152NLin2009cAsym_desc-preproc_bold.nii -> /data00/projects/megameta/BA/derivatives/nipype/resampled_and_smoothed/sub-BA239/medium/fwhm_8/srsub-BA239_task-walkstatement_run-01_space-MNI152NLin2009cAsym_desc-preproc_bold.nii\n"
     ]
    },
    {
     "name": "stdout",
     "output_type": "stream",
     "text": [
      "201215-14:40:17,478 nipype.interface INFO:\n",
      "\t sub: /data00/projects/megameta/BA/derivatives/nipype/resampled_and_smoothed/sub-BA239/_resolution_..data00..projects..megameta..templates..reference_medium_wad.nii_subject_id_sub-BA239/_fwhm_8/srsub-BA239_task-walkstatement_run-02_space-MNI152NLin2009cAsym_desc-preproc_bold.nii -> /data00/projects/megameta/BA/derivatives/nipype/resampled_and_smoothed/sub-BA239/medium/fwhm_8/srsub-BA239_task-walkstatement_run-02_space-MNI152NLin2009cAsym_desc-preproc_bold.nii\n"
     ]
    },
    {
     "name": "stderr",
     "output_type": "stream",
     "text": [
      "INFO:nipype.interface:sub: /data00/projects/megameta/BA/derivatives/nipype/resampled_and_smoothed/sub-BA239/_resolution_..data00..projects..megameta..templates..reference_medium_wad.nii_subject_id_sub-BA239/_fwhm_8/srsub-BA239_task-walkstatement_run-02_space-MNI152NLin2009cAsym_desc-preproc_bold.nii -> /data00/projects/megameta/BA/derivatives/nipype/resampled_and_smoothed/sub-BA239/medium/fwhm_8/srsub-BA239_task-walkstatement_run-02_space-MNI152NLin2009cAsym_desc-preproc_bold.nii\n"
     ]
    },
    {
     "name": "stdout",
     "output_type": "stream",
     "text": [
      "201215-14:40:19,635 nipype.interface INFO:\n",
      "\t sub: /data00/projects/megameta/BA/derivatives/nipype/resampled_and_smoothed/sub-BA239/_resolution_..data00..projects..megameta..templates..reference_medium_wad.nii_subject_id_sub-BA239/_fwhm_8/srsub-BA239_task-walkstatement_run-03_space-MNI152NLin2009cAsym_desc-preproc_bold.nii -> /data00/projects/megameta/BA/derivatives/nipype/resampled_and_smoothed/sub-BA239/medium/fwhm_8/srsub-BA239_task-walkstatement_run-03_space-MNI152NLin2009cAsym_desc-preproc_bold.nii\n"
     ]
    },
    {
     "name": "stderr",
     "output_type": "stream",
     "text": [
      "INFO:nipype.interface:sub: /data00/projects/megameta/BA/derivatives/nipype/resampled_and_smoothed/sub-BA239/_resolution_..data00..projects..megameta..templates..reference_medium_wad.nii_subject_id_sub-BA239/_fwhm_8/srsub-BA239_task-walkstatement_run-03_space-MNI152NLin2009cAsym_desc-preproc_bold.nii -> /data00/projects/megameta/BA/derivatives/nipype/resampled_and_smoothed/sub-BA239/medium/fwhm_8/srsub-BA239_task-walkstatement_run-03_space-MNI152NLin2009cAsym_desc-preproc_bold.nii\n"
     ]
    },
    {
     "name": "stdout",
     "output_type": "stream",
     "text": [
      "201215-14:40:21,898 nipype.workflow INFO:\n",
      "\t [Node] Finished \"preprocessing_steps.pp_datasink\".\n"
     ]
    },
    {
     "name": "stderr",
     "output_type": "stream",
     "text": [
      "INFO:nipype.workflow:[Node] Finished \"preprocessing_steps.pp_datasink\".\n"
     ]
    }
   ],
   "source": [
    "run_graph=preprocess.run('Linear')"
   ]
  },
  {
   "cell_type": "code",
   "execution_count": null,
   "metadata": {},
   "outputs": [],
   "source": []
  }
 ],
 "metadata": {
  "kernelspec": {
   "display_name": "Python 3",
   "language": "python",
   "name": "python3"
  },
  "language_info": {
   "codemirror_mode": {
    "name": "ipython",
    "version": 3
   },
   "file_extension": ".py",
   "mimetype": "text/x-python",
   "name": "python",
   "nbconvert_exporter": "python",
   "pygments_lexer": "ipython3",
   "version": "3.7.4"
  }
 },
 "nbformat": 4,
 "nbformat_minor": 2
}
