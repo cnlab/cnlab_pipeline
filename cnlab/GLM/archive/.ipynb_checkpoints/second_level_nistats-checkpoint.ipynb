{
 "cells": [
  {
   "cell_type": "code",
   "execution_count": null,
   "metadata": {},
   "outputs": [],
   "source": []
  },
  {
   "cell_type": "code",
   "execution_count": 1,
   "metadata": {},
   "outputs": [],
   "source": [
    "%matplotlib inline"
   ]
  },
  {
   "cell_type": "code",
   "execution_count": 168,
   "metadata": {},
   "outputs": [],
   "source": [
    "from nistats.second_level_model import SecondLevelModel\n",
    "from nistats.design_matrix import create_second_level_design\n",
    "from nistats.reporting import plot_design_matrix\n",
    "\n",
    "from nistats.thresholding import map_threshold\n",
    "\n",
    "from nilearn import plotting\n",
    "\n",
    "from scipy.stats import norm\n",
    "\n",
    "\n",
    "import matplotlib.pyplot as plt\n",
    "\n",
    "import pandas as pd\n",
    "\n",
    "import os"
   ]
  },
  {
   "cell_type": "code",
   "execution_count": 9,
   "metadata": {},
   "outputs": [],
   "source": [
    "first_level_dir = '/data00/projects/project1/nipype/output_banner_1st_level'"
   ]
  },
  {
   "cell_type": "code",
   "execution_count": 10,
   "metadata": {},
   "outputs": [],
   "source": [
    "con_files = [os.path.join(first_level_dir,subj,'model_BANNER_pmod_cogmech', 'spmT_0003.img')\n",
    "                for subj in os.listdir(first_level_dir)\n",
    "                if os.path.exists(\n",
    "                os.path.join(first_level_dir,subj,'model_BANNER_pmod_cogmech', 'spmT_0003.img')\n",
    "                )\n",
    "            ]"
   ]
  },
  {
   "cell_type": "code",
   "execution_count": 64,
   "metadata": {},
   "outputs": [],
   "source": [
    "subject_list = [p.split('/')[6] for p in con_files]"
   ]
  },
  {
   "cell_type": "code",
   "execution_count": 69,
   "metadata": {},
   "outputs": [],
   "source": [
    "design_matrix = pd.DataFrame({ 'group': [1] * len(con_files), 'subject_label':subject_list})\n",
    "                             "
   ]
  },
  {
   "cell_type": "code",
   "execution_count": 80,
   "metadata": {},
   "outputs": [],
   "source": [
    "pdf = pd.read_csv('/data00/projects/project1/data/datasheets/banner_CA_paper_10-21-18.csv')"
   ]
  },
  {
   "cell_type": "code",
   "execution_count": 87,
   "metadata": {},
   "outputs": [],
   "source": [
    "pdf2=pdf[['PID','T1IntentionAverage','mean_WC','FTND']]\n",
    "pdf2=pdf2.drop_duplicates()"
   ]
  },
  {
   "cell_type": "code",
   "execution_count": 97,
   "metadata": {},
   "outputs": [],
   "source": [
    "pdf2=pdf2.rename(columns={\"PID\":'subject_label'})"
   ]
  },
  {
   "cell_type": "code",
   "execution_count": 104,
   "metadata": {},
   "outputs": [],
   "source": [
    "pdf3=pdf2[-pdf2.isnull().any(axis=1)]"
   ]
  },
  {
   "cell_type": "code",
   "execution_count": 105,
   "metadata": {},
   "outputs": [
    {
     "data": {
      "text/html": [
       "<div>\n",
       "<style>\n",
       "    .dataframe thead tr:only-child th {\n",
       "        text-align: right;\n",
       "    }\n",
       "\n",
       "    .dataframe thead th {\n",
       "        text-align: left;\n",
       "    }\n",
       "\n",
       "    .dataframe tbody tr th {\n",
       "        vertical-align: top;\n",
       "    }\n",
       "</style>\n",
       "<table border=\"1\" class=\"dataframe\">\n",
       "  <thead>\n",
       "    <tr style=\"text-align: right;\">\n",
       "      <th></th>\n",
       "      <th>subject_label</th>\n",
       "      <th>T1IntentionAverage</th>\n",
       "      <th>mean_WC</th>\n",
       "      <th>FTND</th>\n",
       "    </tr>\n",
       "  </thead>\n",
       "  <tbody>\n",
       "    <tr>\n",
       "      <th>0</th>\n",
       "      <td>P113</td>\n",
       "      <td>2.666667</td>\n",
       "      <td>24.173913</td>\n",
       "      <td>5.0</td>\n",
       "    </tr>\n",
       "    <tr>\n",
       "      <th>1</th>\n",
       "      <td>P121</td>\n",
       "      <td>2.000000</td>\n",
       "      <td>15.304348</td>\n",
       "      <td>6.0</td>\n",
       "    </tr>\n",
       "    <tr>\n",
       "      <th>5</th>\n",
       "      <td>P124</td>\n",
       "      <td>1.333333</td>\n",
       "      <td>5.000000</td>\n",
       "      <td>3.0</td>\n",
       "    </tr>\n",
       "    <tr>\n",
       "      <th>13</th>\n",
       "      <td>P125</td>\n",
       "      <td>2.000000</td>\n",
       "      <td>34.000000</td>\n",
       "      <td>6.0</td>\n",
       "    </tr>\n",
       "    <tr>\n",
       "      <th>16</th>\n",
       "      <td>P100</td>\n",
       "      <td>2.000000</td>\n",
       "      <td>77.923077</td>\n",
       "      <td>6.0</td>\n",
       "    </tr>\n",
       "    <tr>\n",
       "      <th>17</th>\n",
       "      <td>P152</td>\n",
       "      <td>2.666667</td>\n",
       "      <td>43.347826</td>\n",
       "      <td>5.0</td>\n",
       "    </tr>\n",
       "    <tr>\n",
       "      <th>19</th>\n",
       "      <td>P132</td>\n",
       "      <td>3.333333</td>\n",
       "      <td>36.695652</td>\n",
       "      <td>4.0</td>\n",
       "    </tr>\n",
       "    <tr>\n",
       "      <th>20</th>\n",
       "      <td>P150</td>\n",
       "      <td>2.000000</td>\n",
       "      <td>65.478261</td>\n",
       "      <td>3.0</td>\n",
       "    </tr>\n",
       "    <tr>\n",
       "      <th>21</th>\n",
       "      <td>P101</td>\n",
       "      <td>2.000000</td>\n",
       "      <td>30.347826</td>\n",
       "      <td>3.0</td>\n",
       "    </tr>\n",
       "    <tr>\n",
       "      <th>22</th>\n",
       "      <td>P139</td>\n",
       "      <td>4.000000</td>\n",
       "      <td>33.782609</td>\n",
       "      <td>5.0</td>\n",
       "    </tr>\n",
       "    <tr>\n",
       "      <th>33</th>\n",
       "      <td>P112</td>\n",
       "      <td>3.000000</td>\n",
       "      <td>52.086957</td>\n",
       "      <td>5.0</td>\n",
       "    </tr>\n",
       "    <tr>\n",
       "      <th>34</th>\n",
       "      <td>P111</td>\n",
       "      <td>2.333333</td>\n",
       "      <td>65.608696</td>\n",
       "      <td>4.0</td>\n",
       "    </tr>\n",
       "    <tr>\n",
       "      <th>35</th>\n",
       "      <td>P115</td>\n",
       "      <td>3.000000</td>\n",
       "      <td>28.391304</td>\n",
       "      <td>5.0</td>\n",
       "    </tr>\n",
       "    <tr>\n",
       "      <th>38</th>\n",
       "      <td>P102</td>\n",
       "      <td>3.000000</td>\n",
       "      <td>51.217391</td>\n",
       "      <td>4.0</td>\n",
       "    </tr>\n",
       "    <tr>\n",
       "      <th>41</th>\n",
       "      <td>P143</td>\n",
       "      <td>3.000000</td>\n",
       "      <td>72.956522</td>\n",
       "      <td>6.0</td>\n",
       "    </tr>\n",
       "    <tr>\n",
       "      <th>43</th>\n",
       "      <td>P153</td>\n",
       "      <td>2.000000</td>\n",
       "      <td>38.913043</td>\n",
       "      <td>4.0</td>\n",
       "    </tr>\n",
       "    <tr>\n",
       "      <th>46</th>\n",
       "      <td>P151</td>\n",
       "      <td>2.333333</td>\n",
       "      <td>47.608696</td>\n",
       "      <td>5.0</td>\n",
       "    </tr>\n",
       "    <tr>\n",
       "      <th>51</th>\n",
       "      <td>P154</td>\n",
       "      <td>2.000000</td>\n",
       "      <td>38.782609</td>\n",
       "      <td>6.0</td>\n",
       "    </tr>\n",
       "    <tr>\n",
       "      <th>52</th>\n",
       "      <td>P142</td>\n",
       "      <td>2.000000</td>\n",
       "      <td>43.739130</td>\n",
       "      <td>6.0</td>\n",
       "    </tr>\n",
       "    <tr>\n",
       "      <th>55</th>\n",
       "      <td>P131</td>\n",
       "      <td>2.333333</td>\n",
       "      <td>117.565217</td>\n",
       "      <td>5.0</td>\n",
       "    </tr>\n",
       "    <tr>\n",
       "      <th>57</th>\n",
       "      <td>P127</td>\n",
       "      <td>3.333333</td>\n",
       "      <td>81.913043</td>\n",
       "      <td>4.0</td>\n",
       "    </tr>\n",
       "    <tr>\n",
       "      <th>60</th>\n",
       "      <td>P129</td>\n",
       "      <td>2.333333</td>\n",
       "      <td>32.086957</td>\n",
       "      <td>4.0</td>\n",
       "    </tr>\n",
       "    <tr>\n",
       "      <th>61</th>\n",
       "      <td>P122</td>\n",
       "      <td>2.333333</td>\n",
       "      <td>55.086957</td>\n",
       "      <td>4.0</td>\n",
       "    </tr>\n",
       "    <tr>\n",
       "      <th>63</th>\n",
       "      <td>P119</td>\n",
       "      <td>2.000000</td>\n",
       "      <td>43.695652</td>\n",
       "      <td>6.0</td>\n",
       "    </tr>\n",
       "    <tr>\n",
       "      <th>65</th>\n",
       "      <td>P128</td>\n",
       "      <td>2.000000</td>\n",
       "      <td>33.869565</td>\n",
       "      <td>7.0</td>\n",
       "    </tr>\n",
       "    <tr>\n",
       "      <th>70</th>\n",
       "      <td>P118</td>\n",
       "      <td>1.666667</td>\n",
       "      <td>49.739130</td>\n",
       "      <td>4.0</td>\n",
       "    </tr>\n",
       "    <tr>\n",
       "      <th>71</th>\n",
       "      <td>P146</td>\n",
       "      <td>1.000000</td>\n",
       "      <td>76.608696</td>\n",
       "      <td>4.0</td>\n",
       "    </tr>\n",
       "    <tr>\n",
       "      <th>73</th>\n",
       "      <td>P120</td>\n",
       "      <td>2.000000</td>\n",
       "      <td>52.260870</td>\n",
       "      <td>4.0</td>\n",
       "    </tr>\n",
       "    <tr>\n",
       "      <th>82</th>\n",
       "      <td>P147</td>\n",
       "      <td>1.000000</td>\n",
       "      <td>60.565217</td>\n",
       "      <td>5.0</td>\n",
       "    </tr>\n",
       "    <tr>\n",
       "      <th>85</th>\n",
       "      <td>P103</td>\n",
       "      <td>2.000000</td>\n",
       "      <td>41.000000</td>\n",
       "      <td>4.0</td>\n",
       "    </tr>\n",
       "    <tr>\n",
       "      <th>99</th>\n",
       "      <td>P114</td>\n",
       "      <td>1.000000</td>\n",
       "      <td>46.565217</td>\n",
       "      <td>5.0</td>\n",
       "    </tr>\n",
       "    <tr>\n",
       "      <th>103</th>\n",
       "      <td>P105</td>\n",
       "      <td>2.333333</td>\n",
       "      <td>45.869565</td>\n",
       "      <td>5.0</td>\n",
       "    </tr>\n",
       "    <tr>\n",
       "      <th>107</th>\n",
       "      <td>P145</td>\n",
       "      <td>2.333333</td>\n",
       "      <td>68.913043</td>\n",
       "      <td>5.0</td>\n",
       "    </tr>\n",
       "    <tr>\n",
       "      <th>111</th>\n",
       "      <td>P126</td>\n",
       "      <td>3.666667</td>\n",
       "      <td>35.000000</td>\n",
       "      <td>5.0</td>\n",
       "    </tr>\n",
       "    <tr>\n",
       "      <th>164</th>\n",
       "      <td>P116</td>\n",
       "      <td>3.000000</td>\n",
       "      <td>56.956522</td>\n",
       "      <td>2.0</td>\n",
       "    </tr>\n",
       "    <tr>\n",
       "      <th>190</th>\n",
       "      <td>P138</td>\n",
       "      <td>2.000000</td>\n",
       "      <td>23.652174</td>\n",
       "      <td>3.0</td>\n",
       "    </tr>\n",
       "  </tbody>\n",
       "</table>\n",
       "</div>"
      ],
      "text/plain": [
       "    subject_label  T1IntentionAverage     mean_WC  FTND\n",
       "0            P113            2.666667   24.173913   5.0\n",
       "1            P121            2.000000   15.304348   6.0\n",
       "5            P124            1.333333    5.000000   3.0\n",
       "13           P125            2.000000   34.000000   6.0\n",
       "16           P100            2.000000   77.923077   6.0\n",
       "17           P152            2.666667   43.347826   5.0\n",
       "19           P132            3.333333   36.695652   4.0\n",
       "20           P150            2.000000   65.478261   3.0\n",
       "21           P101            2.000000   30.347826   3.0\n",
       "22           P139            4.000000   33.782609   5.0\n",
       "33           P112            3.000000   52.086957   5.0\n",
       "34           P111            2.333333   65.608696   4.0\n",
       "35           P115            3.000000   28.391304   5.0\n",
       "38           P102            3.000000   51.217391   4.0\n",
       "41           P143            3.000000   72.956522   6.0\n",
       "43           P153            2.000000   38.913043   4.0\n",
       "46           P151            2.333333   47.608696   5.0\n",
       "51           P154            2.000000   38.782609   6.0\n",
       "52           P142            2.000000   43.739130   6.0\n",
       "55           P131            2.333333  117.565217   5.0\n",
       "57           P127            3.333333   81.913043   4.0\n",
       "60           P129            2.333333   32.086957   4.0\n",
       "61           P122            2.333333   55.086957   4.0\n",
       "63           P119            2.000000   43.695652   6.0\n",
       "65           P128            2.000000   33.869565   7.0\n",
       "70           P118            1.666667   49.739130   4.0\n",
       "71           P146            1.000000   76.608696   4.0\n",
       "73           P120            2.000000   52.260870   4.0\n",
       "82           P147            1.000000   60.565217   5.0\n",
       "85           P103            2.000000   41.000000   4.0\n",
       "99           P114            1.000000   46.565217   5.0\n",
       "103          P105            2.333333   45.869565   5.0\n",
       "107          P145            2.333333   68.913043   5.0\n",
       "111          P126            3.666667   35.000000   5.0\n",
       "164          P116            3.000000   56.956522   2.0\n",
       "190          P138            2.000000   23.652174   3.0"
      ]
     },
     "execution_count": 105,
     "metadata": {},
     "output_type": "execute_result"
    }
   ],
   "source": [
    "pdf3"
   ]
  },
  {
   "cell_type": "code",
   "execution_count": 107,
   "metadata": {},
   "outputs": [
    {
     "name": "stderr",
     "output_type": "stream",
     "text": [
      "/usr/local/anaconda3/lib/python3.6/site-packages/nistats/design_matrix.py:464: UserWarning: Attention: Design matrix is singular. Aberrant estimates are expected.\n",
      "  warn('Attention: Design matrix is singular. Aberrant estimates '\n"
     ]
    }
   ],
   "source": [
    "design_matrix=create_second_level_design(pdf3.subject_label,pdf3)"
   ]
  },
  {
   "cell_type": "code",
   "execution_count": 119,
   "metadata": {},
   "outputs": [
    {
     "data": {
      "text/plain": [
       "\u001b[0;31mSignature:\u001b[0m \u001b[0mplot_design_matrix\u001b[0m\u001b[0;34m(\u001b[0m\u001b[0mdesign_matrix\u001b[0m\u001b[0;34m,\u001b[0m \u001b[0mrescale\u001b[0m\u001b[0;34m=\u001b[0m\u001b[0;32mTrue\u001b[0m\u001b[0;34m,\u001b[0m \u001b[0max\u001b[0m\u001b[0;34m=\u001b[0m\u001b[0;32mNone\u001b[0m\u001b[0;34m)\u001b[0m\u001b[0;34m\u001b[0m\u001b[0m\n",
       "\u001b[0;31mDocstring:\u001b[0m\n",
       "Plot a design matrix provided as a DataFrame\n",
       "\n",
       "Parameters\n",
       "----------\n",
       "design matrix : pandas DataFrame,\n",
       "    Describes a design matrix.\n",
       "\n",
       "rescale : bool, optional\n",
       "    Rescale columns magnitude for visualization or not.\n",
       "\n",
       "ax : axis handle, optional\n",
       "    Handle to axis onto which we will draw design matrix.\n",
       "\n",
       "Returns\n",
       "-------\n",
       "ax: axis handle\n",
       "    The axis used for plotting.\n",
       "\u001b[0;31mFile:\u001b[0m      /usr/local/anaconda3/lib/python3.6/site-packages/nistats/reporting.py\n",
       "\u001b[0;31mType:\u001b[0m      function\n"
      ]
     },
     "metadata": {},
     "output_type": "display_data"
    }
   ],
   "source": [
    "plot_design_matrix?"
   ]
  },
  {
   "cell_type": "code",
   "execution_count": 142,
   "metadata": {},
   "outputs": [
    {
     "data": {
      "image/png": "[encoded data removed]",
      "text/plain": [
       "<Figure size 720x720 with 1 Axes>"
      ]
     },
     "metadata": {},
     "output_type": "display_data"
    }
   ],
   "source": [
    "\n",
    "# plot the results\n",
    "fig,fax = plt.subplots(figsize=(10,10))\n",
    "ax = plot_design_matrix(design_matrix, rescale=True, ax=fax)\n",
    "ax.set_title('Second level design matrix', fontsize=16)\n",
    "ax.set_ylabel('maps')\n",
    "ax.tick_params(labelsize=12)"
   ]
  },
  {
   "cell_type": "code",
   "execution_count": 147,
   "metadata": {},
   "outputs": [],
   "source": [
    "con_files = [os.path.join(first_level_dir,subj,'model_BANNER_pmod_cogmech', 'con_0003.img')\n",
    "                for subj in pdf3.subject_label\n",
    "                if os.path.exists(\n",
    "                os.path.join(first_level_dir,subj,'model_BANNER_pmod_cogmech', 'con_0003.img')\n",
    "                )\n",
    "            ]"
   ]
  },
  {
   "cell_type": "code",
   "execution_count": 185,
   "metadata": {},
   "outputs": [
    {
     "data": {
      "text/plain": [
       "SecondLevelModel(mask='/data00/projects/project1/data/group/model_BANNER_quit_pmod/banner/mask.hdr',\n",
       "         memory=None, memory_level=1, minimize_memory=True, n_jobs=1,\n",
       "         smoothing_fwhm=None, verbose=0)"
      ]
     },
     "execution_count": 185,
     "metadata": {},
     "output_type": "execute_result"
    }
   ],
   "source": [
    "second_level_input = con_files\n",
    "#design_matrix = pd.DataFrame([1] * len(second_level_input),\n",
    "#                             columns=['intercept'])\n",
    "\n",
    "second_level_model = SecondLevelModel(mask='/data00/projects/project1/data/group/model_BANNER_quit_pmod/banner/mask.hdr')\n",
    "second_level_model = second_level_model.fit(second_level_input,design_matrix=design_matrix)\n",
    "second_level_model"
   ]
  },
  {
   "cell_type": "code",
   "execution_count": 152,
   "metadata": {},
   "outputs": [],
   "source": [
    "mean_WC=second_level_model.compute_contrast(second_level_contrast='mean_WC',output_type='z_score')"
   ]
  },
  {
   "cell_type": "code",
   "execution_count": 156,
   "metadata": {},
   "outputs": [],
   "source": [
    "T1Intent=second_level_model.compute_contrast(second_level_contrast='T1IntentionAverage',output_type='stat')"
   ]
  },
  {
   "cell_type": "code",
   "execution_count": 186,
   "metadata": {},
   "outputs": [
    {
     "name": "stdout",
     "output_type": "stream",
     "text": [
      "2\n"
     ]
    },
    {
     "data": {
      "image/png": "[encoded data removed]",
      "text/plain": [
       "<Figure size 525.6x187.2 with 5 Axes>"
      ]
     },
     "metadata": {},
     "output_type": "display_data"
    },
    {
     "name": "stdout",
     "output_type": "stream",
     "text": [
      "2\n"
     ]
    },
    {
     "data": {
      "image/png": "[encoded data removed]",
      "text/plain": [
       "<Figure size 525.6x187.2 with 5 Axes>"
      ]
     },
     "metadata": {},
     "output_type": "display_data"
    },
    {
     "name": "stdout",
     "output_type": "stream",
     "text": [
      "2\n"
     ]
    },
    {
     "data": {
      "image/png": "[encoded data removed]",
      "text/plain": [
       "<Figure size 525.6x187.2 with 5 Axes>"
      ]
     },
     "metadata": {},
     "output_type": "display_data"
    },
    {
     "name": "stdout",
     "output_type": "stream",
     "text": [
      "2\n"
     ]
    },
    {
     "data": {
      "image/png": "[encoded data removed]",
      "text/plain": [
       "<Figure size 525.6x187.2 with 5 Axes>"
      ]
     },
     "metadata": {},
     "output_type": "display_data"
    }
   ],
   "source": [
    "z_map={}\n",
    "for contr in design_matrix.columns:\n",
    "    z_map[contr] = second_level_model.compute_contrast(second_level_contrast=contr,output_type='z_score')\n",
    "    \n",
    "    threshold=2\n",
    "    print(threshold)\n",
    "    plotting.plot_stat_map(z_map[contr], title=contr, threshold=threshold)\n",
    "    plt.show()"
   ]
  },
  {
   "cell_type": "code",
   "execution_count": null,
   "metadata": {},
   "outputs": [],
   "source": []
  },
  {
   "cell_type": "code",
   "execution_count": 178,
   "metadata": {},
   "outputs": [
    {
     "data": {
      "text/plain": [
       "(<nibabel.nifti1.Nifti1Image at 0x7f225a4095f8>, -2.4870828074101943)"
      ]
     },
     "execution_count": 178,
     "metadata": {},
     "output_type": "execute_result"
    }
   ],
   "source": [
    "map_threshold(\n",
    "        z_map, threshold=3, height_control='fdr')"
   ]
  },
  {
   "cell_type": "code",
   "execution_count": 170,
   "metadata": {},
   "outputs": [
    {
     "data": {
      "text/plain": [
       "\u001b[0;31mSignature:\u001b[0m \u001b[0mmap_threshold\u001b[0m\u001b[0;34m(\u001b[0m\u001b[0mstat_img\u001b[0m\u001b[0;34m,\u001b[0m \u001b[0mmask_img\u001b[0m\u001b[0;34m=\u001b[0m\u001b[0;32mNone\u001b[0m\u001b[0;34m,\u001b[0m \u001b[0mthreshold\u001b[0m\u001b[0;34m=\u001b[0m\u001b[0;36m0.001\u001b[0m\u001b[0;34m,\u001b[0m \u001b[0mheight_control\u001b[0m\u001b[0;34m=\u001b[0m\u001b[0;34m'fpr'\u001b[0m\u001b[0;34m,\u001b[0m \u001b[0mcluster_threshold\u001b[0m\u001b[0;34m=\u001b[0m\u001b[0;36m0\u001b[0m\u001b[0;34m)\u001b[0m\u001b[0;34m\u001b[0m\u001b[0m\n",
       "\u001b[0;31mDocstring:\u001b[0m\n",
       "Threshold the provided map\n",
       "\n",
       "Parameters\n",
       "----------\n",
       "stat_img : Niimg-like object,\n",
       "   statistical image (presumably in z scale)\n",
       "\n",
       "mask_img : Niimg-like object, optional,\n",
       "    mask image\n",
       "\n",
       "threshold: float, optional\n",
       "    cluster forming threshold (either a p-value or z-scale value)\n",
       "\n",
       "height_control: string, optional\n",
       "    false positive control meaning of cluster forming\n",
       "    threshold: 'fpr'|'fdr'|'bonferroni'|'none'\n",
       "\n",
       "cluster_threshold : float, optional\n",
       "    cluster size threshold\n",
       "\n",
       "Returns\n",
       "-------\n",
       "thresholded_map : Nifti1Image,\n",
       "    the stat_map theresholded at the prescribed voxel- and cluster-level\n",
       "\n",
       "threshold: float,\n",
       "    the voxel-level threshold used actually\n",
       "\u001b[0;31mFile:\u001b[0m      /usr/local/anaconda3/lib/python3.6/site-packages/nistats/thresholding.py\n",
       "\u001b[0;31mType:\u001b[0m      function\n"
      ]
     },
     "metadata": {},
     "output_type": "display_data"
    }
   ],
   "source": [
    "map_threshold?"
   ]
  },
  {
   "cell_type": "markdown",
   "metadata": {},
   "source": [
    "## ===================== STRATCHPAD ====================="
   ]
  },
  {
   "cell_type": "code",
   "execution_count": 71,
   "metadata": {},
   "outputs": [
    {
     "name": "stderr",
     "output_type": "stream",
     "text": [
      "/usr/local/anaconda3/lib/python3.6/site-packages/numpy/linalg/linalg.py:1502: RuntimeWarning: divide by zero encountered in true_divide\n",
      "  return s[..., 0]/s[..., -1]\n",
      "/usr/local/anaconda3/lib/python3.6/site-packages/nistats/design_matrix.py:464: UserWarning: Attention: Design matrix is singular. Aberrant estimates are expected.\n",
      "  warn('Attention: Design matrix is singular. Aberrant estimates '\n"
     ]
    }
   ],
   "source": [
    "design_matrix=create_second_level_design(subject_list, design_matrix)"
   ]
  },
  {
   "cell_type": "code",
   "execution_count": 28,
   "metadata": {},
   "outputs": [
    {
     "data": {
      "text/plain": [
       "['/data00/projects/project1/nipype/output_banner_1st_level/P154/model_BANNER_pmod_cogmech/spmT_0003.img',\n",
       " '/data00/projects/project1/nipype/output_banner_1st_level/P153/model_BANNER_pmod_cogmech/spmT_0003.img',\n",
       " '/data00/projects/project1/nipype/output_banner_1st_level/P152/model_BANNER_pmod_cogmech/spmT_0003.img',\n",
       " '/data00/projects/project1/nipype/output_banner_1st_level/P150/model_BANNER_pmod_cogmech/spmT_0003.img',\n",
       " '/data00/projects/project1/nipype/output_banner_1st_level/P147/model_BANNER_pmod_cogmech/spmT_0003.img',\n",
       " '/data00/projects/project1/nipype/output_banner_1st_level/P146/model_BANNER_pmod_cogmech/spmT_0003.img',\n",
       " '/data00/projects/project1/nipype/output_banner_1st_level/P145/model_BANNER_pmod_cogmech/spmT_0003.img',\n",
       " '/data00/projects/project1/nipype/output_banner_1st_level/P138/model_BANNER_pmod_cogmech/spmT_0003.img',\n",
       " '/data00/projects/project1/nipype/output_banner_1st_level/P151/model_BANNER_pmod_cogmech/spmT_0003.img',\n",
       " '/data00/projects/project1/nipype/output_banner_1st_level/P143/model_BANNER_pmod_cogmech/spmT_0003.img',\n",
       " '/data00/projects/project1/nipype/output_banner_1st_level/P139/model_BANNER_pmod_cogmech/spmT_0003.img',\n",
       " '/data00/projects/project1/nipype/output_banner_1st_level/P142/model_BANNER_pmod_cogmech/spmT_0003.img',\n",
       " '/data00/projects/project1/nipype/output_banner_1st_level/P131/model_BANNER_pmod_cogmech/spmT_0003.img',\n",
       " '/data00/projects/project1/nipype/output_banner_1st_level/P124/model_BANNER_pmod_cogmech/spmT_0003.img',\n",
       " '/data00/projects/project1/nipype/output_banner_1st_level/P129/model_BANNER_pmod_cogmech/spmT_0003.img',\n",
       " '/data00/projects/project1/nipype/output_banner_1st_level/P121/model_BANNER_pmod_cogmech/spmT_0003.img',\n",
       " '/data00/projects/project1/nipype/output_banner_1st_level/P122/model_BANNER_pmod_cogmech/spmT_0003.img',\n",
       " '/data00/projects/project1/nipype/output_banner_1st_level/P127/model_BANNER_pmod_cogmech/spmT_0003.img',\n",
       " '/data00/projects/project1/nipype/output_banner_1st_level/P133/model_BANNER_pmod_cogmech/spmT_0003.img',\n",
       " '/data00/projects/project1/nipype/output_banner_1st_level/P132/model_BANNER_pmod_cogmech/spmT_0003.img',\n",
       " '/data00/projects/project1/nipype/output_banner_1st_level/P130/model_BANNER_pmod_cogmech/spmT_0003.img',\n",
       " '/data00/projects/project1/nipype/output_banner_1st_level/P128/model_BANNER_pmod_cogmech/spmT_0003.img',\n",
       " '/data00/projects/project1/nipype/output_banner_1st_level/P126/model_BANNER_pmod_cogmech/spmT_0003.img',\n",
       " '/data00/projects/project1/nipype/output_banner_1st_level/P125/model_BANNER_pmod_cogmech/spmT_0003.img',\n",
       " '/data00/projects/project1/nipype/output_banner_1st_level/P120/model_BANNER_pmod_cogmech/spmT_0003.img',\n",
       " '/data00/projects/project1/nipype/output_banner_1st_level/P119/model_BANNER_pmod_cogmech/spmT_0003.img',\n",
       " '/data00/projects/project1/nipype/output_banner_1st_level/P117/model_BANNER_pmod_cogmech/spmT_0003.img',\n",
       " '/data00/projects/project1/nipype/output_banner_1st_level/P114/model_BANNER_pmod_cogmech/spmT_0003.img',\n",
       " '/data00/projects/project1/nipype/output_banner_1st_level/P115/model_BANNER_pmod_cogmech/spmT_0003.img',\n",
       " '/data00/projects/project1/nipype/output_banner_1st_level/P112/model_BANNER_pmod_cogmech/spmT_0003.img',\n",
       " '/data00/projects/project1/nipype/output_banner_1st_level/P111/model_BANNER_pmod_cogmech/spmT_0003.img',\n",
       " '/data00/projects/project1/nipype/output_banner_1st_level/P110/model_BANNER_pmod_cogmech/spmT_0003.img',\n",
       " '/data00/projects/project1/nipype/output_banner_1st_level/P108/model_BANNER_pmod_cogmech/spmT_0003.img',\n",
       " '/data00/projects/project1/nipype/output_banner_1st_level/P105/model_BANNER_pmod_cogmech/spmT_0003.img',\n",
       " '/data00/projects/project1/nipype/output_banner_1st_level/P113/model_BANNER_pmod_cogmech/spmT_0003.img',\n",
       " '/data00/projects/project1/nipype/output_banner_1st_level/P107/model_BANNER_pmod_cogmech/spmT_0003.img',\n",
       " '/data00/projects/project1/nipype/output_banner_1st_level/P106/model_BANNER_pmod_cogmech/spmT_0003.img',\n",
       " '/data00/projects/project1/nipype/output_banner_1st_level/P118/model_BANNER_pmod_cogmech/spmT_0003.img',\n",
       " '/data00/projects/project1/nipype/output_banner_1st_level/P104/model_BANNER_pmod_cogmech/spmT_0003.img',\n",
       " '/data00/projects/project1/nipype/output_banner_1st_level/P102/model_BANNER_pmod_cogmech/spmT_0003.img',\n",
       " '/data00/projects/project1/nipype/output_banner_1st_level/P100/model_BANNER_pmod_cogmech/spmT_0003.img',\n",
       " '/data00/projects/project1/nipype/output_banner_1st_level/P103/model_BANNER_pmod_cogmech/spmT_0003.img',\n",
       " '/data00/projects/project1/nipype/output_banner_1st_level/P101/model_BANNER_pmod_cogmech/spmT_0003.img',\n",
       " '/data00/projects/project1/nipype/output_banner_1st_level/P116/model_BANNER_pmod_cogmech/spmT_0003.img']"
      ]
     },
     "execution_count": 28,
     "metadata": {},
     "output_type": "execute_result"
    }
   ],
   "source": [
    "con_files"
   ]
  },
  {
   "cell_type": "code",
   "execution_count": 34,
   "metadata": {},
   "outputs": [],
   "source": [
    "fl_df=pd.DataFrame({'effects_map_path': con_files,\n",
    "                    'subject_label': [p.split('/')[6] for p in con_files],\n",
    "                    'map_name': ['cogmech']*len(con_files)\n",
    "                   })"
   ]
  },
  {
   "cell_type": "code",
   "execution_count": 35,
   "metadata": {},
   "outputs": [
    {
     "data": {
      "text/html": [
       "<div>\n",
       "<style>\n",
       "    .dataframe thead tr:only-child th {\n",
       "        text-align: right;\n",
       "    }\n",
       "\n",
       "    .dataframe thead th {\n",
       "        text-align: left;\n",
       "    }\n",
       "\n",
       "    .dataframe tbody tr th {\n",
       "        vertical-align: top;\n",
       "    }\n",
       "</style>\n",
       "<table border=\"1\" class=\"dataframe\">\n",
       "  <thead>\n",
       "    <tr style=\"text-align: right;\">\n",
       "      <th></th>\n",
       "      <th>effects_map_path</th>\n",
       "      <th>map_name</th>\n",
       "      <th>subject_label</th>\n",
       "    </tr>\n",
       "  </thead>\n",
       "  <tbody>\n",
       "    <tr>\n",
       "      <th>0</th>\n",
       "      <td>/data00/projects/project1/nipype/output_banner...</td>\n",
       "      <td>cogmech</td>\n",
       "      <td>P154</td>\n",
       "    </tr>\n",
       "    <tr>\n",
       "      <th>1</th>\n",
       "      <td>/data00/projects/project1/nipype/output_banner...</td>\n",
       "      <td>cogmech</td>\n",
       "      <td>P153</td>\n",
       "    </tr>\n",
       "    <tr>\n",
       "      <th>2</th>\n",
       "      <td>/data00/projects/project1/nipype/output_banner...</td>\n",
       "      <td>cogmech</td>\n",
       "      <td>P152</td>\n",
       "    </tr>\n",
       "    <tr>\n",
       "      <th>3</th>\n",
       "      <td>/data00/projects/project1/nipype/output_banner...</td>\n",
       "      <td>cogmech</td>\n",
       "      <td>P150</td>\n",
       "    </tr>\n",
       "    <tr>\n",
       "      <th>4</th>\n",
       "      <td>/data00/projects/project1/nipype/output_banner...</td>\n",
       "      <td>cogmech</td>\n",
       "      <td>P147</td>\n",
       "    </tr>\n",
       "    <tr>\n",
       "      <th>5</th>\n",
       "      <td>/data00/projects/project1/nipype/output_banner...</td>\n",
       "      <td>cogmech</td>\n",
       "      <td>P146</td>\n",
       "    </tr>\n",
       "    <tr>\n",
       "      <th>6</th>\n",
       "      <td>/data00/projects/project1/nipype/output_banner...</td>\n",
       "      <td>cogmech</td>\n",
       "      <td>P145</td>\n",
       "    </tr>\n",
       "    <tr>\n",
       "      <th>7</th>\n",
       "      <td>/data00/projects/project1/nipype/output_banner...</td>\n",
       "      <td>cogmech</td>\n",
       "      <td>P138</td>\n",
       "    </tr>\n",
       "    <tr>\n",
       "      <th>8</th>\n",
       "      <td>/data00/projects/project1/nipype/output_banner...</td>\n",
       "      <td>cogmech</td>\n",
       "      <td>P151</td>\n",
       "    </tr>\n",
       "    <tr>\n",
       "      <th>9</th>\n",
       "      <td>/data00/projects/project1/nipype/output_banner...</td>\n",
       "      <td>cogmech</td>\n",
       "      <td>P143</td>\n",
       "    </tr>\n",
       "    <tr>\n",
       "      <th>10</th>\n",
       "      <td>/data00/projects/project1/nipype/output_banner...</td>\n",
       "      <td>cogmech</td>\n",
       "      <td>P139</td>\n",
       "    </tr>\n",
       "    <tr>\n",
       "      <th>11</th>\n",
       "      <td>/data00/projects/project1/nipype/output_banner...</td>\n",
       "      <td>cogmech</td>\n",
       "      <td>P142</td>\n",
       "    </tr>\n",
       "    <tr>\n",
       "      <th>12</th>\n",
       "      <td>/data00/projects/project1/nipype/output_banner...</td>\n",
       "      <td>cogmech</td>\n",
       "      <td>P131</td>\n",
       "    </tr>\n",
       "    <tr>\n",
       "      <th>13</th>\n",
       "      <td>/data00/projects/project1/nipype/output_banner...</td>\n",
       "      <td>cogmech</td>\n",
       "      <td>P124</td>\n",
       "    </tr>\n",
       "    <tr>\n",
       "      <th>14</th>\n",
       "      <td>/data00/projects/project1/nipype/output_banner...</td>\n",
       "      <td>cogmech</td>\n",
       "      <td>P129</td>\n",
       "    </tr>\n",
       "    <tr>\n",
       "      <th>15</th>\n",
       "      <td>/data00/projects/project1/nipype/output_banner...</td>\n",
       "      <td>cogmech</td>\n",
       "      <td>P121</td>\n",
       "    </tr>\n",
       "    <tr>\n",
       "      <th>16</th>\n",
       "      <td>/data00/projects/project1/nipype/output_banner...</td>\n",
       "      <td>cogmech</td>\n",
       "      <td>P122</td>\n",
       "    </tr>\n",
       "    <tr>\n",
       "      <th>17</th>\n",
       "      <td>/data00/projects/project1/nipype/output_banner...</td>\n",
       "      <td>cogmech</td>\n",
       "      <td>P127</td>\n",
       "    </tr>\n",
       "    <tr>\n",
       "      <th>18</th>\n",
       "      <td>/data00/projects/project1/nipype/output_banner...</td>\n",
       "      <td>cogmech</td>\n",
       "      <td>P133</td>\n",
       "    </tr>\n",
       "    <tr>\n",
       "      <th>19</th>\n",
       "      <td>/data00/projects/project1/nipype/output_banner...</td>\n",
       "      <td>cogmech</td>\n",
       "      <td>P132</td>\n",
       "    </tr>\n",
       "    <tr>\n",
       "      <th>20</th>\n",
       "      <td>/data00/projects/project1/nipype/output_banner...</td>\n",
       "      <td>cogmech</td>\n",
       "      <td>P130</td>\n",
       "    </tr>\n",
       "    <tr>\n",
       "      <th>21</th>\n",
       "      <td>/data00/projects/project1/nipype/output_banner...</td>\n",
       "      <td>cogmech</td>\n",
       "      <td>P128</td>\n",
       "    </tr>\n",
       "    <tr>\n",
       "      <th>22</th>\n",
       "      <td>/data00/projects/project1/nipype/output_banner...</td>\n",
       "      <td>cogmech</td>\n",
       "      <td>P126</td>\n",
       "    </tr>\n",
       "    <tr>\n",
       "      <th>23</th>\n",
       "      <td>/data00/projects/project1/nipype/output_banner...</td>\n",
       "      <td>cogmech</td>\n",
       "      <td>P125</td>\n",
       "    </tr>\n",
       "    <tr>\n",
       "      <th>24</th>\n",
       "      <td>/data00/projects/project1/nipype/output_banner...</td>\n",
       "      <td>cogmech</td>\n",
       "      <td>P120</td>\n",
       "    </tr>\n",
       "    <tr>\n",
       "      <th>25</th>\n",
       "      <td>/data00/projects/project1/nipype/output_banner...</td>\n",
       "      <td>cogmech</td>\n",
       "      <td>P119</td>\n",
       "    </tr>\n",
       "    <tr>\n",
       "      <th>26</th>\n",
       "      <td>/data00/projects/project1/nipype/output_banner...</td>\n",
       "      <td>cogmech</td>\n",
       "      <td>P117</td>\n",
       "    </tr>\n",
       "    <tr>\n",
       "      <th>27</th>\n",
       "      <td>/data00/projects/project1/nipype/output_banner...</td>\n",
       "      <td>cogmech</td>\n",
       "      <td>P114</td>\n",
       "    </tr>\n",
       "    <tr>\n",
       "      <th>28</th>\n",
       "      <td>/data00/projects/project1/nipype/output_banner...</td>\n",
       "      <td>cogmech</td>\n",
       "      <td>P115</td>\n",
       "    </tr>\n",
       "    <tr>\n",
       "      <th>29</th>\n",
       "      <td>/data00/projects/project1/nipype/output_banner...</td>\n",
       "      <td>cogmech</td>\n",
       "      <td>P112</td>\n",
       "    </tr>\n",
       "    <tr>\n",
       "      <th>30</th>\n",
       "      <td>/data00/projects/project1/nipype/output_banner...</td>\n",
       "      <td>cogmech</td>\n",
       "      <td>P111</td>\n",
       "    </tr>\n",
       "    <tr>\n",
       "      <th>31</th>\n",
       "      <td>/data00/projects/project1/nipype/output_banner...</td>\n",
       "      <td>cogmech</td>\n",
       "      <td>P110</td>\n",
       "    </tr>\n",
       "    <tr>\n",
       "      <th>32</th>\n",
       "      <td>/data00/projects/project1/nipype/output_banner...</td>\n",
       "      <td>cogmech</td>\n",
       "      <td>P108</td>\n",
       "    </tr>\n",
       "    <tr>\n",
       "      <th>33</th>\n",
       "      <td>/data00/projects/project1/nipype/output_banner...</td>\n",
       "      <td>cogmech</td>\n",
       "      <td>P105</td>\n",
       "    </tr>\n",
       "    <tr>\n",
       "      <th>34</th>\n",
       "      <td>/data00/projects/project1/nipype/output_banner...</td>\n",
       "      <td>cogmech</td>\n",
       "      <td>P113</td>\n",
       "    </tr>\n",
       "    <tr>\n",
       "      <th>35</th>\n",
       "      <td>/data00/projects/project1/nipype/output_banner...</td>\n",
       "      <td>cogmech</td>\n",
       "      <td>P107</td>\n",
       "    </tr>\n",
       "    <tr>\n",
       "      <th>36</th>\n",
       "      <td>/data00/projects/project1/nipype/output_banner...</td>\n",
       "      <td>cogmech</td>\n",
       "      <td>P106</td>\n",
       "    </tr>\n",
       "    <tr>\n",
       "      <th>37</th>\n",
       "      <td>/data00/projects/project1/nipype/output_banner...</td>\n",
       "      <td>cogmech</td>\n",
       "      <td>P118</td>\n",
       "    </tr>\n",
       "    <tr>\n",
       "      <th>38</th>\n",
       "      <td>/data00/projects/project1/nipype/output_banner...</td>\n",
       "      <td>cogmech</td>\n",
       "      <td>P104</td>\n",
       "    </tr>\n",
       "    <tr>\n",
       "      <th>39</th>\n",
       "      <td>/data00/projects/project1/nipype/output_banner...</td>\n",
       "      <td>cogmech</td>\n",
       "      <td>P102</td>\n",
       "    </tr>\n",
       "    <tr>\n",
       "      <th>40</th>\n",
       "      <td>/data00/projects/project1/nipype/output_banner...</td>\n",
       "      <td>cogmech</td>\n",
       "      <td>P100</td>\n",
       "    </tr>\n",
       "    <tr>\n",
       "      <th>41</th>\n",
       "      <td>/data00/projects/project1/nipype/output_banner...</td>\n",
       "      <td>cogmech</td>\n",
       "      <td>P103</td>\n",
       "    </tr>\n",
       "    <tr>\n",
       "      <th>42</th>\n",
       "      <td>/data00/projects/project1/nipype/output_banner...</td>\n",
       "      <td>cogmech</td>\n",
       "      <td>P101</td>\n",
       "    </tr>\n",
       "    <tr>\n",
       "      <th>43</th>\n",
       "      <td>/data00/projects/project1/nipype/output_banner...</td>\n",
       "      <td>cogmech</td>\n",
       "      <td>P116</td>\n",
       "    </tr>\n",
       "  </tbody>\n",
       "</table>\n",
       "</div>"
      ],
      "text/plain": [
       "                                     effects_map_path map_name subject_label\n",
       "0   /data00/projects/project1/nipype/output_banner...  cogmech          P154\n",
       "1   /data00/projects/project1/nipype/output_banner...  cogmech          P153\n",
       "2   /data00/projects/project1/nipype/output_banner...  cogmech          P152\n",
       "3   /data00/projects/project1/nipype/output_banner...  cogmech          P150\n",
       "4   /data00/projects/project1/nipype/output_banner...  cogmech          P147\n",
       "5   /data00/projects/project1/nipype/output_banner...  cogmech          P146\n",
       "6   /data00/projects/project1/nipype/output_banner...  cogmech          P145\n",
       "7   /data00/projects/project1/nipype/output_banner...  cogmech          P138\n",
       "8   /data00/projects/project1/nipype/output_banner...  cogmech          P151\n",
       "9   /data00/projects/project1/nipype/output_banner...  cogmech          P143\n",
       "10  /data00/projects/project1/nipype/output_banner...  cogmech          P139\n",
       "11  /data00/projects/project1/nipype/output_banner...  cogmech          P142\n",
       "12  /data00/projects/project1/nipype/output_banner...  cogmech          P131\n",
       "13  /data00/projects/project1/nipype/output_banner...  cogmech          P124\n",
       "14  /data00/projects/project1/nipype/output_banner...  cogmech          P129\n",
       "15  /data00/projects/project1/nipype/output_banner...  cogmech          P121\n",
       "16  /data00/projects/project1/nipype/output_banner...  cogmech          P122\n",
       "17  /data00/projects/project1/nipype/output_banner...  cogmech          P127\n",
       "18  /data00/projects/project1/nipype/output_banner...  cogmech          P133\n",
       "19  /data00/projects/project1/nipype/output_banner...  cogmech          P132\n",
       "20  /data00/projects/project1/nipype/output_banner...  cogmech          P130\n",
       "21  /data00/projects/project1/nipype/output_banner...  cogmech          P128\n",
       "22  /data00/projects/project1/nipype/output_banner...  cogmech          P126\n",
       "23  /data00/projects/project1/nipype/output_banner...  cogmech          P125\n",
       "24  /data00/projects/project1/nipype/output_banner...  cogmech          P120\n",
       "25  /data00/projects/project1/nipype/output_banner...  cogmech          P119\n",
       "26  /data00/projects/project1/nipype/output_banner...  cogmech          P117\n",
       "27  /data00/projects/project1/nipype/output_banner...  cogmech          P114\n",
       "28  /data00/projects/project1/nipype/output_banner...  cogmech          P115\n",
       "29  /data00/projects/project1/nipype/output_banner...  cogmech          P112\n",
       "30  /data00/projects/project1/nipype/output_banner...  cogmech          P111\n",
       "31  /data00/projects/project1/nipype/output_banner...  cogmech          P110\n",
       "32  /data00/projects/project1/nipype/output_banner...  cogmech          P108\n",
       "33  /data00/projects/project1/nipype/output_banner...  cogmech          P105\n",
       "34  /data00/projects/project1/nipype/output_banner...  cogmech          P113\n",
       "35  /data00/projects/project1/nipype/output_banner...  cogmech          P107\n",
       "36  /data00/projects/project1/nipype/output_banner...  cogmech          P106\n",
       "37  /data00/projects/project1/nipype/output_banner...  cogmech          P118\n",
       "38  /data00/projects/project1/nipype/output_banner...  cogmech          P104\n",
       "39  /data00/projects/project1/nipype/output_banner...  cogmech          P102\n",
       "40  /data00/projects/project1/nipype/output_banner...  cogmech          P100\n",
       "41  /data00/projects/project1/nipype/output_banner...  cogmech          P103\n",
       "42  /data00/projects/project1/nipype/output_banner...  cogmech          P101\n",
       "43  /data00/projects/project1/nipype/output_banner...  cogmech          P116"
      ]
     },
     "execution_count": 35,
     "metadata": {},
     "output_type": "execute_result"
    }
   ],
   "source": [
    "fl_df"
   ]
  },
  {
   "cell_type": "code",
   "execution_count": 72,
   "metadata": {},
   "outputs": [],
   "source": [
    "second_level_model = SecondLevelModel()\n",
    "sl_md=second_level_model.fit(fl_df, design_matrix=design_matrix)"
   ]
  },
  {
   "cell_type": "code",
   "execution_count": 73,
   "metadata": {},
   "outputs": [
    {
     "data": {
      "text/plain": [
       "{'mask': None,\n",
       " 'memory': None,\n",
       " 'memory_level': 1,\n",
       " 'minimize_memory': True,\n",
       " 'n_jobs': 1,\n",
       " 'smoothing_fwhm': None,\n",
       " 'verbose': 0}"
      ]
     },
     "execution_count": 73,
     "metadata": {},
     "output_type": "execute_result"
    }
   ],
   "source": [
    "sl_md.get_params()"
   ]
  },
  {
   "cell_type": "code",
   "execution_count": 75,
   "metadata": {},
   "outputs": [
    {
     "ename": "KeyError",
     "evalue": "0",
     "output_type": "error",
     "traceback": [
      "\u001b[0;31m---------------------------------------------------------------------------\u001b[0m",
      "\u001b[0;31mKeyError\u001b[0m                                  Traceback (most recent call last)",
      "\u001b[0;32m/usr/local/anaconda3/lib/python3.6/site-packages/pandas/core/indexes/base.py\u001b[0m in \u001b[0;36mget_loc\u001b[0;34m(self, key, method, tolerance)\u001b[0m\n\u001b[1;32m   2392\u001b[0m             \u001b[0;32mtry\u001b[0m\u001b[0;34m:\u001b[0m\u001b[0;34m\u001b[0m\u001b[0m\n\u001b[0;32m-> 2393\u001b[0;31m                 \u001b[0;32mreturn\u001b[0m \u001b[0mself\u001b[0m\u001b[0;34m.\u001b[0m\u001b[0m_engine\u001b[0m\u001b[0;34m.\u001b[0m\u001b[0mget_loc\u001b[0m\u001b[0;34m(\u001b[0m\u001b[0mkey\u001b[0m\u001b[0;34m)\u001b[0m\u001b[0;34m\u001b[0m\u001b[0m\n\u001b[0m\u001b[1;32m   2394\u001b[0m             \u001b[0;32mexcept\u001b[0m \u001b[0mKeyError\u001b[0m\u001b[0;34m:\u001b[0m\u001b[0;34m\u001b[0m\u001b[0m\n",
      "\u001b[0;32mpandas/_libs/index.pyx\u001b[0m in \u001b[0;36mpandas._libs.index.IndexEngine.get_loc (pandas/_libs/index.c:5239)\u001b[0;34m()\u001b[0m\n",
      "\u001b[0;32mpandas/_libs/index.pyx\u001b[0m in \u001b[0;36mpandas._libs.index.IndexEngine.get_loc (pandas/_libs/index.c:5085)\u001b[0;34m()\u001b[0m\n",
      "\u001b[0;32mpandas/_libs/hashtable_class_helper.pxi\u001b[0m in \u001b[0;36mpandas._libs.hashtable.PyObjectHashTable.get_item (pandas/_libs/hashtable.c:20405)\u001b[0;34m()\u001b[0m\n",
      "\u001b[0;32mpandas/_libs/hashtable_class_helper.pxi\u001b[0m in \u001b[0;36mpandas._libs.hashtable.PyObjectHashTable.get_item (pandas/_libs/hashtable.c:20359)\u001b[0;34m()\u001b[0m\n",
      "\u001b[0;31mKeyError\u001b[0m: 0",
      "\nDuring handling of the above exception, another exception occurred:\n",
      "\u001b[0;31mKeyError\u001b[0m                                  Traceback (most recent call last)",
      "\u001b[0;32m<ipython-input-75-e16e29ab8033>\u001b[0m in \u001b[0;36m<module>\u001b[0;34m()\u001b[0m\n\u001b[0;32m----> 1\u001b[0;31m \u001b[0mz_map\u001b[0m \u001b[0;34m=\u001b[0m \u001b[0msl_md\u001b[0m\u001b[0;34m.\u001b[0m\u001b[0mcompute_contrast\u001b[0m\u001b[0;34m(\u001b[0m\u001b[0;34m)\u001b[0m\u001b[0;34m\u001b[0m\u001b[0m\n\u001b[0m",
      "\u001b[0;32m/usr/local/anaconda3/lib/python3.6/site-packages/nistats/second_level_model.py\u001b[0m in \u001b[0;36mcompute_contrast\u001b[0;34m(self, second_level_contrast, first_level_contrast, second_level_stat_type, output_type)\u001b[0m\n\u001b[1;32m    358\u001b[0m \u001b[0;34m\u001b[0m\u001b[0m\n\u001b[1;32m    359\u001b[0m         \u001b[0;31m# first_level_contrast check\u001b[0m\u001b[0;34m\u001b[0m\u001b[0;34m\u001b[0m\u001b[0m\n\u001b[0;32m--> 360\u001b[0;31m         \u001b[0;32mif\u001b[0m \u001b[0misinstance\u001b[0m\u001b[0;34m(\u001b[0m\u001b[0mself\u001b[0m\u001b[0;34m.\u001b[0m\u001b[0msecond_level_input_\u001b[0m\u001b[0;34m[\u001b[0m\u001b[0;36m0\u001b[0m\u001b[0;34m]\u001b[0m\u001b[0;34m,\u001b[0m \u001b[0mFirstLevelModel\u001b[0m\u001b[0;34m)\u001b[0m\u001b[0;34m:\u001b[0m\u001b[0;34m\u001b[0m\u001b[0m\n\u001b[0m\u001b[1;32m    361\u001b[0m             \u001b[0;32mif\u001b[0m \u001b[0mfirst_level_contrast\u001b[0m \u001b[0;32mis\u001b[0m \u001b[0;32mNone\u001b[0m\u001b[0;34m:\u001b[0m\u001b[0;34m\u001b[0m\u001b[0m\n\u001b[1;32m    362\u001b[0m                 raise ValueError('If second_level_input was a list of '\n",
      "\u001b[0;32m/usr/local/anaconda3/lib/python3.6/site-packages/pandas/core/frame.py\u001b[0m in \u001b[0;36m__getitem__\u001b[0;34m(self, key)\u001b[0m\n\u001b[1;32m   2060\u001b[0m             \u001b[0;32mreturn\u001b[0m \u001b[0mself\u001b[0m\u001b[0;34m.\u001b[0m\u001b[0m_getitem_multilevel\u001b[0m\u001b[0;34m(\u001b[0m\u001b[0mkey\u001b[0m\u001b[0;34m)\u001b[0m\u001b[0;34m\u001b[0m\u001b[0m\n\u001b[1;32m   2061\u001b[0m         \u001b[0;32melse\u001b[0m\u001b[0;34m:\u001b[0m\u001b[0;34m\u001b[0m\u001b[0m\n\u001b[0;32m-> 2062\u001b[0;31m             \u001b[0;32mreturn\u001b[0m \u001b[0mself\u001b[0m\u001b[0;34m.\u001b[0m\u001b[0m_getitem_column\u001b[0m\u001b[0;34m(\u001b[0m\u001b[0mkey\u001b[0m\u001b[0;34m)\u001b[0m\u001b[0;34m\u001b[0m\u001b[0m\n\u001b[0m\u001b[1;32m   2063\u001b[0m \u001b[0;34m\u001b[0m\u001b[0m\n\u001b[1;32m   2064\u001b[0m     \u001b[0;32mdef\u001b[0m \u001b[0m_getitem_column\u001b[0m\u001b[0;34m(\u001b[0m\u001b[0mself\u001b[0m\u001b[0;34m,\u001b[0m \u001b[0mkey\u001b[0m\u001b[0;34m)\u001b[0m\u001b[0;34m:\u001b[0m\u001b[0;34m\u001b[0m\u001b[0m\n",
      "\u001b[0;32m/usr/local/anaconda3/lib/python3.6/site-packages/pandas/core/frame.py\u001b[0m in \u001b[0;36m_getitem_column\u001b[0;34m(self, key)\u001b[0m\n\u001b[1;32m   2067\u001b[0m         \u001b[0;31m# get column\u001b[0m\u001b[0;34m\u001b[0m\u001b[0;34m\u001b[0m\u001b[0m\n\u001b[1;32m   2068\u001b[0m         \u001b[0;32mif\u001b[0m \u001b[0mself\u001b[0m\u001b[0;34m.\u001b[0m\u001b[0mcolumns\u001b[0m\u001b[0;34m.\u001b[0m\u001b[0mis_unique\u001b[0m\u001b[0;34m:\u001b[0m\u001b[0;34m\u001b[0m\u001b[0m\n\u001b[0;32m-> 2069\u001b[0;31m             \u001b[0;32mreturn\u001b[0m \u001b[0mself\u001b[0m\u001b[0;34m.\u001b[0m\u001b[0m_get_item_cache\u001b[0m\u001b[0;34m(\u001b[0m\u001b[0mkey\u001b[0m\u001b[0;34m)\u001b[0m\u001b[0;34m\u001b[0m\u001b[0m\n\u001b[0m\u001b[1;32m   2070\u001b[0m \u001b[0;34m\u001b[0m\u001b[0m\n\u001b[1;32m   2071\u001b[0m         \u001b[0;31m# duplicate columns & possible reduce dimensionality\u001b[0m\u001b[0;34m\u001b[0m\u001b[0;34m\u001b[0m\u001b[0m\n",
      "\u001b[0;32m/usr/local/anaconda3/lib/python3.6/site-packages/pandas/core/generic.py\u001b[0m in \u001b[0;36m_get_item_cache\u001b[0;34m(self, item)\u001b[0m\n\u001b[1;32m   1532\u001b[0m         \u001b[0mres\u001b[0m \u001b[0;34m=\u001b[0m \u001b[0mcache\u001b[0m\u001b[0;34m.\u001b[0m\u001b[0mget\u001b[0m\u001b[0;34m(\u001b[0m\u001b[0mitem\u001b[0m\u001b[0;34m)\u001b[0m\u001b[0;34m\u001b[0m\u001b[0m\n\u001b[1;32m   1533\u001b[0m         \u001b[0;32mif\u001b[0m \u001b[0mres\u001b[0m \u001b[0;32mis\u001b[0m \u001b[0;32mNone\u001b[0m\u001b[0;34m:\u001b[0m\u001b[0;34m\u001b[0m\u001b[0m\n\u001b[0;32m-> 1534\u001b[0;31m             \u001b[0mvalues\u001b[0m \u001b[0;34m=\u001b[0m \u001b[0mself\u001b[0m\u001b[0;34m.\u001b[0m\u001b[0m_data\u001b[0m\u001b[0;34m.\u001b[0m\u001b[0mget\u001b[0m\u001b[0;34m(\u001b[0m\u001b[0mitem\u001b[0m\u001b[0;34m)\u001b[0m\u001b[0;34m\u001b[0m\u001b[0m\n\u001b[0m\u001b[1;32m   1535\u001b[0m             \u001b[0mres\u001b[0m \u001b[0;34m=\u001b[0m \u001b[0mself\u001b[0m\u001b[0;34m.\u001b[0m\u001b[0m_box_item_values\u001b[0m\u001b[0;34m(\u001b[0m\u001b[0mitem\u001b[0m\u001b[0;34m,\u001b[0m \u001b[0mvalues\u001b[0m\u001b[0;34m)\u001b[0m\u001b[0;34m\u001b[0m\u001b[0m\n\u001b[1;32m   1536\u001b[0m             \u001b[0mcache\u001b[0m\u001b[0;34m[\u001b[0m\u001b[0mitem\u001b[0m\u001b[0;34m]\u001b[0m \u001b[0;34m=\u001b[0m \u001b[0mres\u001b[0m\u001b[0;34m\u001b[0m\u001b[0m\n",
      "\u001b[0;32m/usr/local/anaconda3/lib/python3.6/site-packages/pandas/core/internals.py\u001b[0m in \u001b[0;36mget\u001b[0;34m(self, item, fastpath)\u001b[0m\n\u001b[1;32m   3588\u001b[0m \u001b[0;34m\u001b[0m\u001b[0m\n\u001b[1;32m   3589\u001b[0m             \u001b[0;32mif\u001b[0m \u001b[0;32mnot\u001b[0m \u001b[0misnull\u001b[0m\u001b[0;34m(\u001b[0m\u001b[0mitem\u001b[0m\u001b[0;34m)\u001b[0m\u001b[0;34m:\u001b[0m\u001b[0;34m\u001b[0m\u001b[0m\n\u001b[0;32m-> 3590\u001b[0;31m                 \u001b[0mloc\u001b[0m \u001b[0;34m=\u001b[0m \u001b[0mself\u001b[0m\u001b[0;34m.\u001b[0m\u001b[0mitems\u001b[0m\u001b[0;34m.\u001b[0m\u001b[0mget_loc\u001b[0m\u001b[0;34m(\u001b[0m\u001b[0mitem\u001b[0m\u001b[0;34m)\u001b[0m\u001b[0;34m\u001b[0m\u001b[0m\n\u001b[0m\u001b[1;32m   3591\u001b[0m             \u001b[0;32melse\u001b[0m\u001b[0;34m:\u001b[0m\u001b[0;34m\u001b[0m\u001b[0m\n\u001b[1;32m   3592\u001b[0m                 \u001b[0mindexer\u001b[0m \u001b[0;34m=\u001b[0m \u001b[0mnp\u001b[0m\u001b[0;34m.\u001b[0m\u001b[0marange\u001b[0m\u001b[0;34m(\u001b[0m\u001b[0mlen\u001b[0m\u001b[0;34m(\u001b[0m\u001b[0mself\u001b[0m\u001b[0;34m.\u001b[0m\u001b[0mitems\u001b[0m\u001b[0;34m)\u001b[0m\u001b[0;34m)\u001b[0m\u001b[0;34m[\u001b[0m\u001b[0misnull\u001b[0m\u001b[0;34m(\u001b[0m\u001b[0mself\u001b[0m\u001b[0;34m.\u001b[0m\u001b[0mitems\u001b[0m\u001b[0;34m)\u001b[0m\u001b[0;34m]\u001b[0m\u001b[0;34m\u001b[0m\u001b[0m\n",
      "\u001b[0;32m/usr/local/anaconda3/lib/python3.6/site-packages/pandas/core/indexes/base.py\u001b[0m in \u001b[0;36mget_loc\u001b[0;34m(self, key, method, tolerance)\u001b[0m\n\u001b[1;32m   2393\u001b[0m                 \u001b[0;32mreturn\u001b[0m \u001b[0mself\u001b[0m\u001b[0;34m.\u001b[0m\u001b[0m_engine\u001b[0m\u001b[0;34m.\u001b[0m\u001b[0mget_loc\u001b[0m\u001b[0;34m(\u001b[0m\u001b[0mkey\u001b[0m\u001b[0;34m)\u001b[0m\u001b[0;34m\u001b[0m\u001b[0m\n\u001b[1;32m   2394\u001b[0m             \u001b[0;32mexcept\u001b[0m \u001b[0mKeyError\u001b[0m\u001b[0;34m:\u001b[0m\u001b[0;34m\u001b[0m\u001b[0m\n\u001b[0;32m-> 2395\u001b[0;31m                 \u001b[0;32mreturn\u001b[0m \u001b[0mself\u001b[0m\u001b[0;34m.\u001b[0m\u001b[0m_engine\u001b[0m\u001b[0;34m.\u001b[0m\u001b[0mget_loc\u001b[0m\u001b[0;34m(\u001b[0m\u001b[0mself\u001b[0m\u001b[0;34m.\u001b[0m\u001b[0m_maybe_cast_indexer\u001b[0m\u001b[0;34m(\u001b[0m\u001b[0mkey\u001b[0m\u001b[0;34m)\u001b[0m\u001b[0;34m)\u001b[0m\u001b[0;34m\u001b[0m\u001b[0m\n\u001b[0m\u001b[1;32m   2396\u001b[0m \u001b[0;34m\u001b[0m\u001b[0m\n\u001b[1;32m   2397\u001b[0m         \u001b[0mindexer\u001b[0m \u001b[0;34m=\u001b[0m \u001b[0mself\u001b[0m\u001b[0;34m.\u001b[0m\u001b[0mget_indexer\u001b[0m\u001b[0;34m(\u001b[0m\u001b[0;34m[\u001b[0m\u001b[0mkey\u001b[0m\u001b[0;34m]\u001b[0m\u001b[0;34m,\u001b[0m \u001b[0mmethod\u001b[0m\u001b[0;34m=\u001b[0m\u001b[0mmethod\u001b[0m\u001b[0;34m,\u001b[0m \u001b[0mtolerance\u001b[0m\u001b[0;34m=\u001b[0m\u001b[0mtolerance\u001b[0m\u001b[0;34m)\u001b[0m\u001b[0;34m\u001b[0m\u001b[0m\n",
      "\u001b[0;32mpandas/_libs/index.pyx\u001b[0m in \u001b[0;36mpandas._libs.index.IndexEngine.get_loc (pandas/_libs/index.c:5239)\u001b[0;34m()\u001b[0m\n",
      "\u001b[0;32mpandas/_libs/index.pyx\u001b[0m in \u001b[0;36mpandas._libs.index.IndexEngine.get_loc (pandas/_libs/index.c:5085)\u001b[0;34m()\u001b[0m\n",
      "\u001b[0;32mpandas/_libs/hashtable_class_helper.pxi\u001b[0m in \u001b[0;36mpandas._libs.hashtable.PyObjectHashTable.get_item (pandas/_libs/hashtable.c:20405)\u001b[0;34m()\u001b[0m\n",
      "\u001b[0;32mpandas/_libs/hashtable_class_helper.pxi\u001b[0m in \u001b[0;36mpandas._libs.hashtable.PyObjectHashTable.get_item (pandas/_libs/hashtable.c:20359)\u001b[0;34m()\u001b[0m\n",
      "\u001b[0;31mKeyError\u001b[0m: 0"
     ]
    }
   ],
   "source": [
    "z_map = sl_md.compute_contrast()"
   ]
  },
  {
   "cell_type": "code",
   "execution_count": 78,
   "metadata": {},
   "outputs": [
    {
     "ename": "NameError",
     "evalue": "name 'plt' is not defined",
     "output_type": "error",
     "traceback": [
      "\u001b[0;31m---------------------------------------------------------------------------\u001b[0m",
      "\u001b[0;31mNameError\u001b[0m                                 Traceback (most recent call last)",
      "\u001b[0;32m<ipython-input-78-660f678294a8>\u001b[0m in \u001b[0;36m<module>\u001b[0;34m()\u001b[0m\n\u001b[1;32m      3\u001b[0m \u001b[0max\u001b[0m\u001b[0;34m.\u001b[0m\u001b[0mset_title\u001b[0m\u001b[0;34m(\u001b[0m\u001b[0;34m'Second level design matrix'\u001b[0m\u001b[0;34m,\u001b[0m \u001b[0mfontsize\u001b[0m\u001b[0;34m=\u001b[0m\u001b[0;36m12\u001b[0m\u001b[0;34m)\u001b[0m\u001b[0;34m\u001b[0m\u001b[0m\n\u001b[1;32m      4\u001b[0m \u001b[0max\u001b[0m\u001b[0;34m.\u001b[0m\u001b[0mset_ylabel\u001b[0m\u001b[0;34m(\u001b[0m\u001b[0;34m'maps'\u001b[0m\u001b[0;34m)\u001b[0m\u001b[0;34m\u001b[0m\u001b[0m\n\u001b[0;32m----> 5\u001b[0;31m \u001b[0mplt\u001b[0m\u001b[0;34m.\u001b[0m\u001b[0mtight_layout\u001b[0m\u001b[0;34m(\u001b[0m\u001b[0;34m)\u001b[0m\u001b[0;34m\u001b[0m\u001b[0m\n\u001b[0m\u001b[1;32m      6\u001b[0m \u001b[0mplt\u001b[0m\u001b[0;34m.\u001b[0m\u001b[0mshow\u001b[0m\u001b[0;34m(\u001b[0m\u001b[0;34m)\u001b[0m\u001b[0;34m\u001b[0m\u001b[0m\n",
      "\u001b[0;31mNameError\u001b[0m: name 'plt' is not defined"
     ]
    },
    {
     "data": {
      "image/png": "[encoded data removed]",
      "text/plain": [
       "<Figure size 432x288 with 1 Axes>"
      ]
     },
     "metadata": {},
     "output_type": "display_data"
    }
   ],
   "source": [
    "# plot the results\n",
    "ax = plot_design_matrix(design_matrix)\n",
    "ax.set_title('Second level design matrix', fontsize=12)\n",
    "ax.set_ylabel('maps')\n",
    "plt.tight_layout()\n",
    "plt.show()"
   ]
  },
  {
   "cell_type": "code",
   "execution_count": null,
   "metadata": {},
   "outputs": [],
   "source": []
  }
 ],
 "metadata": {
  "kernelspec": {
   "display_name": "Python 3",
   "language": "python",
   "name": "python3"
  },
  "language_info": {
   "codemirror_mode": {
    "name": "ipython",
    "version": 3
   },
   "file_extension": ".py",
   "mimetype": "text/x-python",
   "name": "python",
   "nbconvert_exporter": "python",
   "pygments_lexer": "ipython3",
   "version": "3.6.6"
  }
 },
 "nbformat": 4,
 "nbformat_minor": 2
}
