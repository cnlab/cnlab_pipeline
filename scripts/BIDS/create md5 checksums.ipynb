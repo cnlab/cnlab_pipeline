{
 "cells": [
  {
   "cell_type": "code",
   "execution_count": 2,
   "metadata": {},
   "outputs": [
    {
     "name": "stdout",
     "output_type": "stream",
     "text": [
      "!find ../../data/bids_data/sub-BPA01 -type f -exec md5sum {} + > md5/sub-BPA01.txt\n",
      "!find ../../data/bids_data/sub-BPA02 -type f -exec md5sum {} + > md5/sub-BPA02.txt\n",
      "!find ../../data/bids_data/sub-BPA03 -type f -exec md5sum {} + > md5/sub-BPA03.txt\n",
      "!find ../../data/bids_data/sub-BPA04 -type f -exec md5sum {} + > md5/sub-BPA04.txt\n",
      "!find ../../data/bids_data/sub-BPA05 -type f -exec md5sum {} + > md5/sub-BPA05.txt\n",
      "!find ../../data/bids_data/sub-BPA06 -type f -exec md5sum {} + > md5/sub-BPA06.txt\n",
      "!find ../../data/bids_data/sub-BPA08 -type f -exec md5sum {} + > md5/sub-BPA08.txt\n",
      "!find ../../data/bids_data/sub-BPA09 -type f -exec md5sum {} + > md5/sub-BPA09.txt\n",
      "!find ../../data/bids_data/sub-BPA10 -type f -exec md5sum {} + > md5/sub-BPA10.txt\n",
      "!find ../../data/bids_data/sub-BPA11 -type f -exec md5sum {} + > md5/sub-BPA11.txt\n",
      "!find ../../data/bids_data/sub-BPA12 -type f -exec md5sum {} + > md5/sub-BPA12.txt\n",
      "!find ../../data/bids_data/sub-BPA14 -type f -exec md5sum {} + > md5/sub-BPA14.txt\n",
      "!find ../../data/bids_data/sub-BPA15 -type f -exec md5sum {} + > md5/sub-BPA15.txt\n",
      "!find ../../data/bids_data/sub-BPA16 -type f -exec md5sum {} + > md5/sub-BPA16.txt\n",
      "!find ../../data/bids_data/sub-BPA17 -type f -exec md5sum {} + > md5/sub-BPA17.txt\n",
      "!find ../../data/bids_data/sub-BPA18 -type f -exec md5sum {} + > md5/sub-BPA18.txt\n",
      "!find ../../data/bids_data/sub-BPA19 -type f -exec md5sum {} + > md5/sub-BPA19.txt\n",
      "!find ../../data/bids_data/sub-BPA21 -type f -exec md5sum {} + > md5/sub-BPA21.txt\n",
      "!find ../../data/bids_data/sub-BPA22 -type f -exec md5sum {} + > md5/sub-BPA22.txt\n",
      "!find ../../data/bids_data/sub-BPA23 -type f -exec md5sum {} + > md5/sub-BPA23.txt\n",
      "!find ../../data/bids_data/sub-BPA26 -type f -exec md5sum {} + > md5/sub-BPA26.txt\n",
      "!find ../../data/bids_data/sub-BPA27 -type f -exec md5sum {} + > md5/sub-BPA27.txt\n",
      "!find ../../data/bids_data/sub-BPA28 -type f -exec md5sum {} + > md5/sub-BPA28.txt\n",
      "!find ../../data/bids_data/sub-BPA29 -type f -exec md5sum {} + > md5/sub-BPA29.txt\n",
      "!find ../../data/bids_data/sub-BPA30 -type f -exec md5sum {} + > md5/sub-BPA30.txt\n",
      "!find ../../data/bids_data/sub-BPA31 -type f -exec md5sum {} + > md5/sub-BPA31.txt\n",
      "!find ../../data/bids_data/sub-BPA32 -type f -exec md5sum {} + > md5/sub-BPA32.txt\n",
      "!find ../../data/bids_data/sub-BPA33 -type f -exec md5sum {} + > md5/sub-BPA33.txt\n",
      "!find ../../data/bids_data/sub-BPA34 -type f -exec md5sum {} + > md5/sub-BPA34.txt\n",
      "!find ../../data/bids_data/sub-BPA35 -type f -exec md5sum {} + > md5/sub-BPA35.txt\n",
      "!find ../../data/bids_data/sub-BPA36 -type f -exec md5sum {} + > md5/sub-BPA36.txt\n",
      "!find ../../data/bids_data/sub-BPA37 -type f -exec md5sum {} + > md5/sub-BPA37.txt\n",
      "!find ../../data/bids_data/sub-BPA38 -type f -exec md5sum {} + > md5/sub-BPA38.txt\n",
      "!find ../../data/bids_data/sub-BPA39 -type f -exec md5sum {} + > md5/sub-BPA39.txt\n",
      "!find ../../data/bids_data/sub-BPA41 -type f -exec md5sum {} + > md5/sub-BPA41.txt\n",
      "!find ../../data/bids_data/sub-BPA42 -type f -exec md5sum {} + > md5/sub-BPA42.txt\n",
      "!find ../../data/bids_data/sub-BPA43 -type f -exec md5sum {} + > md5/sub-BPA43.txt\n",
      "!find ../../data/bids_data/sub-BPA44 -type f -exec md5sum {} + > md5/sub-BPA44.txt\n",
      "!find ../../data/bids_data/sub-BPA45 -type f -exec md5sum {} + > md5/sub-BPA45.txt\n",
      "!find ../../data/bids_data/sub-BPA46 -type f -exec md5sum {} + > md5/sub-BPA46.txt\n",
      "!find ../../data/bids_data/sub-BPA47 -type f -exec md5sum {} + > md5/sub-BPA47.txt\n",
      "!find ../../data/bids_data/sub-BPA48 -type f -exec md5sum {} + > md5/sub-BPA48.txt\n",
      "!find ../../data/bids_data/sub-BPA81 -type f -exec md5sum {} + > md5/sub-BPA81.txt\n",
      "!find ../../data/bids_data/sub-BPA82 -type f -exec md5sum {} + > md5/sub-BPA82.txt\n",
      "!find ../../data/bids_data/sub-BPA84 -type f -exec md5sum {} + > md5/sub-BPA84.txt\n",
      "!find ../../data/bids_data/sub-BPA85 -type f -exec md5sum {} + > md5/sub-BPA85.txt\n",
      "!find ../../data/bids_data/sub-BPA86 -type f -exec md5sum {} + > md5/sub-BPA86.txt\n",
      "!find ../../data/bids_data/sub-BPA87 -type f -exec md5sum {} + > md5/sub-BPA87.txt\n",
      "!find ../../data/bids_data/sub-BPA88 -type f -exec md5sum {} + > md5/sub-BPA88.txt\n",
      "!find ../../data/bids_data/sub-BPA89 -type f -exec md5sum {} + > md5/sub-BPA89.txt\n",
      "!find ../../data/bids_data/sub-BPA90 -type f -exec md5sum {} + > md5/sub-BPA90.txt\n",
      "!find ../../data/bids_data/sub-BPA91 -type f -exec md5sum {} + > md5/sub-BPA91.txt\n"
     ]
    }
   ],
   "source": [
    "import os, glob\n",
    "\n",
    "subs = glob.glob('../../data/bids_data/sub-BPA*')\n",
    "for sub in subs:\n",
    "    print(f\"!find {sub} -type f -exec md5sum\"+ \" {} + > \" + f\"md5/{os.path.basename(sub)}.txt\")"
   ]
  },
  {
   "cell_type": "code",
   "execution_count": 4,
   "metadata": {},
   "outputs": [],
   "source": [
    "!find ../../data/bids_data/sub-BPA17 -type f -exec md5sum {} + > md5/sub-BPA17.txt"
   ]
  },
  {
   "cell_type": "code",
   "execution_count": null,
   "metadata": {},
   "outputs": [],
   "source": [
    "!find ../../data/bids_data/sub-BPA01 -type f -exec md5sum {} + > md5/sub-BPA01.txt\n",
    "!find ../../data/bids_data/sub-BPA02 -type f -exec md5sum {} + > md5/sub-BPA02.txt\n",
    "!find ../../data/bids_data/sub-BPA03 -type f -exec md5sum {} + > md5/sub-BPA03.txt\n",
    "!find ../../data/bids_data/sub-BPA04 -type f -exec md5sum {} + > md5/sub-BPA04.txt\n",
    "!find ../../data/bids_data/sub-BPA05 -type f -exec md5sum {} + > md5/sub-BPA05.txt\n",
    "!find ../../data/bids_data/sub-BPA06 -type f -exec md5sum {} + > md5/sub-BPA06.txt\n",
    "!find ../../data/bids_data/sub-BPA08 -type f -exec md5sum {} + > md5/sub-BPA08.txt\n",
    "!find ../../data/bids_data/sub-BPA09 -type f -exec md5sum {} + > md5/sub-BPA09.txt\n",
    "!find ../../data/bids_data/sub-BPA10 -type f -exec md5sum {} + > md5/sub-BPA10.txt\n",
    "!find ../../data/bids_data/sub-BPA11 -type f -exec md5sum {} + > md5/sub-BPA11.txt\n",
    "!find ../../data/bids_data/sub-BPA12 -type f -exec md5sum {} + > md5/sub-BPA12.txt\n",
    "!find ../../data/bids_data/sub-BPA14 -type f -exec md5sum {} + > md5/sub-BPA14.txt\n",
    "!find ../../data/bids_data/sub-BPA15 -type f -exec md5sum {} + > md5/sub-BPA15.txt\n",
    "!find ../../data/bids_data/sub-BPA16 -type f -exec md5sum {} + > md5/sub-BPA16.txt\n",
    "!find ../../data/bids_data/sub-BPA17 -type f -exec md5sum {} + > md5/sub-BPA17.txt\n",
    "!find ../../data/bids_data/sub-BPA18 -type f -exec md5sum {} + > md5/sub-BPA18.txt\n",
    "!find ../../data/bids_data/sub-BPA19 -type f -exec md5sum {} + > md5/sub-BPA19.txt\n",
    "!find ../../data/bids_data/sub-BPA21 -type f -exec md5sum {} + > md5/sub-BPA21.txt\n",
    "!find ../../data/bids_data/sub-BPA22 -type f -exec md5sum {} + > md5/sub-BPA22.txt\n",
    "!find ../../data/bids_data/sub-BPA23 -type f -exec md5sum {} + > md5/sub-BPA23.txt\n",
    "!find ../../data/bids_data/sub-BPA26 -type f -exec md5sum {} + > md5/sub-BPA26.txt\n",
    "!find ../../data/bids_data/sub-BPA27 -type f -exec md5sum {} + > md5/sub-BPA27.txt\n",
    "!find ../../data/bids_data/sub-BPA28 -type f -exec md5sum {} + > md5/sub-BPA28.txt\n",
    "!find ../../data/bids_data/sub-BPA29 -type f -exec md5sum {} + > md5/sub-BPA29.txt\n",
    "!find ../../data/bids_data/sub-BPA30 -type f -exec md5sum {} + > md5/sub-BPA30.txt\n",
    "!find ../../data/bids_data/sub-BPA31 -type f -exec md5sum {} + > md5/sub-BPA31.txt\n",
    "!find ../../data/bids_data/sub-BPA32 -type f -exec md5sum {} + > md5/sub-BPA32.txt\n",
    "!find ../../data/bids_data/sub-BPA33 -type f -exec md5sum {} + > md5/sub-BPA33.txt\n",
    "!find ../../data/bids_data/sub-BPA34 -type f -exec md5sum {} + > md5/sub-BPA34.txt\n",
    "!find ../../data/bids_data/sub-BPA35 -type f -exec md5sum {} + > md5/sub-BPA35.txt\n",
    "!find ../../data/bids_data/sub-BPA36 -type f -exec md5sum {} + > md5/sub-BPA36.txt\n",
    "!find ../../data/bids_data/sub-BPA37 -type f -exec md5sum {} + > md5/sub-BPA37.txt\n",
    "!find ../../data/bids_data/sub-BPA38 -type f -exec md5sum {} + > md5/sub-BPA38.txt\n",
    "!find ../../data/bids_data/sub-BPA39 -type f -exec md5sum {} + > md5/sub-BPA39.txt\n",
    "!find ../../data/bids_data/sub-BPA41 -type f -exec md5sum {} + > md5/sub-BPA41.txt\n",
    "!find ../../data/bids_data/sub-BPA42 -type f -exec md5sum {} + > md5/sub-BPA42.txt\n",
    "!find ../../data/bids_data/sub-BPA43 -type f -exec md5sum {} + > md5/sub-BPA43.txt\n",
    "!find ../../data/bids_data/sub-BPA44 -type f -exec md5sum {} + > md5/sub-BPA44.txt\n",
    "!find ../../data/bids_data/sub-BPA45 -type f -exec md5sum {} + > md5/sub-BPA45.txt\n",
    "!find ../../data/bids_data/sub-BPA46 -type f -exec md5sum {} + > md5/sub-BPA46.txt\n",
    "!find ../../data/bids_data/sub-BPA47 -type f -exec md5sum {} + > md5/sub-BPA47.txt\n",
    "!find ../../data/bids_data/sub-BPA48 -type f -exec md5sum {} + > md5/sub-BPA48.txt\n",
    "!find ../../data/bids_data/sub-BPA81 -type f -exec md5sum {} + > md5/sub-BPA81.txt\n",
    "!find ../../data/bids_data/sub-BPA82 -type f -exec md5sum {} + > md5/sub-BPA82.txt\n",
    "!find ../../data/bids_data/sub-BPA84 -type f -exec md5sum {} + > md5/sub-BPA84.txt\n",
    "!find ../../data/bids_data/sub-BPA85 -type f -exec md5sum {} + > md5/sub-BPA85.txt\n",
    "!find ../../data/bids_data/sub-BPA86 -type f -exec md5sum {} + > md5/sub-BPA86.txt\n",
    "!find ../../data/bids_data/sub-BPA87 -type f -exec md5sum {} + > md5/sub-BPA87.txt\n",
    "!find ../../data/bids_data/sub-BPA88 -type f -exec md5sum {} + > md5/sub-BPA88.txt\n",
    "!find ../../data/bids_data/sub-BPA89 -type f -exec md5sum {} + > md5/sub-BPA89.txt\n",
    "!find ../../data/bids_data/sub-BPA90 -type f -exec md5sum {} + > md5/sub-BPA90.txt\n",
    "!find ../../data/bids_data/sub-BPA91 -type f -exec md5sum {} + > md5/sub-BPA91.txt"
   ]
  }
 ],
 "metadata": {
  "kernelspec": {
   "display_name": "Python 3",
   "language": "python",
   "name": "python3"
  },
  "language_info": {
   "codemirror_mode": {
    "name": "ipython",
    "version": 3
   },
   "file_extension": ".py",
   "mimetype": "text/x-python",
   "name": "python",
   "nbconvert_exporter": "python",
   "pygments_lexer": "ipython3",
   "version": "3.7.4"
  },
  "varInspector": {
   "cols": {
    "lenName": 16,
    "lenType": 16,
    "lenVar": 40
   },
   "kernels_config": {
    "python": {
     "delete_cmd_postfix": "",
     "delete_cmd_prefix": "del ",
     "library": "var_list.py",
     "varRefreshCmd": "print(var_dic_list())"
    },
    "r": {
     "delete_cmd_postfix": ") ",
     "delete_cmd_prefix": "rm(",
     "library": "var_list.r",
     "varRefreshCmd": "cat(var_dic_list()) "
    }
   },
   "types_to_exclude": [
    "module",
    "function",
    "builtin_function_or_method",
    "instance",
    "_Feature"
   ],
   "window_display": false
  }
 },
 "nbformat": 4,
 "nbformat_minor": 2
}
