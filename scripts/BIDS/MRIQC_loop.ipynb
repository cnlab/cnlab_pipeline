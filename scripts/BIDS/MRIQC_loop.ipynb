{
 "cells": [
  {
   "cell_type": "markdown",
   "metadata": {},
   "source": [
    "## MRIQC\n",
    "\n",
    "* https://mriqc.readthedocs.io/en/stable/about.html\n",
    "\n",
    "*MRIQC extracts no-reference IQMs (image quality metrics) from structural (T1w and T2w) and functional MRI (magnetic resonance imaging) data.\n",
    "\n",
    "MRIQC is an open-source project, developed under the following software engineering principles:\n",
    "\n",
    "Modularity and integrability: MRIQC implements a nipype workflow to integrate modular sub-workflows that rely upon third party software toolboxes such as FSL, ANTs and AFNI.\n",
    "\n",
    "Minimal preprocessing: the MRIQC workflows should be as minimal as possible to estimate the IQMs on the original data or their minimally processed derivatives.\n",
    "\n",
    "Interoperability and standards: MRIQC follows the the brain imaging data structure (BIDS), and it adopts the BIDS-App standard.\n",
    "\n",
    "Reliability and robustness: the software undergoes frequent vetting sprints by testing its robustness against data variability (acquisition parameters, physiological differences, etc.) using images from OpenfMRI. Its reliability is permanently checked and maintained with CircleCI.\n",
    "\n",
    "MRIQC is part of the MRI image analysis and reproducibility platform offered by the CRN. This pipeline derives from, and is heavily influenced by, the PCP Quality Assessment Protocol."
   ]
  },
  {
   "cell_type": "code",
   "execution_count": 4,
   "metadata": {},
   "outputs": [],
   "source": [
    "import os, glob"
   ]
  },
  {
   "cell_type": "code",
   "execution_count": 17,
   "metadata": {},
   "outputs": [],
   "source": [
    "project = 'bbprime'\n",
    "project_dir = os.path.join('/data00/projects/', project)\n",
    "slurm_dir = os.path.join(project_dir, 'scripts/BIDS/jobs/mriqc')"
   ]
  },
  {
   "cell_type": "code",
   "execution_count": 44,
   "metadata": {},
   "outputs": [],
   "source": [
    "bids_dir = '/data00/projects/bbprime/data/bids_data'\n",
    "output_dir = '/data00/projects/bbprime/data/bids_data/derivatives/mriqc'\n",
    "working_dir = '/data00/projects/bbprime/data/bids_data/derivatives/working'\n",
    "\n",
    "os.makedirs(output_dir, exist_ok=True)"
   ]
  },
  {
   "cell_type": "code",
   "execution_count": 45,
   "metadata": {},
   "outputs": [],
   "source": [
    "job_file_template = r'''#!/bin/bash\n",
    "#SBATCH --job-name=mriqc_{ID}.job\n",
    "#SBATCH --output=out/mriqc_{ID}.out\n",
    "#SBATCH --error=out/mriqc_{ID}.err\n",
    "#SBATCH --time=2-00:00\n",
    "\n",
    "srun singularity run --cleanenv \\\n",
    "    -B {bids_dir}:/data \\\n",
    "    -B {output_dir}:/out \\\n",
    "    -B {working_dir}:/work \\\n",
    "    /data00/tools/singularity_images/mriqc-0.15.1.simg /data /out participant \\\n",
    "    --nprocs 8 \\\n",
    "    -m bold \\\n",
    "    --work-dir /work \\\n",
    "    --participant_label {ID}\n",
    "'''"
   ]
  },
  {
   "cell_type": "code",
   "execution_count": 46,
   "metadata": {},
   "outputs": [],
   "source": [
    "subs = [os.path.basename(sub).replace('sub-','') for sub in glob.glob(os.path.join(bids_dir, \"sub-*\"))]                 "
   ]
  },
  {
   "cell_type": "code",
   "execution_count": 47,
   "metadata": {},
   "outputs": [],
   "source": [
    "for sub in subs:\n",
    "    with open(f'jobs/mriqc_{sub}.job','w') as f:\n",
    "        f.write(job_file_template.format(bids_dir=bids_dir, \n",
    "                                         output_dir=output_dir,\n",
    "                                         working_dir=working_dir,\n",
    "                                        ID=sub))"
   ]
  },
  {
   "cell_type": "code",
   "execution_count": 48,
   "metadata": {},
   "outputs": [
    {
     "name": "stdout",
     "output_type": "stream",
     "text": [
      "Alternatively, submit the whole batch by copying and pasting the following lines in terminal:\n",
      "\n",
      "cd /data00/projects/bbprime/scripts/BIDS/jobs\n",
      "sbatch -D /data00/projects/bbprime/scripts/BIDS/jobs -c 8 mriqc_BPA01.job\n",
      "sbatch -D /data00/projects/bbprime/scripts/BIDS/jobs -c 8 mriqc_BPA02.job\n",
      "sbatch -D /data00/projects/bbprime/scripts/BIDS/jobs -c 8 mriqc_BPA03.job\n",
      "sbatch -D /data00/projects/bbprime/scripts/BIDS/jobs -c 8 mriqc_BPA04.job\n",
      "sbatch -D /data00/projects/bbprime/scripts/BIDS/jobs -c 8 mriqc_BPA05.job\n",
      "sbatch -D /data00/projects/bbprime/scripts/BIDS/jobs -c 8 mriqc_BPA06.job\n",
      "sbatch -D /data00/projects/bbprime/scripts/BIDS/jobs -c 8 mriqc_BPA08.job\n",
      "sbatch -D /data00/projects/bbprime/scripts/BIDS/jobs -c 8 mriqc_BPA09.job\n",
      "sbatch -D /data00/projects/bbprime/scripts/BIDS/jobs -c 8 mriqc_BPA10.job\n",
      "sbatch -D /data00/projects/bbprime/scripts/BIDS/jobs -c 8 mriqc_BPA11.job\n",
      "sbatch -D /data00/projects/bbprime/scripts/BIDS/jobs -c 8 mriqc_BPA12.job\n",
      "sbatch -D /data00/projects/bbprime/scripts/BIDS/jobs -c 8 mriqc_BPA14.job\n",
      "sbatch -D /data00/projects/bbprime/scripts/BIDS/jobs -c 8 mriqc_BPA15.job\n",
      "sbatch -D /data00/projects/bbprime/scripts/BIDS/jobs -c 8 mriqc_BPA16.job\n",
      "sbatch -D /data00/projects/bbprime/scripts/BIDS/jobs -c 8 mriqc_BPA17.job\n",
      "sbatch -D /data00/projects/bbprime/scripts/BIDS/jobs -c 8 mriqc_BPA18.job\n",
      "sbatch -D /data00/projects/bbprime/scripts/BIDS/jobs -c 8 mriqc_BPA19.job\n",
      "sbatch -D /data00/projects/bbprime/scripts/BIDS/jobs -c 8 mriqc_BPA21.job\n",
      "sbatch -D /data00/projects/bbprime/scripts/BIDS/jobs -c 8 mriqc_BPA22.job\n",
      "sbatch -D /data00/projects/bbprime/scripts/BIDS/jobs -c 8 mriqc_BPA23.job\n",
      "sbatch -D /data00/projects/bbprime/scripts/BIDS/jobs -c 8 mriqc_BPA26.job\n",
      "sbatch -D /data00/projects/bbprime/scripts/BIDS/jobs -c 8 mriqc_BPA27.job\n",
      "sbatch -D /data00/projects/bbprime/scripts/BIDS/jobs -c 8 mriqc_BPA28.job\n",
      "sbatch -D /data00/projects/bbprime/scripts/BIDS/jobs -c 8 mriqc_BPA29.job\n",
      "sbatch -D /data00/projects/bbprime/scripts/BIDS/jobs -c 8 mriqc_BPA30.job\n",
      "sbatch -D /data00/projects/bbprime/scripts/BIDS/jobs -c 8 mriqc_BPA31.job\n",
      "sbatch -D /data00/projects/bbprime/scripts/BIDS/jobs -c 8 mriqc_BPA32.job\n",
      "sbatch -D /data00/projects/bbprime/scripts/BIDS/jobs -c 8 mriqc_BPA33.job\n",
      "sbatch -D /data00/projects/bbprime/scripts/BIDS/jobs -c 8 mriqc_BPA34.job\n",
      "sbatch -D /data00/projects/bbprime/scripts/BIDS/jobs -c 8 mriqc_BPA35.job\n",
      "sbatch -D /data00/projects/bbprime/scripts/BIDS/jobs -c 8 mriqc_BPA36.job\n",
      "sbatch -D /data00/projects/bbprime/scripts/BIDS/jobs -c 8 mriqc_BPA37.job\n",
      "sbatch -D /data00/projects/bbprime/scripts/BIDS/jobs -c 8 mriqc_BPA38.job\n",
      "sbatch -D /data00/projects/bbprime/scripts/BIDS/jobs -c 8 mriqc_BPA39.job\n",
      "sbatch -D /data00/projects/bbprime/scripts/BIDS/jobs -c 8 mriqc_BPA41.job\n",
      "sbatch -D /data00/projects/bbprime/scripts/BIDS/jobs -c 8 mriqc_BPA42.job\n",
      "sbatch -D /data00/projects/bbprime/scripts/BIDS/jobs -c 8 mriqc_BPA43.job\n",
      "sbatch -D /data00/projects/bbprime/scripts/BIDS/jobs -c 8 mriqc_BPA44.job\n",
      "sbatch -D /data00/projects/bbprime/scripts/BIDS/jobs -c 8 mriqc_BPA45.job\n",
      "sbatch -D /data00/projects/bbprime/scripts/BIDS/jobs -c 8 mriqc_BPA46.job\n",
      "sbatch -D /data00/projects/bbprime/scripts/BIDS/jobs -c 8 mriqc_BPA47.job\n",
      "sbatch -D /data00/projects/bbprime/scripts/BIDS/jobs -c 8 mriqc_BPA48.job\n",
      "sbatch -D /data00/projects/bbprime/scripts/BIDS/jobs -c 8 mriqc_BPA81.job\n",
      "sbatch -D /data00/projects/bbprime/scripts/BIDS/jobs -c 8 mriqc_BPA82.job\n",
      "sbatch -D /data00/projects/bbprime/scripts/BIDS/jobs -c 8 mriqc_BPA84.job\n",
      "sbatch -D /data00/projects/bbprime/scripts/BIDS/jobs -c 8 mriqc_BPA85.job\n",
      "sbatch -D /data00/projects/bbprime/scripts/BIDS/jobs -c 8 mriqc_BPA86.job\n",
      "sbatch -D /data00/projects/bbprime/scripts/BIDS/jobs -c 8 mriqc_BPA87.job\n",
      "sbatch -D /data00/projects/bbprime/scripts/BIDS/jobs -c 8 mriqc_BPA88.job\n",
      "sbatch -D /data00/projects/bbprime/scripts/BIDS/jobs -c 8 mriqc_BPA89.job\n",
      "sbatch -D /data00/projects/bbprime/scripts/BIDS/jobs -c 8 mriqc_BPA90.job\n",
      "sbatch -D /data00/projects/bbprime/scripts/BIDS/jobs -c 8 mriqc_BPA91.job\n",
      "sbatch -D /data00/projects/bbprime/scripts/BIDS/jobs -c 8 mriqc_BPP00.job\n",
      "sbatch -D /data00/projects/bbprime/scripts/BIDS/jobs -c 8 mriqc_BPP04.job\n",
      "sbatch -D /data00/projects/bbprime/scripts/BIDS/jobs -c 8 mriqc_BPP05.job\n",
      "sbatch -D /data00/projects/bbprime/scripts/BIDS/jobs -c 8 mriqc_BPP06.job\n",
      "sbatch -D /data00/projects/bbprime/scripts/BIDS/jobs -c 8 mriqc_BPP07.job\n",
      "sbatch -D /data00/projects/bbprime/scripts/BIDS/jobs -c 8 mriqc_BPP11.job\n",
      "sbatch -D /data00/projects/bbprime/scripts/BIDS/jobs -c 8 mriqc_BPP12.job\n",
      "sbatch -D /data00/projects/bbprime/scripts/BIDS/jobs -c 8 mriqc_BPP13.job\n",
      "sbatch -D /data00/projects/bbprime/scripts/BIDS/jobs -c 8 mriqc_BPP15.job\n",
      "sbatch -D /data00/projects/bbprime/scripts/BIDS/jobs -c 8 mriqc_BPP19.job\n",
      "sbatch -D /data00/projects/bbprime/scripts/BIDS/jobs -c 8 mriqc_BPP20.job\n",
      "sbatch -D /data00/projects/bbprime/scripts/BIDS/jobs -c 8 mriqc_BPP21.job\n",
      "sbatch -D /data00/projects/bbprime/scripts/BIDS/jobs -c 8 mriqc_BPP22.job\n",
      "sbatch -D /data00/projects/bbprime/scripts/BIDS/jobs -c 8 mriqc_BPP24.job\n",
      "sbatch -D /data00/projects/bbprime/scripts/BIDS/jobs -c 8 mriqc_BPP25.job\n",
      "sbatch -D /data00/projects/bbprime/scripts/BIDS/jobs -c 8 mriqc_BPP26.job\n",
      "sbatch -D /data00/projects/bbprime/scripts/BIDS/jobs -c 8 mriqc_BPP29.job\n",
      "sbatch -D /data00/projects/bbprime/scripts/BIDS/jobs -c 8 mriqc_BPP30.job\n",
      "sbatch -D /data00/projects/bbprime/scripts/BIDS/jobs -c 8 mriqc_BPP33.job\n",
      "sbatch -D /data00/projects/bbprime/scripts/BIDS/jobs -c 8 mriqc_BPP34.job\n",
      "sbatch -D /data00/projects/bbprime/scripts/BIDS/jobs -c 8 mriqc_BPP36.job\n",
      "sbatch -D /data00/projects/bbprime/scripts/BIDS/jobs -c 8 mriqc_BPP37.job\n",
      "sbatch -D /data00/projects/bbprime/scripts/BIDS/jobs -c 8 mriqc_BPP38.job\n",
      "sbatch -D /data00/projects/bbprime/scripts/BIDS/jobs -c 8 mriqc_BPP40.job\n",
      "sbatch -D /data00/projects/bbprime/scripts/BIDS/jobs -c 8 mriqc_BPP41.job\n",
      "sbatch -D /data00/projects/bbprime/scripts/BIDS/jobs -c 8 mriqc_BPP42.job\n",
      "sbatch -D /data00/projects/bbprime/scripts/BIDS/jobs -c 8 mriqc_BPP43.job\n",
      "sbatch -D /data00/projects/bbprime/scripts/BIDS/jobs -c 8 mriqc_BPP44.job\n",
      "sbatch -D /data00/projects/bbprime/scripts/BIDS/jobs -c 8 mriqc_BPP46.job\n",
      "sbatch -D /data00/projects/bbprime/scripts/BIDS/jobs -c 8 mriqc_BPP47.job\n",
      "sbatch -D /data00/projects/bbprime/scripts/BIDS/jobs -c 8 mriqc_BPP49.job\n",
      "sbatch -D /data00/projects/bbprime/scripts/BIDS/jobs -c 8 mriqc_BPP51.job\n",
      "sbatch -D /data00/projects/bbprime/scripts/BIDS/jobs -c 8 mriqc_BPP52.job\n",
      "sbatch -D /data00/projects/bbprime/scripts/BIDS/jobs -c 8 mriqc_BPP53.job\n",
      "sbatch -D /data00/projects/bbprime/scripts/BIDS/jobs -c 8 mriqc_BPP54.job\n",
      "sbatch -D /data00/projects/bbprime/scripts/BIDS/jobs -c 8 mriqc_BPP56.job\n",
      "sbatch -D /data00/projects/bbprime/scripts/BIDS/jobs -c 8 mriqc_BPP58.job\n",
      "sbatch -D /data00/projects/bbprime/scripts/BIDS/jobs -c 8 mriqc_BPP60.job\n",
      "sbatch -D /data00/projects/bbprime/scripts/BIDS/jobs -c 8 mriqc_BPP61.job\n",
      "sbatch -D /data00/projects/bbprime/scripts/BIDS/jobs -c 8 mriqc_BPP62.job\n",
      "sbatch -D /data00/projects/bbprime/scripts/BIDS/jobs -c 8 mriqc_BPP63.job\n",
      "sbatch -D /data00/projects/bbprime/scripts/BIDS/jobs -c 8 mriqc_BPP64.job\n",
      "sbatch -D /data00/projects/bbprime/scripts/BIDS/jobs -c 8 mriqc_BPP65.job\n",
      "sbatch -D /data00/projects/bbprime/scripts/BIDS/jobs -c 8 mriqc_BPP66.job\n",
      "sbatch -D /data00/projects/bbprime/scripts/BIDS/jobs -c 8 mriqc_BPP67.job\n",
      "sbatch -D /data00/projects/bbprime/scripts/BIDS/jobs -c 8 mriqc_BPP68.job\n",
      " \n"
     ]
    }
   ],
   "source": [
    "print(\"Alternatively, submit the whole batch by copying and pasting the following lines in terminal:\")\n",
    "print(\"\")\n",
    "\n",
    "print(f\"cd {slurm_dir}\")\n",
    "for s in subs:\n",
    "    print(f\"sbatch -D {slurm_dir} -c 8 mriqc_{s}.job\")\n",
    "print(\" \")"
   ]
  }
 ],
 "metadata": {
  "kernelspec": {
   "display_name": "Python 3",
   "language": "python",
   "name": "python3"
  },
  "language_info": {
   "codemirror_mode": {
    "name": "ipython",
    "version": 3
   },
   "file_extension": ".py",
   "mimetype": "text/x-python",
   "name": "python",
   "nbconvert_exporter": "python",
   "pygments_lexer": "ipython3",
   "version": "3.7.4"
  }
 },
 "nbformat": 4,
 "nbformat_minor": 2
}
