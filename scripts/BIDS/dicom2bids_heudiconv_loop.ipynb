{
 "cells": [
  {
   "cell_type": "markdown",
   "metadata": {},
   "source": [
    "# DICOM-to-BIDS conversion using `heudiconv` and `singularity`\n",
    "\n",
    "* This notebook creates jobs for each participant and executes them by looping across participants in this notebook or by creating slurm jobs that can be run in parallel on the slurm cluser\n",
    " \n",
    "\n",
    "#### HISTORY\n",
    "\n",
    "* 06/14/22 aresni - refactored code to accept Config.json\n",
    "* 9/9/21 dcosme - initial code"
   ]
  },
  {
   "cell_type": "markdown",
   "metadata": {},
   "source": [
    "## Do the DICOM to BIDS conversion for new data using existing config setup\n",
    "\n",
    "* Now we have set up a mapping and edited the `heuristics.py` file we can do dicom2bids conversion with the following Singularity command.\n",
    "\n",
    "\n",
    "\n",
    "* The only thing that needs to be changed is the following:\n",
    "   ```\n",
    "   subs = ['']\n",
    "   session = '' (If multiple sessions)\n",
    "   ```\n",
    "*   Edit the raw_subject_template if necessary depending on the where the raw data is and how it is named \n",
    "    For example, if raw dicoms are saved as 'sub01_raw', change '{subject}' to '{subject}_raw'\n",
    "   \n",
    "   Run the cell below to define everything and check the output\n"
   ]
  },
  {
   "cell_type": "markdown",
   "metadata": {},
   "source": [
    "### Initialize variables"
   ]
  },
  {
   "cell_type": "code",
   "execution_count": null,
   "metadata": {
    "ExecuteTime": {
     "end_time": "2022-06-14T21:48:22.959260Z",
     "start_time": "2022-06-14T21:48:22.944710Z"
    }
   },
   "outputs": [],
   "source": [
    "import os\n",
    "\n",
    "config_path = \"../Config.json\"\n",
    "with open(config_path, 'r') as f:\n",
    "    config = json.load(f)\n",
    "path_object = \"Environment\"\n",
    "\n",
    "project_name = config.get(\"Description\").get(\"project_name\")\n",
    "\n",
    "project_directory = config.get(path_object).get( # Path to base project directory\n",
    "    'project_path','/data00/projects/{project_name}').format(project_name = project_name) \n",
    "\n",
    "raw_directory = config.get(path_object).get(   # Path to base raw fmri directory\n",
    "    'raw_path','/fmriDataRaw/fmri_data_raw') \n",
    "\n",
    "heudiconv_image_path = config.get(path_object).get(    # path to heudiconv image\n",
    "    \"heudiconv_image_path\", 'Config[\"Environment\"][\"heudiconv_image_path\"] Not Found')\n",
    "\n",
    "bids_data_directory = config.get(path_object).get(    # path to where your bids_data will be stored within base\n",
    "        \"bids_data_directory\", \"data/bids_data\")\n",
    "\n",
    "bids_scripts_directory = config.get(path_object).get(       # path to where this script lives (scripts/BIDS)\n",
    "        \"bids_script_directory\", \"scripts/BIDS\")\n",
    "\n",
    "job_directory = os.path.join(\n",
    "    project_directory,\n",
    "    bids_scripts_directory,\n",
    "    'jobs')\n",
    "\n",
    "\n",
    "job_file_template = r'''#!/bin/bash\n",
    "singularity run --cleanenv \\\n",
    "    -B {project_directory}:/base  \\\n",
    "    -B {raw_directory}:/raw \\\n",
    "    {heudiconv_image_path} \\\n",
    "    -d /raw/{project_name}/{raw_subject_template} \\\n",
    "    -o /base/{bids_data_directory} \\\n",
    "    -f /base/{bids_scripts_directory}/heudiconv/code/heuristic.py {session_flag}-s {pID} -c dcm2niix -b --overwrite\n",
    "'''\n",
    "\n",
    "print('Project:', project_name)\n",
    "print('\\nDirectories:')\n",
    "print('Project Directory:', project_directory)\n",
    "print('Raw Dicom Project Directory:', os.path.join(raw_directory, project_name))\n",
    "print('BIDS Data Directory:', os.path.join(project_directory, bids_data_directory))\n",
    "print('BIDS Scripts Directory:', os.path.join(project_directory, bids_scripts_directory))\n",
    "print('Jobs directory:', os.path.join(project_directory, bids_scripts_directory, 'jobs'))\n",
    "print('Heudiconv Singularity Image:', heudiconv_image_path)\n",
    "print('\\nExample Job: ')\n",
    "print(job_file_template.format(\n",
    "            project_directory = project_directory,\n",
    "            raw_directory = raw_directory,\n",
    "            heudiconv_image_path = heudiconv_image_path,\n",
    "            project_name = project_name,\n",
    "            raw_subject_template = '{subject}/*/*.dcm',\n",
    "            bids_data_directory = bids_data_directory,\n",
    "            bids_scripts_directory = bids_scripts_directory,\n",
    "            session_flag = session_flag,\n",
    "            pID = 'sub00'))"
   ]
  },
  {
   "cell_type": "markdown",
   "metadata": {},
   "source": [
    "## Define Subjects and Sessions"
   ]
  },
  {
   "cell_type": "code",
   "execution_count": null,
   "metadata": {
    "ExecuteTime": {
     "end_time": "2022-06-14T21:48:37.238321Z",
     "start_time": "2022-06-14T21:48:37.232455Z"
    }
   },
   "outputs": [],
   "source": [
    "subs = ['']\n",
    "session = '' # Run one session at a time. If only one session, leave as empty string\n",
    "\n",
    "raw_subject_template = os.path.join(\n",
    "    '{subject}', # Keep the '{subject}' string, but feel free to add any suffixes e.g. '{subject}_session01'\n",
    "    '*',\n",
    "    '*.dcm'      # Pattern matching to get all of the raw dicoms in the subject's folder  \n",
    ")"
   ]
  },
  {
   "cell_type": "markdown",
   "metadata": {},
   "source": [
    "## Create Jobs (and slurm)"
   ]
  },
  {
   "cell_type": "code",
   "execution_count": null,
   "metadata": {
    "ExecuteTime": {
     "end_time": "2022-06-14T21:48:43.698275Z",
     "start_time": "2022-06-14T21:48:43.631721Z"
    }
   },
   "outputs": [],
   "source": [
    "session_flag = ''\n",
    "if session:\n",
    "    session_flag = '-ss ' + session + ' '\n",
    "\n",
    "if os.path.exists(job_directory) == False:\n",
    "    os.mkdir(job_directory)\n",
    "\n",
    "# loop over participants\n",
    "for s in subs:\n",
    "    #print('-------------- Creating: {} -------------'.format(s))\n",
    "    if session:\n",
    "        file_path = os.path.join(job_directory, 'heudiconv_{}_ses-{}.job').format(s,session)\n",
    "    else:\n",
    "        file_path = os.path.join(job_directory, 'heudiconv_{}.job').format(s)\n",
    "        \n",
    "    #print(file_path)\n",
    "    job_file = job_file_template.format(\n",
    "           project_directory = project_directory,\n",
    "           raw_directory = raw_directory,\n",
    "           heudiconv_image_path = heudiconv_image_path,\n",
    "           project_name = project_name,\n",
    "           raw_subject_template = raw_subject_template,\n",
    "           bids_data_directory = bids_data_directory,\n",
    "           bids_scripts_directory = bids_scripts_directory,\n",
    "           session_flag = session_flag,\n",
    "           pID = s)\n",
    "    try:\n",
    "        with open(file_path.format(s), 'w') as job:\n",
    "           job.write(job_file)\n",
    "        print(\"-------------- Job Created For: {} -------------\\n\".format(s), job_file)\n",
    "    except IOError as e:\n",
    "        print (\"I/O error({0}): {1}\".format(e.errno, e.strerror))\n",
    "    except: #handle other exceptions such as attribute errors\n",
    "        print (\"Unexpected error:\", sys.exc_info()[0])\n",
    "\n"
   ]
  },
  {
   "cell_type": "markdown",
   "metadata": {},
   "source": [
    "### Run Jobs Within Notebook"
   ]
  },
  {
   "cell_type": "code",
   "execution_count": null,
   "metadata": {
    "ExecuteTime": {
     "end_time": "2022-06-14T21:49:59.260735Z",
     "start_time": "2022-06-14T21:48:50.615999Z"
    }
   },
   "outputs": [],
   "source": [
    "# loop over participants\n",
    "for s in subs:\n",
    "    print('-------------- Running: {} -------------'.format(s))\n",
    "    \n",
    "    if session:\n",
    "        file_path = os.path.join(job_directory, 'heudiconv_{}_ses-{}.job').format(s,session)\n",
    "    else:\n",
    "        file_path = os.path.join(job_directory, 'heudiconv_{}.job').format(s)\n",
    "        \n",
    "    print(file_path)\n",
    "\n",
    "    !bash $file_path\n",
    "    print('-------------- Subject {} Done -------------'.format(s))\n"
   ]
  },
  {
   "cell_type": "markdown",
   "metadata": {},
   "source": [
    "### Check output"
   ]
  },
  {
   "cell_type": "code",
   "execution_count": null,
   "metadata": {
    "ExecuteTime": {
     "end_time": "2022-06-14T21:56:17.675283Z",
     "start_time": "2022-06-14T21:56:17.602251Z"
    }
   },
   "outputs": [],
   "source": [
    "import glob\n",
    "for s in subs:\n",
    "    for filename in glob.glob(\n",
    "        os.path.join(\n",
    "            project_directory, \n",
    "            bids_data_directory,\n",
    "            'sub-{}'.format(s),\n",
    "            '*/**'\n",
    "        ), recursive=True):\n",
    "        print(filename)"
   ]
  },
  {
   "cell_type": "markdown",
   "metadata": {},
   "source": [
    "## Create Slurm Jobs\n",
    "The code below creates a job that can be run using slurm\n",
    "\n",
    "### Define variables"
   ]
  },
  {
   "cell_type": "code",
   "execution_count": null,
   "metadata": {
    "ExecuteTime": {
     "end_time": "2022-06-14T21:56:48.176611Z",
     "start_time": "2022-06-14T21:56:47.939210Z"
    }
   },
   "outputs": [],
   "source": [
    "slurm_directory = os.path.join(job_directory, 'slurm/heudiconv')\n",
    "os.makedirs(slurm_directory, exist_ok=True)\n",
    "\n",
    "slurm_job_file_template = r'''#!/bin/bash\n",
    "#SBATCH --job-name=heudiconv_{ID}.job\n",
    "#SBATCH --output=out/heudiconv_{ID}.out\n",
    "#SBATCH --error=out/heudiconv_{ID}.err\n",
    "#SBATCH --time=02:00\n",
    "\n",
    "srun singularity run --cleanenv \\\n",
    "    -B {project_directory}:/base  \\\n",
    "    -B {raw_directory}:/raw \\\n",
    "    {heudiconv_image_path} \\\n",
    "    -d {raw_subject_template} \\\n",
    "    -o {bids_data_directory} \\\n",
    "    -f {bids_scripts_directory}/heudiconv/code/heuristic.py {session_flag}-s {ID} -c dcm2niix -b --overwrite\n",
    "'''"
   ]
  },
  {
   "cell_type": "markdown",
   "metadata": {},
   "source": [
    "### Loop through specified participants"
   ]
  },
  {
   "cell_type": "code",
   "execution_count": null,
   "metadata": {
    "ExecuteTime": {
     "end_time": "2022-06-14T21:56:50.230908Z",
     "start_time": "2022-06-14T21:56:50.171909Z"
    }
   },
   "outputs": [],
   "source": [
    "for s in subs:\n",
    "    print('-------------- Creating: {} -------------'.format(s))\n",
    "    \n",
    "    if session:\n",
    "        file_path = os.path.join(slurm_directory, 'heudiconv_{}_ses-{}.job').format(s,session)\n",
    "    else:\n",
    "        file_path = os.path.join(slurm_directory, 'heudiconv_{}.job').format(s)\n",
    "        \n",
    "    print(file_path + '\\n')\n",
    "    \n",
    "    slurm_job_file = slurm_job_file_template.format(\n",
    "       project_directory = project_directory,\n",
    "       raw_directory = raw_directory,\n",
    "       heudiconv_image_path = heudiconv_image_path,\n",
    "       raw_subject_template = raw_subject_template,\n",
    "       bids_data_directory = bids_data_directory,\n",
    "       bids_scripts_directory = bids_scripts_directory,\n",
    "       session_flag = session_flag,\n",
    "       ID = s)\n",
    "\n",
    "    with open(file_path.format(s), 'w') as job:\n",
    "        job.write(slurm_job_file)\n",
    "\n",
    "        "
   ]
  },
  {
   "cell_type": "markdown",
   "metadata": {},
   "source": [
    "### Schedule the jobs on slurm\n",
    "\n",
    "Login to the slurm cluster:\n",
    "\n",
    "```\n",
    "ssh <JANUS_UN>@asc.upenn.edu@cls000\n",
    "```\n",
    "\n",
    "This will give you a terminal on the SLURM master node where you can look at the process queue and schedule jobs by pasting the output from the next chunk"
   ]
  },
  {
   "cell_type": "code",
   "execution_count": null,
   "metadata": {
    "ExecuteTime": {
     "end_time": "2022-06-14T21:56:55.196403Z",
     "start_time": "2022-06-14T21:56:55.188401Z"
    }
   },
   "outputs": [],
   "source": [
    "print(f\"cd {slurm_directory}\")\n",
    "if session:\n",
    "    for s in subs:\n",
    "        print(f\"sbatch -D {slurm_directory} -c 8 heudiconv_{s}_ses-{session}.job\")\n",
    "else:\n",
    "    for s in subs:\n",
    "        print(f\"sbatch -D {slurm_directory} -c 8 heudiconv_{s}.job\")\n"
   ]
  },
  {
   "cell_type": "code",
   "execution_count": null,
   "metadata": {},
   "outputs": [],
   "source": []
  }
 ],
 "metadata": {
  "kernelspec": {
   "display_name": "Python 3",
   "language": "python",
   "name": "python3"
  },
  "language_info": {
   "codemirror_mode": {
    "name": "ipython",
    "version": 3
   },
   "file_extension": ".py",
   "mimetype": "text/x-python",
   "name": "python",
   "nbconvert_exporter": "python",
   "pygments_lexer": "ipython3",
   "version": "3.7.4"
  },
  "varInspector": {
   "cols": {
    "lenName": 16,
    "lenType": 16,
    "lenVar": 40
   },
   "kernels_config": {
    "python": {
     "delete_cmd_postfix": "",
     "delete_cmd_prefix": "del ",
     "library": "var_list.py",
     "varRefreshCmd": "print(var_dic_list())"
    },
    "r": {
     "delete_cmd_postfix": ") ",
     "delete_cmd_prefix": "rm(",
     "library": "var_list.r",
     "varRefreshCmd": "cat(var_dic_list()) "
    }
   },
   "types_to_exclude": [
    "module",
    "function",
    "builtin_function_or_method",
    "instance",
    "_Feature"
   ],
   "window_display": false
  }
 },
 "nbformat": 4,
 "nbformat_minor": 2
}
