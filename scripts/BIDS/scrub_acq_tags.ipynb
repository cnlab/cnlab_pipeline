{
 "cells": [
  {
   "cell_type": "code",
   "execution_count": 1,
   "metadata": {},
   "outputs": [],
   "source": [
    "import os, glob"
   ]
  },
  {
   "cell_type": "code",
   "execution_count": 2,
   "metadata": {},
   "outputs": [],
   "source": [
    "acq_tag = 'acq-Mb4Mm3Tr550_'"
   ]
  },
  {
   "cell_type": "code",
   "execution_count": 3,
   "metadata": {},
   "outputs": [],
   "source": [
    "x = glob.glob('../../data/bids_data/derivatives/fmriprep/sub-BPA*/func/*.*')"
   ]
  },
  {
   "cell_type": "code",
   "execution_count": 9,
   "metadata": {},
   "outputs": [],
   "source": [
    "for y in x[3:]:\n",
    "    os.rename(y, y.replace(acq_tag,''))"
   ]
  },
  {
   "cell_type": "code",
   "execution_count": 3,
   "metadata": {},
   "outputs": [],
   "source": [
    "x = glob.glob('../../data/bids_data/sub-BPA*/func/*.*') + glob.glob('../../data/bids_data/sub-BPA*/fmap/*.*') + glob.glob('../../data/bids_data/sub-BPA*/anat/*.*')"
   ]
  },
  {
   "cell_type": "code",
   "execution_count": 6,
   "metadata": {},
   "outputs": [
    {
     "data": {
      "text/plain": [
       "True"
      ]
     },
     "execution_count": 6,
     "metadata": {},
     "output_type": "execute_result"
    }
   ],
   "source": [
    "acq_tag in x[0]"
   ]
  },
  {
   "cell_type": "code",
   "execution_count": 7,
   "metadata": {},
   "outputs": [],
   "source": [
    "for y in x:\n",
    "    if acq_tag in y:\n",
    "        os.rename(y, y.replace(acq_tag,''))"
   ]
  },
  {
   "cell_type": "code",
   "execution_count": 13,
   "metadata": {},
   "outputs": [],
   "source": [
    "change = {'dir-read_run-1': 'acq-1_dir-PA',\n",
    "'dir-share_run-1': 'acq-2_dir-PA',\n",
    "'dir-share_run-2': 'acq-3_dir-PA',\n",
    "'dir-share_run-3': 'acq-4_dir-PA',\n",
    "'dir-video_run-1': 'acq-5_dir-PA'}\n",
    "    \n",
    "for x in glob.glob('../../data/bids_data/sub-BPA*/fmap/*.*'):\n",
    "    if x.endswith('json'):\n",
    "        with open(x,'r') as f:\n",
    "            content = f.read()\n",
    "\n",
    "        with open(x,'w') as f:\n",
    "            f.write(content.replace(acq_tag,''))\n",
    "            \n",
    "    for key,val in change.items():\n",
    "        if key in x:\n",
    "            os.rename(x, x.replace(key,val))\n",
    "            break"
   ]
  },
  {
   "cell_type": "code",
   "execution_count": 14,
   "metadata": {},
   "outputs": [],
   "source": [
    "acqT1w_tag = 'acq-AxialNsig1Mm1_'\n",
    "x = glob.glob('../../data/bids_data/sub-BPA*/anat/*.*')\n",
    "for y in x:\n",
    "    if acqT1w_tag in y:\n",
    "        os.rename(y, y.replace(acqT1w_tag,''))"
   ]
  }
 ],
 "metadata": {
  "kernelspec": {
   "display_name": "Python 3",
   "language": "python",
   "name": "python3"
  },
  "language_info": {
   "codemirror_mode": {
    "name": "ipython",
    "version": 3
   },
   "file_extension": ".py",
   "mimetype": "text/x-python",
   "name": "python",
   "nbconvert_exporter": "python",
   "pygments_lexer": "ipython3",
   "version": "3.7.4"
  }
 },
 "nbformat": 4,
 "nbformat_minor": 2
}
