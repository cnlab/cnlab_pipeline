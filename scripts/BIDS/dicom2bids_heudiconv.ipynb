{
 "cells": [
  {
   "cell_type": "markdown",
   "metadata": {},
   "source": [
    "# DICOM-to-BIDS conversion using `heudiconv` and `singularity`\n",
    "\n",
    "* This notebook walks through the steps for doing DICOM to BIDS conversion using `heudiconv` with the Singularity image for a single participant to identify the correct parameters\n",
    "\n",
    "\n",
    "* For a new project the initial configuration steps will need to be completed to create the `heuristic.py` file. But this only needs to be done once and then it should be straight forward to run new participants.\n",
    "\n",
    "* There is a tutorial on using heudiconv:\n",
    "    - http://reproducibility.stanford.edu/bids-tutorial-series-part-2a/\n",
    "\n",
    "  that was used as a basis for this but required some tweaks.\n",
    "  \n",
    "\n",
    "#### HISTORY\n",
    "\n",
    "* 6/14/22 aresni - reformatted to take in a config.json, streamline use\n",
    "* 9/9/21 dcosme - separated into two notebooks; this notebooks is to identify the parameters, the other creates jobs for each participant to convert\n",
    "* 4/1/20 mbod - initial setup for MURI DICOMS"
   ]
  },
  {
   "cell_type": "markdown",
   "metadata": {},
   "source": [
    "## Initialize Paths\n",
    "\n",
    "* Run the cell below to initialize paths from the Config.json file. If Config is set up for this project, you shouldn't have to make any changes to the cell below. Check the output to make sure the directories match what you expect."
   ]
  },
  {
   "cell_type": "code",
   "execution_count": null,
   "metadata": {
    "ExecuteTime": {
     "end_time": "2022-06-14T21:47:30.578666Z",
     "start_time": "2022-06-14T21:47:30.544109Z"
    }
   },
   "outputs": [],
   "source": [
    "import pandas as pd\n",
    "import os\n",
    "\n",
    "config_path = \"../Config.json\"\n",
    "\n",
    "with open(config_path, 'r') as f:\n",
    "    config = json.load(f)\n",
    "path_object = \"Environment\"\n",
    "\n",
    "project_name = config.get(\"Description\").get(\"project_name\")\n",
    "\n",
    "project_directory = config.get(path_object).get( # Path to base project directory\n",
    "    'project_path','/data00/projects/{project_name}').format(project_name = project_name) \n",
    "\n",
    "raw_directory = config.get(path_object).get(   # Path to base raw fmri directory\n",
    "    'raw_path','/fmriDataRaw/fmri_data_raw') \n",
    "\n",
    "heudiconv_image_path = config.get(path_object).get(    # path to heudiconv image\n",
    "    \"heudiconv_image_path\", 'Config[\"Environment\"][\"heudiconv_image_path\"] Not Found')\n",
    "\n",
    "bids_data_directory = os.path.join(\n",
    "    config.get(path_object).get(    # path to where your bids_data will be stored within base\n",
    "        \"bids_data_directory\", \"data/bids_data\")\n",
    ")\n",
    "\n",
    "bids_scripts_directory = config.get(path_object).get(       # path to where this script lives (scripts/BIDS)\n",
    "        \"bids_script_directory\", \"scripts/BIDS\")\n",
    "\n",
    "job_directory = os.path.join(\n",
    "    project_directory,\n",
    "    bids_scripts_directory,\n",
    "    'jobs')\n",
    "\n",
    "print('Project:', project_name)\n",
    "print('\\nDirectories:')\n",
    "print('Project Directory:', project_directory)\n",
    "print('Raw Dicom Project Directory:', os.path.join(raw_directory, project_name))\n",
    "print('BIDS Data Directory:', os.path.join(project_directory, bids_data_directory))\n",
    "print('BIDS Scripts Directory:', os.path.join(project_directory, bids_scripts_directory))\n",
    "print('Jobs directory:', os.path.join(project_directory, bids_scripts_directory, 'jobs'))\n",
    "print('Heudiconv Singularity Image:', heudiconv_image_path)"
   ]
  },
  {
   "cell_type": "markdown",
   "metadata": {},
   "source": [
    "## Location of files\n",
    "\n",
    "1. DICOMS for UPenn data are in:\n",
    "    ```\n",
    "    /fmriDataRaw/fmri_data_raw/{project}/\n",
    "       \n",
    "    ```\n",
    "    \n",
    "    * DICOMS (`.dcm` files) should match:\n",
    "    ```\n",
    "    /fmriDataRaw/fmri_data_raw/{project}/{subject}/{scan}/*.dcm\n",
    "    ```\n",
    "    \n",
    "    \n",
    "2. BIDS files should be in  (may need to create these directories)\n",
    "    ```\n",
    "    /data00/projects/{project}/data/bids_data\n",
    "    ```\n",
    "    \n",
    "3. Config files for `heudiconv` will be in\n",
    "    ```\n",
    "    /data00/projects/{project}/scripts/BIDS/heudiconv\n",
    "    ```"
   ]
  },
  {
   "cell_type": "code",
   "execution_count": null,
   "metadata": {
    "ExecuteTime": {
     "end_time": "2022-06-14T21:47:32.097142Z",
     "start_time": "2022-06-14T21:47:31.974981Z"
    }
   },
   "outputs": [],
   "source": [
    "os.listdir(os.path.join(raw_directory, project_name)) "
   ]
  },
  {
   "cell_type": "code",
   "execution_count": null,
   "metadata": {
    "ExecuteTime": {
     "end_time": "2022-06-14T21:47:32.815378Z",
     "start_time": "2022-06-14T21:47:32.807725Z"
    }
   },
   "outputs": [],
   "source": [
    "os.listdir(os.path.join(project_directory, bids_data_directory))"
   ]
  },
  {
   "cell_type": "markdown",
   "metadata": {},
   "source": [
    "### Setup"
   ]
  },
  {
   "cell_type": "markdown",
   "metadata": {},
   "source": [
    "## Create the heuristic configuration files for a new project\n",
    "\n",
    "* For a new project you need to run `heudiconv` in heuristic mode once on a representative participant (i.e. has all the possible scans for a subject in study) and it will generate:\n",
    "    - a TSV file called `dicominfo.tsv` that contains the details of each of the scans in the dataset\n",
    "    - a Python template file called `heuristic.py` that you edit to setup the dicom volumes to NIFTI mapping\n",
    "    \n",
    "    \n",
    "* To run `heudiconv` in heuristic mode with Singularity image, edit the cell below using the correct paths for your directory (replace {Project Name}). Use:\n",
    "    ```\n",
    "    !singularity run --cleanenv \\\n",
    "        -B /data00/projects/{Project Name}/data/bids_data:/base  \\\n",
    "        -B /fmriDataRaw/fmri_data_raw:/raw \\\n",
    "        /data00/tools/singularity_images/heudiconv_0.8.0 \\\n",
    "        -d /raw/{Project Name}/{subject}/*/*.dcm \\\n",
    "        -o heudiconv/ -f convertall -s {subject} -c none --overwrite\n",
    "    ```\n",
    "     where\n",
    "     * `-B /data00/BIDS:/base` makes a file mapping for singularity to where the data should be written (i.e. `/data00/BIDS/{project...}`)\n",
    "     * `-B /fmriDataRaw/fmri_data_raw:/raw` maps the DICOM directory to singularity location `/raw`\n",
    "     * `/data00/tools/singularity_images/heudiconv_0.8.0` is the path to the `heudiconv` Singularity image you want to use. (On 4/22/20 that is version 0.8.0 - but this will change and we try to keep an updated version)\n",
    "     * `-d /raw/{Project Name}/{subject}/*/*.dcm` is the file matching template for finding DICOM files. Here `/raw` maps to `/fmriDataRaw/fmri_data_raw` so we are looking for files that end with `.dcm` in `/fmriDataRaw/fmri_data_raw/{Project Name}/{subject}/*/*.dcm` - where subject will be specified with the -s param, e.g. `MURI155`\n",
    "     * `-o /base/{Project Name}/heudiconv/` is the location for output files from `heudiconv` to be written\n",
    "     * `-f convertall` means include all dicom files and scans (i.e. not just one type like anatomical or ignore localizers etc)\n",
    "     * `-c none` puts it into heuristic mode. This option specifies which tool to use to do dicom2nifti conversion and will be changed once the configuration is set up.\n",
    "\n",
    "## Enter subject and session below\n",
    "\n",
    "* Edit the subject template to match how your raw dicoms are saved, but don't remove the '{subject}'\n",
    "* Then, run the two cells below to get your .tsv file you can use to edit your heuristic.py"
   ]
  },
  {
   "cell_type": "code",
   "execution_count": null,
   "metadata": {
    "ExecuteTime": {
     "end_time": "2022-06-14T21:47:38.906908Z",
     "start_time": "2022-06-14T21:47:38.902721Z"
    }
   },
   "outputs": [],
   "source": [
    "sub = ['']\n",
    "session = '' # Run one session at a time. If only one session, leave as empty string\n",
    "\n",
    "raw_subject_template = os.path.join(\n",
    "    '{subject}', # Keep the '{subject}' string, but feel free to add any suffixes e.g. '{subject}_session01'\n",
    "    '*',\n",
    "    '*.dcm'      # Pattern matching to get all of the raw dicoms in the subject's folder  \n",
    ")"
   ]
  },
  {
   "cell_type": "code",
   "execution_count": null,
   "metadata": {
    "ExecuteTime": {
     "end_time": "2022-06-14T21:47:55.578616Z",
     "start_time": "2022-06-14T21:47:39.646283Z"
    }
   },
   "outputs": [],
   "source": [
    "getHeuristic_template = r'''#!/bin/bash\n",
    "singularity run --cleanenv \\\n",
    "    -B {project_directory}:/base  \\\n",
    "    -B {raw_directory}:/raw \\\n",
    "    {heudiconv_image_path} \\\n",
    "    -d /raw/{project_name}/{raw_subject_template} \\\n",
    "    -o heudiconv/ -f convertall {session_flag}-s {pID} -c none --overwrite\n",
    "'''\n",
    "\n",
    "\n",
    "session_flag = ''\n",
    "if session:\n",
    "    session_flag = '-ss ' + session + ' '\n",
    "\n",
    "getHeuristic = getHeuristic_template.format( \n",
    "            project_directory = project_directory,\n",
    "            raw_directory = raw_directory,\n",
    "            heudiconv_image_path = heudiconv_image_path,\n",
    "            project_name = project_name,\n",
    "            raw_subject_template = raw_subject_template,\n",
    "            bids_data_directory = bids_data_directory,\n",
    "            bids_scripts_directory = bids_scripts_directory,\n",
    "            session_flag = session_flag,\n",
    "            pID = sub)\n",
    "print(\"Running:\\n\", getHeuristic)\n",
    "!{getHeuristic}"
   ]
  },
  {
   "cell_type": "markdown",
   "metadata": {},
   "source": [
    "* The output from this run is in a hidden folder called .heudiconv"
   ]
  },
  {
   "cell_type": "code",
   "execution_count": null,
   "metadata": {
    "ExecuteTime": {
     "end_time": "2022-06-14T21:24:32.131768Z",
     "start_time": "2022-06-14T21:24:32.033992Z"
    }
   },
   "outputs": [],
   "source": [
    "import glob\n",
    "glob.glob('heudiconv/.heudiconv/{}/info/*'.format(sub))"
   ]
  },
  {
   "cell_type": "markdown",
   "metadata": {},
   "source": [
    "* We can look at the `dicominfo.tsv` in Pandas\n",
    "* The goal is to set up a mapping between values some of these fields and a BIDS compliant file\n",
    "\n",
    "\n",
    "* The most useful fields for this are the `series_id` or `series_description` and the 4 dimension fields.\n",
    "  * `dim4` is the number of volumes and using this can help when there is a partial (i.e. scan started and stopped quickly) scan before a complete one where the `series_id` will be the same."
   ]
  },
  {
   "cell_type": "code",
   "execution_count": null,
   "metadata": {
    "ExecuteTime": {
     "end_time": "2022-06-14T21:25:10.846713Z",
     "start_time": "2022-06-14T21:25:10.809811Z"
    },
    "scrolled": true
   },
   "outputs": [],
   "source": [
    "scan_df=pd.read_csv('heudiconv/.heudiconv/{}/info/dicominfo.tsv'.format(sub), sep='\\t')\n",
    "scan_df[['series_id', 'series_description', 'dim1','dim2','dim3','dim4']]"
   ]
  },
  {
   "cell_type": "markdown",
   "metadata": {},
   "source": [
    "* There is a Python file called `heuristic.py` that needs to be edited to set up the mappings between dicom files and these scan data and the location within the BIDS structure in the output folder.\n",
    "\n",
    "\n",
    "* The two things that need to be added to this files are:\n",
    "    1. __KEYS__ that provide a file template and mapping to where in the BIDS output a certain filetype should be written\n",
    "    2. __MATCHES__ are condition statements that match a scan using the fields in the dataframe above and map them to a specific key\n",
    "\n",
    "\n",
    "\n",
    "* __KEYS__\n",
    "Use the ‘create_key’ function to create keys inside of the ‘infotodict’ function. See how keys are created for the t1 scan, the different functional runs, and the field maps. These are put into a dictionary, and the values will be added using the conditional matching.\n",
    "\n",
    "```python\n",
    " t1w = create_key('sub-{subject}/anat/sub-{subject}_T1w')\n",
    "    \n",
    "    func_read=create_key('sub-{subject}/func/sub-{subject}_task-read_run-{item:01d}_bold')\n",
    "    func_share=create_key('sub-{subject}/func/sub-{subject}_task-share_run-{item:01d}_bold')\n",
    "\n",
    "    fmap_AP=create_key('sub-{subject}/fmap/sub-{subject}_acq-{item:01d}_dir-AP_epi')\n",
    "\n",
    "    \n",
    "    info = {\n",
    "            t1w: [], \n",
    "            func_read: [], func_share: [],\n",
    "            fmap_AP: []\n",
    "           }\n",
    "    \n",
    "```\n",
    "\n",
    "![](img/heudiconv1.png)\n",
    "\n",
    "\n",
    "* __CONDITIONAL MATCHES__\n",
    "Now, using the information from the dicominfo.tsv, we will go through the series and put the scans only when they have the full number of scans. \n",
    "```python\n",
    "if (s.dim1 == 256) and (s.dim2 == 192) and ('MPRAGE_TI1100_ipat2' in s.series_id):\n",
    "            info[t1w].append(s.series_id)\n",
    "        \n",
    "        if (s.dim4 == 824 or s.dim4 == 813) and ('read' in s.series_id):\n",
    "            info[func_read].append(s.series_id)\n",
    "\n",
    "        if (s.dim4 == 865 or s.dim4 == 854 or s.dim4 == 568) and ('share' in s.series_id):\n",
    "            info[func_share].append(s.series_id)\n",
    "\n",
    "        if (s.dim4 == 3) and ('epi' in s.series_id):\n",
    "            info[fmap_AP].append(s.series_id)\n",
    "```\n",
    "![](img/heudiconv2.png)\n",
    "\n",
    "\n",
    "\n"
   ]
  },
  {
   "cell_type": "markdown",
   "metadata": {},
   "source": [
    "* Once these are added to `heuristic.py` which we keep in:\n",
    "    ```\n",
    "    {Your Project}/scripts/BIDS/heudiconv/code\n",
    "    ```\n",
    "    \n",
    "    \n",
    "* and we delete the `.heudiconv` heuristic folder. Then we are ready to convert DICOM files to NIFTIs and set them up in a BIDS compliant structure!"
   ]
  },
  {
   "cell_type": "code",
   "execution_count": null,
   "metadata": {
    "ExecuteTime": {
     "end_time": "2022-06-14T21:25:17.383532Z",
     "start_time": "2022-06-14T21:25:17.090248Z"
    }
   },
   "outputs": [],
   "source": [
    "rm -fr heudiconv/.heudiconv"
   ]
  },
  {
   "cell_type": "markdown",
   "metadata": {},
   "source": [
    "## Try it out\n",
    "\n",
    "Run the cell below to bidsify the dicoms of the subject you just identified and check the output. If the heuristics.py will work for the rest of your participants, run them using the dicom2bids_heudiconv_loop notebook. If there are errors, or your data isn't correctly BIDSified, try editing the heuristic.py file and try again."
   ]
  },
  {
   "cell_type": "code",
   "execution_count": null,
   "metadata": {
    "ExecuteTime": {
     "end_time": "2022-06-14T21:26:29.469721Z",
     "start_time": "2022-06-14T21:25:25.009769Z"
    }
   },
   "outputs": [],
   "source": [
    "heudiConvert_template = r'''#!/bin/bash\n",
    "singularity run --cleanenv \\\n",
    "    -B {project_directory}:/base  \\\n",
    "    -B {raw_directory}:/raw \\\n",
    "    {heudiconv_image_path} \\\n",
    "    -d /raw/{project_name}/{raw_subject_template} \\\n",
    "    -o /base/{bids_data_directory} \\\n",
    "    -f /base/{bids_scripts_directory}/heudiconv/code/heuristic.py {session_flag}-s {pID} -c dcm2niix -b --overwrite\n",
    "'''\n",
    "\n",
    "session_flag = ''\n",
    "if session:\n",
    "    session_flag = '-ss ' + session + ' '\n",
    "\n",
    "if os.path.exists(job_directory) == False:\n",
    "    os.mkdir(job_directory)\n",
    "    \n",
    "file_path = os.path.join(job_directory, job_name).format(sub)\n",
    "#print(file_path)\n",
    "heudiConvert = heudiConvert_template.format(\n",
    "       project_directory = project_directory,\n",
    "       raw_directory = raw_directory,\n",
    "       heudiconv_image_path = heudiconv_image_path,\n",
    "       project_name = project_name,\n",
    "       raw_subject_template = raw_subject_template,\n",
    "       bids_data_directory = bids_data_directory,\n",
    "       bids_scripts_directory = bids_scripts_directory,\n",
    "       session_flag = session_flag,\n",
    "       pID = sub)\n",
    "try:\n",
    "    with open(file_path.format(sub), 'w') as job:\n",
    "       job.write(heudiConvert)\n",
    "    print(\"-------------- Job Created For: {} -------------\\n\".format(sub), heudiConvert)\n",
    "except IOError as e:\n",
    "    print (\"I/O error({0}): {1}\".format(e.errno, e.strerror))\n",
    "except: #handle other exceptions such as attribute errors\n",
    "    print (\"Unexpected error:\", sys.exc_info()[0])\n",
    "\n",
    "print('-------------- Running: {} -------------'.format(sub))\n",
    "\n",
    "if session:\n",
    "    file_path = os.path.join(job_directory, 'heudiconv_{}_ses-{}.job').format(s,session)\n",
    "else:\n",
    "    file_path = os.path.join(job_directory, 'heudiconv_{}.job').format(s)\n",
    "print(file_path)\n",
    "\n",
    "!bash $file_path\n",
    "print('-------------- Subject {} Done -------------'.format(sub))"
   ]
  },
  {
   "cell_type": "code",
   "execution_count": null,
   "metadata": {},
   "outputs": [],
   "source": []
  }
 ],
 "metadata": {
  "kernelspec": {
   "display_name": "Python 3",
   "language": "python",
   "name": "python3"
  },
  "language_info": {
   "codemirror_mode": {
    "name": "ipython",
    "version": 3
   },
   "file_extension": ".py",
   "mimetype": "text/x-python",
   "name": "python",
   "nbconvert_exporter": "python",
   "pygments_lexer": "ipython3",
   "version": "3.7.4"
  },
  "varInspector": {
   "cols": {
    "lenName": 16,
    "lenType": 16,
    "lenVar": 40
   },
   "kernels_config": {
    "python": {
     "delete_cmd_postfix": "",
     "delete_cmd_prefix": "del ",
     "library": "var_list.py",
     "varRefreshCmd": "print(var_dic_list())"
    },
    "r": {
     "delete_cmd_postfix": ") ",
     "delete_cmd_prefix": "rm(",
     "library": "var_list.r",
     "varRefreshCmd": "cat(var_dic_list()) "
    }
   },
   "types_to_exclude": [
    "module",
    "function",
    "builtin_function_or_method",
    "instance",
    "_Feature"
   ],
   "window_display": false
  }
 },
 "nbformat": 4,
 "nbformat_minor": 2
}
