{
 "cells": [
  {
   "cell_type": "markdown",
   "metadata": {},
   "source": [
    "# UPenn Flywheel Data Transfer to ASC FMRISrv \n",
    "\n",
    "This notebook was shared by Dr Nicole Cooper from CNLab referenced this notebook for Flywheel MURI scan downloads as an example... The same should work for CNLab & AHALab Flywheel projects.\n",
    "\n",
    "+ 02/21/2020 - [José Carreras-Tartak](mailto:jcarreras@falklab.org) original author\n",
    "+ 04/28/2021 - [Etienne Jacquot](mailto:etienne.jacquot@asc.upenn.edu) revisited\n",
    "\n",
    "\n",
    "## *Getting Started w/ [UPenn Flywheel](https://upenn.flywheel.io/) Python-SDK*:\n",
    "\n",
    "The AHA lab does not have a project on Flywheel so maybe not all the steps are exact yet. This eventually will be in place though. For now let us try based on a specific sessionID\n",
    "\n",
    "- Please navigate here for access via Pennkey: https://upenn.flywheel.io/\n",
    "- you need an **api key**, be careful with this secret\n"
   ]
  },
  {
   "cell_type": "code",
   "execution_count": null,
   "metadata": {},
   "outputs": [],
   "source": [
    "import flywheel\n",
    "import tarfile\n",
    "import os\n",
    "import time\n",
    "import zipfile\n",
    "from zipfile import ZipFile\n",
    "\n",
    "import configparser"
   ]
  },
  {
   "cell_type": "markdown",
   "metadata": {},
   "source": [
    "### Create you Flywheel API secret config file \n",
    "\n",
    "\n",
    "- If the cell below returns True, you have a .config file with an api key of some kind. If it returns false OR if your api key needs to be changed, you can run the cell below that to create your apikey or manually navigate and create your [configs/config.ini](./configs/config.ini) (_we add *.ini to the .gitignore_)\n",
    "\n",
    "\n",
    "\n",
    "_____\n",
    "\n",
    "```python\n",
    "config['UPENN-FLYWHEEL'] = {'apikey':your_api_key}  # <-- define your api key\n",
    "\n",
    "with open(home_dir + '/configs/config.ini', 'w') as configFile: # <-- write to file!\n",
    "    config.write(configFile)\n",
    "\n",
    "```\n",
    "\n",
    "_______\n",
    "\n",
    "### Read Flywheel API secret into Python w/ ConfigParser\n",
    "\n",
    "- You must login and navigate to https://upenn.flywheel.io/#/profile, this has your API key \n"
   ]
  },
  {
   "cell_type": "code",
   "execution_count": null,
   "metadata": {
    "scrolled": false
   },
   "outputs": [],
   "source": [
    "# Check if the API Key exists. If the output is false\n",
    "home_dir = \"/home/YOUR_JANUS_USERNAME@asc.upenn.edu\"\n",
    "\n",
    "config = configparser.ConfigParser()\n",
    "config.read(home_dir + \"/configs/config.ini\")\n",
    "config.has_option('UPENN-FLYWHEEL', 'apikey')"
   ]
  },
  {
   "cell_type": "code",
   "execution_count": null,
   "metadata": {},
   "outputs": [],
   "source": [
    "# specify your home directory where the config file should be saves\n",
    "\n",
    "your_api_key = \"upenn.flywheel.io:YOUR_API_KEY\"\n",
    "\n",
    "config = configparser.ConfigParser()\n",
    "config['UPENN-FLYWHEEL'] = {'apikey':your_api_key}\n",
    "with open(home_dir + '/configs/config.ini', 'w') as configFile:\n",
    "    config.write(configFile)"
   ]
  },
  {
   "cell_type": "code",
   "execution_count": null,
   "metadata": {},
   "outputs": [],
   "source": [
    "# add UPenn Flywheel api key to your config.ini\n",
    "fw_cred = {}\n",
    "config = configparser.ConfigParser()\n",
    "\n",
    "config.read(home_dir + '/configs/config.ini') \n",
    "for item,value in config['UPENN-FLYWHEEL'].items():\n",
    "    fw_cred[item]=value"
   ]
  },
  {
   "cell_type": "code",
   "execution_count": null,
   "metadata": {},
   "outputs": [],
   "source": [
    "# read your API key\n",
    "api = fw_cred['apikey']"
   ]
  },
  {
   "cell_type": "markdown",
   "metadata": {},
   "source": [
    "### Confirm your access to Flywheel via python SDK\n",
    "\n",
    "- The `fw.get_current_user()` command is a quick way to ensure you have established a secure connection to UPenn Flywheel"
   ]
  },
  {
   "cell_type": "code",
   "execution_count": null,
   "metadata": {},
   "outputs": [],
   "source": [
    "# Create client using your API key\n",
    "fw = flywheel.Client(api)"
   ]
  },
  {
   "cell_type": "code",
   "execution_count": null,
   "metadata": {
    "scrolled": false
   },
   "outputs": [],
   "source": [
    "# print your flywheel information & confirm it works as expected\n",
    "self = fw.get_current_user()\n",
    "print('UPenn Flywheel User: %s %s (%s)' % \n",
    "      (self.firstname, self.lastname, self.email))"
   ]
  },
  {
   "cell_type": "markdown",
   "metadata": {},
   "source": [
    "_______\n",
    "\n",
    "## Proceed by Navigating to Flywheel, you'll notice the URL always has respective identifiers\n",
    "\n",
    "In this example, our notebook tests for a known session ID associated w/ Dr Lydon-Staley AHA Lab:\n",
    "\n",
    "- https://upenn.flywheel.io/#/projects/5ba2913fe849c300150d02ed/sessions/6088730ee6de2e3066bd7249\n",
    "    - where the session ID is in the URL --> `6088730ee6de2e3066bd7249`\n",
    "\n"
   ]
  },
  {
   "cell_type": "markdown",
   "metadata": {},
   "source": [
    "### Set your Flywheel Project Container & Corresponding Local Out Project\n"
   ]
  },
  {
   "cell_type": "code",
   "execution_count": null,
   "metadata": {},
   "outputs": [],
   "source": [
    "# replace with name of Flywheel project container (i.e. \"geoscan\")\n",
    "# in_project = \"geoscan\"\n",
    "in_project = ''\n",
    "\n",
    "# replace with output project folder name in fMRI server (i.e. \"geoscanR01\")\n",
    "# out_project = \"GS\"\n",
    "out_project = \"\""
   ]
  },
  {
   "cell_type": "markdown",
   "metadata": {},
   "source": [
    "### Set your session specific ID & corresponding out ID\n",
    "\n",
    "- not sure why the `opID` is entirely needed here... TBD"
   ]
  },
  {
   "cell_type": "code",
   "execution_count": null,
   "metadata": {},
   "outputs": [],
   "source": [
    "## MODIFY BELOW\n",
    "# replace with ppt ID as listed on Flywheel (e.g. for geoscan, typically \"gsXXX\")\n",
    "#ipID = \"gs004\"\n",
    "ipID = \"\"\n",
    "\n",
    "# replace with ppt ID as it will be stored in the server (i.e. \"GSXXX\")\n",
    "#opID = \"GS004\"\n",
    "opID = '' # <--- I think this could be whatever, so long as this is unique on the FMRI host"
   ]
  },
  {
   "cell_type": "markdown",
   "metadata": {},
   "source": [
    "### Verify that output directory in the server is accurate\n",
    "\n",
    "- You may need to create this directory ahead of time..."
   ]
  },
  {
   "cell_type": "code",
   "execution_count": null,
   "metadata": {},
   "outputs": [],
   "source": [
    "outpath = '/fmriDataRaw/fmri_data_raw/{PROJECT}'.format(PROJECT=out_project)\n",
    "\n",
    "os.listdir(outpath)"
   ]
  },
  {
   "cell_type": "markdown",
   "metadata": {},
   "source": [
    "________\n",
    "\n",
    "## Proceed with looking up your subject data & downloading Dicom tarball\n",
    "\n",
    "NOTE!!\n",
    "\n",
    "* Location for DICOMS on the server IS:\n",
    "\n",
    "    - `/fmriDataRaw/fmri_data_raw/{PROJECT}/`\n",
    "\n",
    "e.g. untar the appropriate folder to e.g. `/fmriDataRaw/fmri_data_raw/{PROJECT}/`\n",
    "\n",
    "\n",
    "### Flywheel uses `Group / Project / Subject / Session` to identify scan ... \n",
    "\n",
    "- the **group** is `falklab`\n",
    "\n",
    "- the **project** is `bbprime` *(fw://unknown/Unsorted)*\n",
    "\n",
    "- the **subject** is `bpp00` *(probably a default for the unsorted group)*\n",
    "\n",
    "- the **session** is `CAMRIS^Falk`\n",
    "\n",
    "#### Thus our lookup string is --> `'falklab/bbprime/bpp00/CAMRIS^Falk'` "
   ]
  },
  {
   "cell_type": "code",
   "execution_count": null,
   "metadata": {},
   "outputs": [],
   "source": [
    "#group_label = 'falklab'\n",
    "group_label = 'falklab'\n",
    "\n",
    "#project_label = 'bbprime'\n",
    "project_label = in_project # <-- values are set early on in the notebook... maybe that isn't helpful though?\n",
    "\n",
    "#subject_label = 'bpp00'\n",
    "subject_label = ipID # <-- values are set early on in the notebook... maybe that isn't helpful though?\n",
    "\n",
    "session_label = 'CAMRIS^Falk'\n",
    "\n",
    "######################################################\n",
    "\n",
    "lookup_string = '{}/{}/{}/{}'.format(group_label,project_label,subject_label,session_label)\n",
    "lookup_string"
   ]
  },
  {
   "cell_type": "markdown",
   "metadata": {},
   "source": [
    "### Proceed with looking up the known session in the *Unsorted* project\n",
    "\n",
    "Create `session` object to lookup session of interest, you want to then confirm metadata is accurate!\n",
    "\n",
    "- For a helpful video overview on finding your data on Flywheel w/ Python-SDK, I strongly encourage you to visit here:\n",
    "https://docs.flywheel.io/hc/en-us/articles/360048440933-Webinar-Series-Finding-your-stuff-in-Flywheel-with-the-Python-SDK\n",
    "\n",
    "*TODO --> CONTACT UPENN FLYWHEEL ADMIN TEAM TO FIGURE OUT LAB PROJECTS!*"
   ]
  },
  {
   "cell_type": "code",
   "execution_count": null,
   "metadata": {
    "scrolled": true
   },
   "outputs": [],
   "source": [
    "#session = fw.lookup('{}'.format(lookup_string))\n",
    "session = fw.lookup('{group}/{proj}/{pid}'.format(group=group_label,proj=in_project,pid=ipID))\n",
    "session"
   ]
  },
  {
   "cell_type": "markdown",
   "metadata": {},
   "source": [
    "### Download the Flywheel Session tarball to FMRISrv\n",
    "\n",
    "- Once we have the tar zip we can then extract our dicoms to the network\n",
    "\n",
    "\n",
    "- *On running for Dr Lydon-Staley test subject, this tarball file is nearly 1GB*\n",
    "\n",
    "#### What about the `./working_data` directory? \n",
    "\n",
    "*TODO --> Where does working data directory go? Is that just in the jupyterhub environment? does the tarball get deleted after or saved to the network in raw data?* \n",
    "*working data is still here! -AR*"
   ]
  },
  {
   "cell_type": "code",
   "execution_count": null,
   "metadata": {},
   "outputs": [],
   "source": [
    "!mkdir working_data"
   ]
  },
  {
   "cell_type": "code",
   "execution_count": null,
   "metadata": {},
   "outputs": [],
   "source": [
    "fw.download_tar(session,'./working_data/{opID}.tar'.format(opID=opID))\n"
   ]
  },
  {
   "cell_type": "markdown",
   "metadata": {},
   "source": [
    "## Extract contents of Flywheel tar download:\n",
    "\n",
    "In the following cells, you will:\n",
    "\n",
    "1. Load tarball into jupyterhub notebook memory space\n",
    "\n",
    "2. Set your dicom out directory and confirm permissions\n",
    "\n",
    "3. Loop through tarball `.getmembers()` and then extract zipped dicoms\n",
    "\n",
    "### Load into Memory:"
   ]
  },
  {
   "cell_type": "code",
   "execution_count": null,
   "metadata": {},
   "outputs": [],
   "source": [
    "f = open(\"working_data/{opID}.tar\".format(opID=opID), 'rb') # <--- Flywheel download as Read Bytes\n",
    "print ('Opening tar in memory as:',f,'\\n')\n",
    "tar_data = tarfile.open(fileobj=f, mode='r:') # <--- Unpack tar in memory"
   ]
  },
  {
   "cell_type": "markdown",
   "metadata": {},
   "source": [
    "### Set and Create your Out Directory:\n",
    "\n",
    "- Jupyterhub does not respect secondary group permissions... so when I create a directory it's default to FMRISrvUser1@asc.upenn.edu instead of FMRISrvAHAUsers@asc.upenn.edu ... will manually correct"
   ]
  },
  {
   "cell_type": "code",
   "execution_count": null,
   "metadata": {},
   "outputs": [],
   "source": [
    "output_dicom_dir = '{outpath}/{opID}/'.format(outpath=outpath,opID=opID)\n",
    "print(output_dicom_dir)"
   ]
  },
  {
   "cell_type": "code",
   "execution_count": null,
   "metadata": {},
   "outputs": [],
   "source": [
    "# Create the directory if not exist\n",
    "if not os.path.exists(os.path.dirname(output_dicom_dir)):\n",
    "    try:\n",
    "        print('makedirs --> {}'.format(output_dicom_dir))\n",
    "        os.makedirs(os.path.dirname(output_dicom_dir))\n",
    "    except:\n",
    "        print('oops! failed to create --> {}'.format(output_dicom_dir))        "
   ]
  },
  {
   "cell_type": "markdown",
   "metadata": {},
   "source": [
    "## Confirm permissions for out directory\n",
    "\n",
    "### Had to make the outdir permission 777 -R\n",
    "\n",
    "- Secondary group permission is not respected in jhub so I had to manually change for my user created folder ... \n",
    "\n",
    "```bash\n",
    "sudo chgrp fmrisrvahausers@asc.upenn.edu -R /AHAData/fmri_data_raw/\n",
    "```"
   ]
  },
  {
   "cell_type": "code",
   "execution_count": null,
   "metadata": {},
   "outputs": [],
   "source": [
    "ls -la $output_dicom_dir"
   ]
  },
  {
   "cell_type": "markdown",
   "metadata": {},
   "source": [
    "## EXTRACT YOUR TARBALL DICOM TO FMRISRV NETWORK STORAGE"
   ]
  },
  {
   "cell_type": "code",
   "execution_count": null,
   "metadata": {},
   "outputs": [],
   "source": [
    "for member in tar_data.getmembers():\n",
    "    \n",
    "    if 'dicom.zip' in member.name:       # <--- Only extract files with 'dicom.zip' \n",
    "        \n",
    "        print('Extracting: {}\\n'.format(member.name))\n",
    "        \n",
    "        tfile = tar_data.extractfile(member.name)\n",
    "        dicom_zip = zipfile.ZipFile(tfile, mode='r')\n",
    "        dicom_zip.extractall(output_dicom_dir)\n",
    "tar_data.close()"
   ]
  },
  {
   "cell_type": "markdown",
   "metadata": {},
   "source": [
    "### You have now successfully downloaded the dicom data from Flywheel to ASC servers\n",
    "\n",
    "- this goes to `/fmriDataRaw/fmri_data_raw/bbprime/BPP00/`"
   ]
  },
  {
   "cell_type": "code",
   "execution_count": 119,
   "metadata": {},
   "outputs": [
    {
     "data": {
      "text/plain": [
       "['1.3.12.2.1107.5.2.43.66044.2021080512571528606660516.0.0.0.dicom',\n",
       " '1.3.12.2.1107.5.2.43.66044.2021080512581939991561266.0.0.0.dicom',\n",
       " '1.3.12.2.1107.5.2.43.66044.2021080512582373350662367.0.0.0.dicom',\n",
       " '1.3.12.2.1107.5.2.43.66044.2021080512582373389062373.0.0.0.dicom',\n",
       " '1.3.12.2.1107.5.2.43.66044.2021080512582373410162377.0.0.0.dicom',\n",
       " '1.3.12.2.1107.5.2.43.66044.2021080513014931893163223.0.0.0.dicom',\n",
       " '1.3.12.2.1107.5.2.43.66044.2021080513190841242164653.0.0.0.dicom',\n",
       " '1.3.12.2.1107.5.2.43.66044.2021080513270887350458671.0.0.0.dicom',\n",
       " '1.3.12.2.1107.5.2.43.66044.2021080513271927378459079.0.0.0.dicom',\n",
       " '1.3.12.2.1107.5.2.43.66044.2021080513361889387753097.0.0.0.dicom',\n",
       " '1.3.12.2.1107.5.2.43.66044.2021080513362938632153505.0.0.0.dicom',\n",
       " '1.3.12.2.1107.5.2.43.66044.2021080513451211828847523.0.0.0.dicom',\n",
       " '1.3.12.2.1107.5.2.43.66044.30000021080414490281300000161.dicom']"
      ]
     },
     "execution_count": 119,
     "metadata": {},
     "output_type": "execute_result"
    }
   ],
   "source": [
    "os.listdir('{}'.format(output_dicom_dir))\n"
   ]
  },
  {
   "cell_type": "markdown",
   "metadata": {},
   "source": [
    "## Delete .tar files?\n",
    "\n",
    "If you would like to delete the .tar files, open the terminal, navigate to this directory, and enter the following code to recursively empty the .tar folder. You can either keep these or download them again as needed from flywheel. *BE CAREFUL* Make sure you are pointing to the correct directory! This will recursively delete every file in a directory!\n",
    "\n",
    "```python\n",
    "rm -r [path/to/DICOMS/working_data/]\n",
    "```"
   ]
  }
 ],
 "metadata": {
  "kernelspec": {
   "display_name": "Python 3",
   "language": "python",
   "name": "python3"
  },
  "language_info": {
   "codemirror_mode": {
    "name": "ipython",
    "version": 3
   },
   "file_extension": ".py",
   "mimetype": "text/x-python",
   "name": "python",
   "nbconvert_exporter": "python",
   "pygments_lexer": "ipython3",
   "version": "3.7.4"
  },
  "varInspector": {
   "cols": {
    "lenName": 16,
    "lenType": 16,
    "lenVar": 40
   },
   "kernels_config": {
    "python": {
     "delete_cmd_postfix": "",
     "delete_cmd_prefix": "del ",
     "library": "var_list.py",
     "varRefreshCmd": "print(var_dic_list())"
    },
    "r": {
     "delete_cmd_postfix": ") ",
     "delete_cmd_prefix": "rm(",
     "library": "var_list.r",
     "varRefreshCmd": "cat(var_dic_list()) "
    }
   },
   "types_to_exclude": [
    "module",
    "function",
    "builtin_function_or_method",
    "instance",
    "_Feature"
   ],
   "window_display": false
  }
 },
 "nbformat": 4,
 "nbformat_minor": 2
}
